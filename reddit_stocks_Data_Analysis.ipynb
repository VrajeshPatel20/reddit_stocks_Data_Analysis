{
  "nbformat": 4,
  "nbformat_minor": 0,
  "metadata": {
    "kernelspec": {
      "display_name": "Python 3",
      "language": "python",
      "name": "python3"
    },
    "language_info": {
      "codemirror_mode": {
        "name": "ipython",
        "version": 3
      },
      "file_extension": ".py",
      "mimetype": "text/x-python",
      "name": "python",
      "nbconvert_exporter": "python",
      "pygments_lexer": "ipython3",
      "version": "3.7.6"
    },
    "colab": {
      "name": "blank-starter.ipynb",
      "provenance": [],
      "include_colab_link": true
    }
  },
  "cells": [
    {
      "cell_type": "markdown",
      "metadata": {
        "id": "view-in-github",
        "colab_type": "text"
      },
      "source": [
        "<a href=\"https://colab.research.google.com/github/VrajeshPatel20/reddit_stocks_Data_Analysis/blob/main/reddit_stocks_Data_Analysis.ipynb\" target=\"_parent\"><img src=\"https://colab.research.google.com/assets/colab-badge.svg\" alt=\"Open In Colab\"/></a>"
      ]
    },
    {
      "cell_type": "code",
      "metadata": {
        "colab": {
          "base_uri": "https://localhost:8080/"
        },
        "id": "-9ClutWNTIaZ",
        "outputId": "f3f9a3bc-76a2-43db-b119-5e9ed613dca9"
      },
      "source": [
        "# Jovian Commit Essentials\n",
        "# Please retain and execute this cell without modifying the contents for `jovian.commit` to work\n",
        "!pip install jovian --upgrade -q\n",
        "import jovian\n",
        "jovian.set_project('reddit')\n",
        "jovian.set_colab_id('1KJ3jiJedv4URC-V21gcc_EPeMdVwmBzW')"
      ],
      "execution_count": 1,
      "outputs": [
        {
          "output_type": "stream",
          "text": [
            "\u001b[?25l\r\u001b[K     |████▉                           | 10kB 19.3MB/s eta 0:00:01\r\u001b[K     |█████████▊                      | 20kB 23.4MB/s eta 0:00:01\r\u001b[K     |██████████████▌                 | 30kB 15.9MB/s eta 0:00:01\r\u001b[K     |███████████████████▍            | 40kB 11.4MB/s eta 0:00:01\r\u001b[K     |████████████████████████▏       | 51kB 9.6MB/s eta 0:00:01\r\u001b[K     |█████████████████████████████   | 61kB 10.0MB/s eta 0:00:01\r\u001b[K     |████████████████████████████████| 71kB 4.5MB/s \n",
            "\u001b[?25h  Building wheel for uuid (setup.py) ... \u001b[?25l\u001b[?25hdone\n"
          ],
          "name": "stdout"
        }
      ]
    },
    {
      "cell_type": "code",
      "metadata": {
        "id": "YX0pJsbJTIae"
      },
      "source": [
        "!pip install jovian --upgrade --quiet"
      ],
      "execution_count": 2,
      "outputs": []
    },
    {
      "cell_type": "code",
      "metadata": {
        "id": "mgRpm0GpTeze"
      },
      "source": [
        "!pip install jovian opendatasets --upgrade --quiet"
      ],
      "execution_count": 73,
      "outputs": []
    },
    {
      "cell_type": "code",
      "metadata": {
        "id": "MZ6xoWp8TIae"
      },
      "source": [
        "import jovian \r\n",
        "import opendatasets as od\r\n",
        "import numpy as np\r\n",
        "import matplotlib.pyplot as plt\r\n",
        "import seaborn as sns\r\n",
        "import pandas"
      ],
      "execution_count": 79,
      "outputs": []
    },
    {
      "cell_type": "code",
      "metadata": {
        "id": "lbDmVt-wUf3A"
      },
      "source": [
        "import pandas as pd\r\n",
        "\r\n",
        "import plotly.graph_objs as go"
      ],
      "execution_count": 75,
      "outputs": []
    },
    {
      "cell_type": "code",
      "metadata": {
        "colab": {
          "base_uri": "https://localhost:8080/"
        },
        "id": "5QQqcG-eTsjs",
        "outputId": "a205f8e8-f79e-4db6-ddc1-c288ad43a7c8"
      },
      "source": [
        "data_path = 'https://www.kaggle.com/yorkehead/stock-market-subreddits'\r\n",
        "os.download(data_path)"
      ],
      "execution_count": 9,
      "outputs": [
        {
          "output_type": "stream",
          "text": [
            "Please provide your Kaggle credentials to download this dataset. Learn more: http://bit.ly/kaggle-creds\n",
            "Your Kaggle username: vrajeshpatel0\n",
            "Your Kaggle Key: ··········\n"
          ],
          "name": "stdout"
        },
        {
          "output_type": "stream",
          "text": [
            "100%|██████████| 1.30M/1.30M [00:00<00:00, 110MB/s]"
          ],
          "name": "stderr"
        },
        {
          "output_type": "stream",
          "text": [
            "Downloading stock-market-subreddits.zip to ./stock-market-subreddits\n",
            "\n"
          ],
          "name": "stdout"
        },
        {
          "output_type": "stream",
          "text": [
            "\n"
          ],
          "name": "stderr"
        }
      ]
    },
    {
      "cell_type": "code",
      "metadata": {
        "colab": {
          "base_uri": "https://localhost:8080/"
        },
        "id": "fsZyYCPScCZI",
        "outputId": "39b03d8b-5581-4027-97ea-a0c29769f51b"
      },
      "source": [
        "data_path0 = 'https://www.kaggle.com/minatverma/nse-stocks-data'\r\n",
        "od.download(data_path0)"
      ],
      "execution_count": 81,
      "outputs": [
        {
          "output_type": "stream",
          "text": [
            "Please provide your Kaggle credentials to download this dataset. Learn more: http://bit.ly/kaggle-creds\n",
            "Your Kaggle username: vrajeshpatel0\n",
            "Your Kaggle Key: ··········\n"
          ],
          "name": "stdout"
        },
        {
          "output_type": "stream",
          "text": [
            " 17%|█▋        | 5.00M/29.9M [00:00<00:00, 29.9MB/s]"
          ],
          "name": "stderr"
        },
        {
          "output_type": "stream",
          "text": [
            "Downloading nse-stocks-data.zip to ./nse-stocks-data\n"
          ],
          "name": "stdout"
        },
        {
          "output_type": "stream",
          "text": [
            "100%|██████████| 29.9M/29.9M [00:00<00:00, 65.7MB/s]\n"
          ],
          "name": "stderr"
        },
        {
          "output_type": "stream",
          "text": [
            "\n"
          ],
          "name": "stdout"
        }
      ]
    },
    {
      "cell_type": "code",
      "metadata": {
        "id": "QX_LPnlQdNM-"
      },
      "source": [
        "data_dir0 = './nse-stocks-data'"
      ],
      "execution_count": 82,
      "outputs": []
    },
    {
      "cell_type": "code",
      "metadata": {
        "id": "4J7-ySFsUBmL"
      },
      "source": [
        "data_dir = './stock-market-subreddits'"
      ],
      "execution_count": 10,
      "outputs": []
    },
    {
      "cell_type": "code",
      "metadata": {
        "colab": {
          "base_uri": "https://localhost:8080/"
        },
        "id": "TlBNuY5PUPTv",
        "outputId": "44ce98cb-b8b1-46e1-bc9e-2e25ff6c5d14"
      },
      "source": [
        "import os\r\n",
        "os.listdir(data_dir)"
      ],
      "execution_count": 11,
      "outputs": [
        {
          "output_type": "execute_result",
          "data": {
            "text/plain": [
              "['reddit.csv']"
            ]
          },
          "metadata": {
            "tags": []
          },
          "execution_count": 11
        }
      ]
    },
    {
      "cell_type": "code",
      "metadata": {
        "colab": {
          "base_uri": "https://localhost:8080/"
        },
        "id": "fSdlGspUdcDn",
        "outputId": "2850eb62-2467-42a6-8549-546e03f6ea43"
      },
      "source": [
        "os.listdir(data_dir0)"
      ],
      "execution_count": 83,
      "outputs": [
        {
          "output_type": "execute_result",
          "data": {
            "text/plain": [
              "['FINAL_FROM_DF.csv']"
            ]
          },
          "metadata": {
            "tags": []
          },
          "execution_count": 83
        }
      ]
    },
    {
      "cell_type": "code",
      "metadata": {
        "id": "7G-lIOKpUY_B"
      },
      "source": [
        "reddit_df = pd.read_csv('./stock-market-subreddits/reddit.csv')"
      ],
      "execution_count": 13,
      "outputs": []
    },
    {
      "cell_type": "code",
      "metadata": {
        "id": "ZHLKuIcddfzv"
      },
      "source": [
        "stocks_df = pd.read_csv('./nse-stocks-data/FINAL_FROM_DF.csv')"
      ],
      "execution_count": 86,
      "outputs": []
    },
    {
      "cell_type": "code",
      "metadata": {
        "colab": {
          "base_uri": "https://localhost:8080/",
          "height": 771
        },
        "id": "pyt6XNSnUqpO",
        "outputId": "432fa0ff-23a5-43d0-bb21-f11074a3feb6"
      },
      "source": [
        "reddit_df"
      ],
      "execution_count": 14,
      "outputs": [
        {
          "output_type": "execute_result",
          "data": {
            "text/html": [
              "<div>\n",
              "<style scoped>\n",
              "    .dataframe tbody tr th:only-of-type {\n",
              "        vertical-align: middle;\n",
              "    }\n",
              "\n",
              "    .dataframe tbody tr th {\n",
              "        vertical-align: top;\n",
              "    }\n",
              "\n",
              "    .dataframe thead th {\n",
              "        text-align: right;\n",
              "    }\n",
              "</style>\n",
              "<table border=\"1\" class=\"dataframe\">\n",
              "  <thead>\n",
              "    <tr style=\"text-align: right;\">\n",
              "      <th></th>\n",
              "      <th>title</th>\n",
              "      <th>score</th>\n",
              "      <th>subreddit</th>\n",
              "      <th>url</th>\n",
              "      <th>num_comments</th>\n",
              "      <th>body</th>\n",
              "      <th>date</th>\n",
              "    </tr>\n",
              "  </thead>\n",
              "  <tbody>\n",
              "    <tr>\n",
              "      <th>0</th>\n",
              "      <td>UPVOTE so everyone sees we got SUPPORT</td>\n",
              "      <td>265029</td>\n",
              "      <td>wallstreetbets</td>\n",
              "      <td>https://i.redd.it/sgoqy8nyt2e61.png</td>\n",
              "      <td>11825</td>\n",
              "      <td>NaN</td>\n",
              "      <td>2021-01-29 00:40:34</td>\n",
              "    </tr>\n",
              "    <tr>\n",
              "      <th>1</th>\n",
              "      <td>GME YOLO update — Jan 28 2021</td>\n",
              "      <td>230844</td>\n",
              "      <td>wallstreetbets</td>\n",
              "      <td>https://i.redd.it/opzucppb15e61.png</td>\n",
              "      <td>23532</td>\n",
              "      <td>NaN</td>\n",
              "      <td>2021-01-29 08:06:23</td>\n",
              "    </tr>\n",
              "    <tr>\n",
              "      <th>2</th>\n",
              "      <td>CLASS ACTION AGAINST ROBINHOOD. Allowing peopl...</td>\n",
              "      <td>204920</td>\n",
              "      <td>wallstreetbets</td>\n",
              "      <td>https://www.reddit.com/r/wallstreetbets/commen...</td>\n",
              "      <td>18318</td>\n",
              "      <td>LEAVE ROBINHOOD. They dont deserve to make mon...</td>\n",
              "      <td>2021-01-29 00:49:11</td>\n",
              "    </tr>\n",
              "    <tr>\n",
              "      <th>3</th>\n",
              "      <td>GME YOLO update — Jan 27 2021 ----------------...</td>\n",
              "      <td>185949</td>\n",
              "      <td>wallstreetbets</td>\n",
              "      <td>https://i.redd.it/a309gkm5yxd61.png</td>\n",
              "      <td>15495</td>\n",
              "      <td>NaN</td>\n",
              "      <td>2021-01-28 08:15:35</td>\n",
              "    </tr>\n",
              "    <tr>\n",
              "      <th>4</th>\n",
              "      <td>Can we all take a moment and appreciate the Mo...</td>\n",
              "      <td>184517</td>\n",
              "      <td>wallstreetbets</td>\n",
              "      <td>https://www.reddit.com/r/wallstreetbets/commen...</td>\n",
              "      <td>7105</td>\n",
              "      <td>NaN</td>\n",
              "      <td>2021-01-28 11:57:32</td>\n",
              "    </tr>\n",
              "    <tr>\n",
              "      <th>...</th>\n",
              "      <td>...</td>\n",
              "      <td>...</td>\n",
              "      <td>...</td>\n",
              "      <td>...</td>\n",
              "      <td>...</td>\n",
              "      <td>...</td>\n",
              "      <td>...</td>\n",
              "    </tr>\n",
              "    <tr>\n",
              "      <th>2920</th>\n",
              "      <td>DID WE MISS THE BOTTOM?! How are people this i...</td>\n",
              "      <td>348</td>\n",
              "      <td>stocks</td>\n",
              "      <td>https://www.reddit.com/r/stocks/comments/g1m6u...</td>\n",
              "      <td>283</td>\n",
              "      <td>My mind is blown that so many people are convi...</td>\n",
              "      <td>2020-04-15 17:03:23</td>\n",
              "    </tr>\n",
              "    <tr>\n",
              "      <th>2921</th>\n",
              "      <td>Favorite Solar Stock(s)?</td>\n",
              "      <td>348</td>\n",
              "      <td>stocks</td>\n",
              "      <td>https://www.reddit.com/r/stocks/comments/jmct3...</td>\n",
              "      <td>176</td>\n",
              "      <td>Hey there, I was wondering what everyone's pre...</td>\n",
              "      <td>2020-11-02 10:46:49</td>\n",
              "    </tr>\n",
              "    <tr>\n",
              "      <th>2922</th>\n",
              "      <td>\"NIO forms battery asset company\"</td>\n",
              "      <td>352</td>\n",
              "      <td>stocks</td>\n",
              "      <td>https://www.reddit.com/r/stocks/comments/id8z3...</td>\n",
              "      <td>102</td>\n",
              "      <td>Nio has now launched \"baas\" they places over 1...</td>\n",
              "      <td>2020-08-20 23:02:48</td>\n",
              "    </tr>\n",
              "    <tr>\n",
              "      <th>2923</th>\n",
              "      <td>Amazon is building a $1.5 billion hub for its ...</td>\n",
              "      <td>349</td>\n",
              "      <td>stocks</td>\n",
              "      <td>https://www.reddit.com/r/stocks/comments/5rghg...</td>\n",
              "      <td>145</td>\n",
              "      <td>Need another sign that Amazon is dead serious ...</td>\n",
              "      <td>2017-02-02 03:35:04</td>\n",
              "    </tr>\n",
              "    <tr>\n",
              "      <th>2924</th>\n",
              "      <td>Weed legalized in Canada!</td>\n",
              "      <td>356</td>\n",
              "      <td>stocks</td>\n",
              "      <td>https://www.reddit.com/r/stocks/comments/8skaf...</td>\n",
              "      <td>138</td>\n",
              "      <td>What are you guys thinking about this move, I ...</td>\n",
              "      <td>2018-06-21 04:38:32</td>\n",
              "    </tr>\n",
              "  </tbody>\n",
              "</table>\n",
              "<p>2925 rows × 7 columns</p>\n",
              "</div>"
            ],
            "text/plain": [
              "                                                  title  ...                 date\n",
              "0                UPVOTE so everyone sees we got SUPPORT  ...  2021-01-29 00:40:34\n",
              "1                         GME YOLO update — Jan 28 2021  ...  2021-01-29 08:06:23\n",
              "2     CLASS ACTION AGAINST ROBINHOOD. Allowing peopl...  ...  2021-01-29 00:49:11\n",
              "3     GME YOLO update — Jan 27 2021 ----------------...  ...  2021-01-28 08:15:35\n",
              "4     Can we all take a moment and appreciate the Mo...  ...  2021-01-28 11:57:32\n",
              "...                                                 ...  ...                  ...\n",
              "2920  DID WE MISS THE BOTTOM?! How are people this i...  ...  2020-04-15 17:03:23\n",
              "2921                           Favorite Solar Stock(s)?  ...  2020-11-02 10:46:49\n",
              "2922                  \"NIO forms battery asset company\"  ...  2020-08-20 23:02:48\n",
              "2923  Amazon is building a $1.5 billion hub for its ...  ...  2017-02-02 03:35:04\n",
              "2924                          Weed legalized in Canada!  ...  2018-06-21 04:38:32\n",
              "\n",
              "[2925 rows x 7 columns]"
            ]
          },
          "metadata": {
            "tags": []
          },
          "execution_count": 14
        }
      ]
    },
    {
      "cell_type": "code",
      "metadata": {
        "colab": {
          "base_uri": "https://localhost:8080/"
        },
        "id": "k2ZSYKooUvWQ",
        "outputId": "5084b18c-8f37-405a-d917-c0b250c9f9c9"
      },
      "source": [
        "reddit_df.isnull().sum()"
      ],
      "execution_count": 15,
      "outputs": [
        {
          "output_type": "execute_result",
          "data": {
            "text/plain": [
              "title             0\n",
              "score             0\n",
              "subreddit         0\n",
              "url               0\n",
              "num_comments      0\n",
              "body            849\n",
              "date              0\n",
              "dtype: int64"
            ]
          },
          "metadata": {
            "tags": []
          },
          "execution_count": 15
        }
      ]
    },
    {
      "cell_type": "code",
      "metadata": {
        "colab": {
          "base_uri": "https://localhost:8080/",
          "height": 590
        },
        "id": "8NCNERQ9dvpK",
        "outputId": "cbbc7dd0-0596-4480-b350-f124aa267e9b"
      },
      "source": [
        "stocks_df"
      ],
      "execution_count": 87,
      "outputs": [
        {
          "output_type": "execute_result",
          "data": {
            "text/html": [
              "<div>\n",
              "<style scoped>\n",
              "    .dataframe tbody tr th:only-of-type {\n",
              "        vertical-align: middle;\n",
              "    }\n",
              "\n",
              "    .dataframe tbody tr th {\n",
              "        vertical-align: top;\n",
              "    }\n",
              "\n",
              "    .dataframe thead th {\n",
              "        text-align: right;\n",
              "    }\n",
              "</style>\n",
              "<table border=\"1\" class=\"dataframe\">\n",
              "  <thead>\n",
              "    <tr style=\"text-align: right;\">\n",
              "      <th></th>\n",
              "      <th>SYMBOL</th>\n",
              "      <th>SERIES</th>\n",
              "      <th>OPEN</th>\n",
              "      <th>HIGH</th>\n",
              "      <th>LOW</th>\n",
              "      <th>CLOSE</th>\n",
              "      <th>LAST</th>\n",
              "      <th>PREVCLOSE</th>\n",
              "      <th>TOTTRDQTY</th>\n",
              "      <th>TOTTRDVAL</th>\n",
              "      <th>TIMESTAMP</th>\n",
              "      <th>TOTALTRADES</th>\n",
              "      <th>ISIN</th>\n",
              "    </tr>\n",
              "  </thead>\n",
              "  <tbody>\n",
              "    <tr>\n",
              "      <th>0</th>\n",
              "      <td>20MICRONS</td>\n",
              "      <td>EQ</td>\n",
              "      <td>37.80</td>\n",
              "      <td>37.80</td>\n",
              "      <td>36.15</td>\n",
              "      <td>36.85</td>\n",
              "      <td>37.40</td>\n",
              "      <td>37.05</td>\n",
              "      <td>27130</td>\n",
              "      <td>994657.90</td>\n",
              "      <td>2017-06-28</td>\n",
              "      <td>202</td>\n",
              "      <td>INE144J01027</td>\n",
              "    </tr>\n",
              "    <tr>\n",
              "      <th>1</th>\n",
              "      <td>3IINFOTECH</td>\n",
              "      <td>EQ</td>\n",
              "      <td>4.10</td>\n",
              "      <td>4.85</td>\n",
              "      <td>4.00</td>\n",
              "      <td>4.55</td>\n",
              "      <td>4.65</td>\n",
              "      <td>4.05</td>\n",
              "      <td>20157058</td>\n",
              "      <td>92148517.65</td>\n",
              "      <td>2017-06-28</td>\n",
              "      <td>7353</td>\n",
              "      <td>INE748C01020</td>\n",
              "    </tr>\n",
              "    <tr>\n",
              "      <th>2</th>\n",
              "      <td>3MINDIA</td>\n",
              "      <td>EQ</td>\n",
              "      <td>13425.15</td>\n",
              "      <td>13469.55</td>\n",
              "      <td>12920.00</td>\n",
              "      <td>13266.70</td>\n",
              "      <td>13300.00</td>\n",
              "      <td>13460.55</td>\n",
              "      <td>2290</td>\n",
              "      <td>30304923.35</td>\n",
              "      <td>2017-06-28</td>\n",
              "      <td>748</td>\n",
              "      <td>INE470A01017</td>\n",
              "    </tr>\n",
              "    <tr>\n",
              "      <th>3</th>\n",
              "      <td>63MOONS</td>\n",
              "      <td>EQ</td>\n",
              "      <td>61.00</td>\n",
              "      <td>61.90</td>\n",
              "      <td>60.35</td>\n",
              "      <td>61.00</td>\n",
              "      <td>61.10</td>\n",
              "      <td>60.65</td>\n",
              "      <td>27701</td>\n",
              "      <td>1689421.00</td>\n",
              "      <td>2017-06-28</td>\n",
              "      <td>437</td>\n",
              "      <td>INE111B01023</td>\n",
              "    </tr>\n",
              "    <tr>\n",
              "      <th>4</th>\n",
              "      <td>8KMILES</td>\n",
              "      <td>EQ</td>\n",
              "      <td>546.10</td>\n",
              "      <td>548.00</td>\n",
              "      <td>535.00</td>\n",
              "      <td>537.45</td>\n",
              "      <td>535.20</td>\n",
              "      <td>547.45</td>\n",
              "      <td>79722</td>\n",
              "      <td>43208620.05</td>\n",
              "      <td>2017-06-28</td>\n",
              "      <td>1866</td>\n",
              "      <td>INE650K01021</td>\n",
              "    </tr>\n",
              "    <tr>\n",
              "      <th>...</th>\n",
              "      <td>...</td>\n",
              "      <td>...</td>\n",
              "      <td>...</td>\n",
              "      <td>...</td>\n",
              "      <td>...</td>\n",
              "      <td>...</td>\n",
              "      <td>...</td>\n",
              "      <td>...</td>\n",
              "      <td>...</td>\n",
              "      <td>...</td>\n",
              "      <td>...</td>\n",
              "      <td>...</td>\n",
              "      <td>...</td>\n",
              "    </tr>\n",
              "    <tr>\n",
              "      <th>846399</th>\n",
              "      <td>ZOTA</td>\n",
              "      <td>SM</td>\n",
              "      <td>221.00</td>\n",
              "      <td>221.00</td>\n",
              "      <td>214.00</td>\n",
              "      <td>217.00</td>\n",
              "      <td>217.00</td>\n",
              "      <td>220.00</td>\n",
              "      <td>14000</td>\n",
              "      <td>3041550.00</td>\n",
              "      <td>2017-12-29</td>\n",
              "      <td>14</td>\n",
              "      <td>INE358U01012</td>\n",
              "    </tr>\n",
              "    <tr>\n",
              "      <th>846400</th>\n",
              "      <td>ZUARI</td>\n",
              "      <td>EQ</td>\n",
              "      <td>562.00</td>\n",
              "      <td>562.00</td>\n",
              "      <td>549.55</td>\n",
              "      <td>550.80</td>\n",
              "      <td>552.00</td>\n",
              "      <td>556.80</td>\n",
              "      <td>105184</td>\n",
              "      <td>58163061.60</td>\n",
              "      <td>2017-12-29</td>\n",
              "      <td>2218</td>\n",
              "      <td>INE840M01016</td>\n",
              "    </tr>\n",
              "    <tr>\n",
              "      <th>846401</th>\n",
              "      <td>ZUARIGLOB</td>\n",
              "      <td>EQ</td>\n",
              "      <td>255.50</td>\n",
              "      <td>258.40</td>\n",
              "      <td>252.50</td>\n",
              "      <td>253.25</td>\n",
              "      <td>253.00</td>\n",
              "      <td>254.10</td>\n",
              "      <td>90067</td>\n",
              "      <td>22968100.60</td>\n",
              "      <td>2017-12-29</td>\n",
              "      <td>2001</td>\n",
              "      <td>INE217A01012</td>\n",
              "    </tr>\n",
              "    <tr>\n",
              "      <th>846402</th>\n",
              "      <td>ZYDUSWELL</td>\n",
              "      <td>EQ</td>\n",
              "      <td>1038.00</td>\n",
              "      <td>1068.00</td>\n",
              "      <td>1033.00</td>\n",
              "      <td>1043.20</td>\n",
              "      <td>1035.00</td>\n",
              "      <td>1023.10</td>\n",
              "      <td>28601</td>\n",
              "      <td>29938840.10</td>\n",
              "      <td>2017-12-29</td>\n",
              "      <td>1401</td>\n",
              "      <td>INE768C01010</td>\n",
              "    </tr>\n",
              "    <tr>\n",
              "      <th>846403</th>\n",
              "      <td>ZYLOG</td>\n",
              "      <td>EQ</td>\n",
              "      <td>4.30</td>\n",
              "      <td>5.15</td>\n",
              "      <td>4.30</td>\n",
              "      <td>4.65</td>\n",
              "      <td>4.60</td>\n",
              "      <td>4.40</td>\n",
              "      <td>732051</td>\n",
              "      <td>3495213.70</td>\n",
              "      <td>2017-12-29</td>\n",
              "      <td>845</td>\n",
              "      <td>INE225I01026</td>\n",
              "    </tr>\n",
              "  </tbody>\n",
              "</table>\n",
              "<p>846404 rows × 13 columns</p>\n",
              "</div>"
            ],
            "text/plain": [
              "            SYMBOL SERIES      OPEN  ...   TIMESTAMP  TOTALTRADES          ISIN\n",
              "0        20MICRONS     EQ     37.80  ...  2017-06-28          202  INE144J01027\n",
              "1       3IINFOTECH     EQ      4.10  ...  2017-06-28         7353  INE748C01020\n",
              "2          3MINDIA     EQ  13425.15  ...  2017-06-28          748  INE470A01017\n",
              "3          63MOONS     EQ     61.00  ...  2017-06-28          437  INE111B01023\n",
              "4          8KMILES     EQ    546.10  ...  2017-06-28         1866  INE650K01021\n",
              "...            ...    ...       ...  ...         ...          ...           ...\n",
              "846399        ZOTA     SM    221.00  ...  2017-12-29           14  INE358U01012\n",
              "846400       ZUARI     EQ    562.00  ...  2017-12-29         2218  INE840M01016\n",
              "846401   ZUARIGLOB     EQ    255.50  ...  2017-12-29         2001  INE217A01012\n",
              "846402   ZYDUSWELL     EQ   1038.00  ...  2017-12-29         1401  INE768C01010\n",
              "846403       ZYLOG     EQ      4.30  ...  2017-12-29          845  INE225I01026\n",
              "\n",
              "[846404 rows x 13 columns]"
            ]
          },
          "metadata": {
            "tags": []
          },
          "execution_count": 87
        }
      ]
    },
    {
      "cell_type": "code",
      "metadata": {
        "colab": {
          "base_uri": "https://localhost:8080/",
          "height": 47
        },
        "id": "Ij5GkIbRfNww",
        "outputId": "489f1726-1ba5-47de-c3f5-c34eae9a22f5"
      },
      "source": [
        "stocks_df.loc[stocks_df.SYMBOL=='GME']"
      ],
      "execution_count": 108,
      "outputs": [
        {
          "output_type": "execute_result",
          "data": {
            "text/html": [
              "<div>\n",
              "<style scoped>\n",
              "    .dataframe tbody tr th:only-of-type {\n",
              "        vertical-align: middle;\n",
              "    }\n",
              "\n",
              "    .dataframe tbody tr th {\n",
              "        vertical-align: top;\n",
              "    }\n",
              "\n",
              "    .dataframe thead th {\n",
              "        text-align: right;\n",
              "    }\n",
              "</style>\n",
              "<table border=\"1\" class=\"dataframe\">\n",
              "  <thead>\n",
              "    <tr style=\"text-align: right;\">\n",
              "      <th></th>\n",
              "      <th>SYMBOL</th>\n",
              "      <th>SERIES</th>\n",
              "      <th>OPEN</th>\n",
              "      <th>HIGH</th>\n",
              "      <th>LOW</th>\n",
              "      <th>CLOSE</th>\n",
              "      <th>LAST</th>\n",
              "      <th>PREVCLOSE</th>\n",
              "      <th>TOTTRDQTY</th>\n",
              "      <th>TOTTRDVAL</th>\n",
              "      <th>TIMESTAMP</th>\n",
              "      <th>TOTALTRADES</th>\n",
              "      <th>ISIN</th>\n",
              "    </tr>\n",
              "  </thead>\n",
              "  <tbody>\n",
              "  </tbody>\n",
              "</table>\n",
              "</div>"
            ],
            "text/plain": [
              "Empty DataFrame\n",
              "Columns: [SYMBOL, SERIES, OPEN, HIGH, LOW, CLOSE, LAST, PREVCLOSE, TOTTRDQTY, TOTTRDVAL, TIMESTAMP, TOTALTRADES, ISIN]\n",
              "Index: []"
            ]
          },
          "metadata": {
            "tags": []
          },
          "execution_count": 108
        }
      ]
    },
    {
      "cell_type": "code",
      "metadata": {
        "id": "ypHSuAWlU1_i"
      },
      "source": [
        "def data_cleaner_basic(data):\r\n",
        "  for i in data.columns:\r\n",
        "    if data[i].isnull().sum() > (0.5 * data.shape[0]):\r\n",
        "      data.drop(i,axis=1,inplace=True)\r\n"
      ],
      "execution_count": 16,
      "outputs": []
    },
    {
      "cell_type": "code",
      "metadata": {
        "id": "3EEeJMqYU3B-"
      },
      "source": [
        "data_cleaner_basic(reddit_df)"
      ],
      "execution_count": 17,
      "outputs": []
    },
    {
      "cell_type": "code",
      "metadata": {
        "id": "TF_u28hoU-76"
      },
      "source": [
        "subreddits = reddit_df.subreddit.unique().tolist()"
      ],
      "execution_count": 19,
      "outputs": []
    },
    {
      "cell_type": "code",
      "metadata": {
        "id": "y8ToCTpbd2mV"
      },
      "source": [
        "stock_names = stocks_df.SYMBOL.unique().tolist()"
      ],
      "execution_count": 88,
      "outputs": []
    },
    {
      "cell_type": "code",
      "metadata": {
        "colab": {
          "base_uri": "https://localhost:8080/"
        },
        "id": "MdA5Mp38U-0v",
        "outputId": "d528e6ab-a3bd-4bdb-86cd-91f9c9189646"
      },
      "source": [
        "subreddits"
      ],
      "execution_count": 20,
      "outputs": [
        {
          "output_type": "execute_result",
          "data": {
            "text/plain": [
              "['wallstreetbets', 'investing', 'stocks']"
            ]
          },
          "metadata": {
            "tags": []
          },
          "execution_count": 20
        }
      ]
    },
    {
      "cell_type": "code",
      "metadata": {
        "colab": {
          "base_uri": "https://localhost:8080/",
          "height": 738
        },
        "id": "77TKQaLPVogk",
        "outputId": "b96044ed-65fe-4617-c75d-1dddbeb9f06e"
      },
      "source": [
        "reddit_df.loc[reddit_df.subreddit==subreddits[1]]"
      ],
      "execution_count": 29,
      "outputs": [
        {
          "output_type": "execute_result",
          "data": {
            "text/html": [
              "<div>\n",
              "<style scoped>\n",
              "    .dataframe tbody tr th:only-of-type {\n",
              "        vertical-align: middle;\n",
              "    }\n",
              "\n",
              "    .dataframe tbody tr th {\n",
              "        vertical-align: top;\n",
              "    }\n",
              "\n",
              "    .dataframe thead th {\n",
              "        text-align: right;\n",
              "    }\n",
              "</style>\n",
              "<table border=\"1\" class=\"dataframe\">\n",
              "  <thead>\n",
              "    <tr style=\"text-align: right;\">\n",
              "      <th></th>\n",
              "      <th>title</th>\n",
              "      <th>score</th>\n",
              "      <th>subreddit</th>\n",
              "      <th>url</th>\n",
              "      <th>num_comments</th>\n",
              "      <th>body</th>\n",
              "      <th>date</th>\n",
              "    </tr>\n",
              "  </thead>\n",
              "  <tbody>\n",
              "    <tr>\n",
              "      <th>953</th>\n",
              "      <td>Robinhood and other brokers literally blocking...</td>\n",
              "      <td>18270</td>\n",
              "      <td>investing</td>\n",
              "      <td>https://www.reddit.com/r/investing/comments/l6...</td>\n",
              "      <td>3948</td>\n",
              "      <td>See title. Can't buy these stocks on RH, but c...</td>\n",
              "      <td>2021-01-29 00:42:17</td>\n",
              "    </tr>\n",
              "    <tr>\n",
              "      <th>954</th>\n",
              "      <td>Bernie Sanders unveils plan to raise corporate...</td>\n",
              "      <td>14366</td>\n",
              "      <td>investing</td>\n",
              "      <td>https://www.reddit.com/r/investing/comments/dh...</td>\n",
              "      <td>2514</td>\n",
              "      <td>Democratic presidential hopeful Bernie Sanders...</td>\n",
              "      <td>2019-10-15 05:26:05</td>\n",
              "    </tr>\n",
              "    <tr>\n",
              "      <th>955</th>\n",
              "      <td>United Airlines stock down over 5% premarket t...</td>\n",
              "      <td>13791</td>\n",
              "      <td>investing</td>\n",
              "      <td>https://www.reddit.com/r/investing/comments/64...</td>\n",
              "      <td>1022</td>\n",
              "      <td>http://www.marketwatch.com/story/uniteds-stock...</td>\n",
              "      <td>2017-04-11 21:39:46</td>\n",
              "    </tr>\n",
              "    <tr>\n",
              "      <th>956</th>\n",
              "      <td>Bitcoin was nearly $20,000 a year ago today</td>\n",
              "      <td>10612</td>\n",
              "      <td>investing</td>\n",
              "      <td>https://www.reddit.com/r/investing/comments/a6...</td>\n",
              "      <td>1949</td>\n",
              "      <td>It's always interesting looking at the past an...</td>\n",
              "      <td>2018-12-18 00:21:40</td>\n",
              "    </tr>\n",
              "    <tr>\n",
              "      <th>957</th>\n",
              "      <td>If in 2001, you bought $399 of Apple stock ins...</td>\n",
              "      <td>10500</td>\n",
              "      <td>investing</td>\n",
              "      <td>https://www.reddit.com/r/investing/comments/94...</td>\n",
              "      <td>707</td>\n",
              "      <td>NaN</td>\n",
              "      <td>2018-08-04 01:03:09</td>\n",
              "    </tr>\n",
              "    <tr>\n",
              "      <th>...</th>\n",
              "      <td>...</td>\n",
              "      <td>...</td>\n",
              "      <td>...</td>\n",
              "      <td>...</td>\n",
              "      <td>...</td>\n",
              "      <td>...</td>\n",
              "      <td>...</td>\n",
              "    </tr>\n",
              "    <tr>\n",
              "      <th>1935</th>\n",
              "      <td>does anyone here have friends and family still...</td>\n",
              "      <td>898</td>\n",
              "      <td>investing</td>\n",
              "      <td>https://www.reddit.com/r/investing/comments/ef...</td>\n",
              "      <td>609</td>\n",
              "      <td>i have a few friends who absolutely despise do...</td>\n",
              "      <td>2019-12-26 05:47:26</td>\n",
              "    </tr>\n",
              "    <tr>\n",
              "      <th>1936</th>\n",
              "      <td>Jobs growth soars in November as payrolls surg...</td>\n",
              "      <td>905</td>\n",
              "      <td>investing</td>\n",
              "      <td>https://www.reddit.com/r/investing/comments/e6...</td>\n",
              "      <td>496</td>\n",
              "      <td>https://www.cnbc.com/2019/12/06/us-nonfarm-pay...</td>\n",
              "      <td>2019-12-07 00:41:05</td>\n",
              "    </tr>\n",
              "    <tr>\n",
              "      <th>1937</th>\n",
              "      <td>Yale economists argue that \"the most financial...</td>\n",
              "      <td>894</td>\n",
              "      <td>investing</td>\n",
              "      <td>https://www.reddit.com/r/investing/comments/en...</td>\n",
              "      <td>400</td>\n",
              "      <td>https://papers.ssrn.com/sol3/papers.cfm?abstra...</td>\n",
              "      <td>2020-01-13 05:35:24</td>\n",
              "    </tr>\n",
              "    <tr>\n",
              "      <th>1938</th>\n",
              "      <td>Amazon earnings beat: $6.04 per share, vs. $5....</td>\n",
              "      <td>897</td>\n",
              "      <td>investing</td>\n",
              "      <td>https://www.reddit.com/r/investing/comments/al...</td>\n",
              "      <td>152</td>\n",
              "      <td>- EPS: $5.68 vs. $3.75 per share last year\\n\\n...</td>\n",
              "      <td>2019-02-01 08:04:51</td>\n",
              "    </tr>\n",
              "    <tr>\n",
              "      <th>1939</th>\n",
              "      <td>U.S. stocks plunge after report that former na...</td>\n",
              "      <td>890</td>\n",
              "      <td>investing</td>\n",
              "      <td>https://www.reddit.com/r/investing/comments/7g...</td>\n",
              "      <td>377</td>\n",
              "      <td>Bloomberg out on the wire with this new -\\nUS ...</td>\n",
              "      <td>2017-12-02 03:34:52</td>\n",
              "    </tr>\n",
              "  </tbody>\n",
              "</table>\n",
              "<p>987 rows × 7 columns</p>\n",
              "</div>"
            ],
            "text/plain": [
              "                                                  title  ...                 date\n",
              "953   Robinhood and other brokers literally blocking...  ...  2021-01-29 00:42:17\n",
              "954   Bernie Sanders unveils plan to raise corporate...  ...  2019-10-15 05:26:05\n",
              "955   United Airlines stock down over 5% premarket t...  ...  2017-04-11 21:39:46\n",
              "956         Bitcoin was nearly $20,000 a year ago today  ...  2018-12-18 00:21:40\n",
              "957   If in 2001, you bought $399 of Apple stock ins...  ...  2018-08-04 01:03:09\n",
              "...                                                 ...  ...                  ...\n",
              "1935  does anyone here have friends and family still...  ...  2019-12-26 05:47:26\n",
              "1936  Jobs growth soars in November as payrolls surg...  ...  2019-12-07 00:41:05\n",
              "1937  Yale economists argue that \"the most financial...  ...  2020-01-13 05:35:24\n",
              "1938  Amazon earnings beat: $6.04 per share, vs. $5....  ...  2019-02-01 08:04:51\n",
              "1939  U.S. stocks plunge after report that former na...  ...  2017-12-02 03:34:52\n",
              "\n",
              "[987 rows x 7 columns]"
            ]
          },
          "metadata": {
            "tags": []
          },
          "execution_count": 29
        }
      ]
    },
    {
      "cell_type": "code",
      "metadata": {
        "colab": {
          "base_uri": "https://localhost:8080/"
        },
        "id": "k9VxBUxrd-wq",
        "outputId": "03568c83-8363-46af-ec06-7d4df9d0b44b"
      },
      "source": [
        "stock_names"
      ],
      "execution_count": 89,
      "outputs": [
        {
          "output_type": "execute_result",
          "data": {
            "text/plain": [
              "['20MICRONS',\n",
              " '3IINFOTECH',\n",
              " '3MINDIA',\n",
              " '63MOONS',\n",
              " '8KMILES',\n",
              " 'A2ZINFRA',\n",
              " 'AARTIDRUGS',\n",
              " 'AARTIIND',\n",
              " 'AARVEEDEN',\n",
              " 'ABAN',\n",
              " 'ABB',\n",
              " 'ABBOTINDIA',\n",
              " 'ABFRL',\n",
              " 'ABGSHIP',\n",
              " 'ABIRLANUVO',\n",
              " 'ABMINTLTD',\n",
              " 'ACC',\n",
              " 'ACCELYA',\n",
              " 'ACE',\n",
              " 'ADANIENT',\n",
              " 'ADANIPORTS',\n",
              " 'ADANIPOWER',\n",
              " 'ADANITRANS',\n",
              " 'ADFFOODS',\n",
              " 'ADHUNIK',\n",
              " 'ADHUNIKIND',\n",
              " 'ADLABS',\n",
              " 'ADORWELD',\n",
              " 'ADSL',\n",
              " 'ADVANIHOTR',\n",
              " 'ADVENZYMES',\n",
              " 'AEGISCHEM',\n",
              " 'AFL',\n",
              " 'AGARIND',\n",
              " 'AGCNET',\n",
              " 'AGRITECH',\n",
              " 'AGROPHOS',\n",
              " 'AHLEAST',\n",
              " 'AHLUCONT',\n",
              " 'AHLWEST',\n",
              " 'AIAENG',\n",
              " 'AIFL',\n",
              " 'AIRAN',\n",
              " 'AJANTPHARM',\n",
              " 'AJMERA',\n",
              " 'AKASH',\n",
              " 'AKSHARCHEM',\n",
              " 'AKSHOPTFBR',\n",
              " 'AKZOINDIA',\n",
              " 'ALANKIT',\n",
              " 'ALBERTDAVD',\n",
              " 'ALBK',\n",
              " 'ALCHEM',\n",
              " 'ALEMBICLTD',\n",
              " 'ALICON',\n",
              " 'ALKALI',\n",
              " 'ALKEM',\n",
              " 'ALKYLAMINE',\n",
              " 'ALLCARGO',\n",
              " 'ALLSEC',\n",
              " 'ALMONDZ',\n",
              " 'ALOKTEXT',\n",
              " 'ALPA',\n",
              " 'ALPHAGEO',\n",
              " 'ALPSINDUS',\n",
              " 'AMARAJABAT',\n",
              " 'AMBIKCO',\n",
              " 'AMBUJACEM',\n",
              " 'AMDIND',\n",
              " 'AMRUTANJAN',\n",
              " 'AMTEKAUTO',\n",
              " 'ANANTRAJ',\n",
              " 'ANDHRABANK',\n",
              " 'ANDHRACEMT',\n",
              " 'ANDHRSUGAR',\n",
              " 'ANGIND',\n",
              " 'ANIKINDS',\n",
              " 'ANKITMETAL',\n",
              " 'ANSALAPI',\n",
              " 'ANSALHSG',\n",
              " 'ANTGRAPHIC',\n",
              " 'APARINDS',\n",
              " 'APCL',\n",
              " 'APCOTEXIND',\n",
              " 'APLAPOLLO',\n",
              " 'APLLTD',\n",
              " 'APOLLOHOSP',\n",
              " 'APOLLOTYRE',\n",
              " 'APOLSINHOT',\n",
              " 'APTECHT',\n",
              " 'ARCHIDPLY',\n",
              " 'ARCHIES',\n",
              " 'ARCOTECH',\n",
              " 'ARIES',\n",
              " 'ARIHANTSUP',\n",
              " 'ARMANFIN',\n",
              " 'AROGRANITE',\n",
              " 'ARROWGREEN',\n",
              " 'ARROWTEX',\n",
              " 'ARSHIYA',\n",
              " 'ARSSINFRA',\n",
              " 'ARVIND',\n",
              " 'ARVSMART',\n",
              " 'ASAHIINDIA',\n",
              " 'ASAHISONG',\n",
              " 'ASAL',\n",
              " 'ASHAPURMIN',\n",
              " 'ASHIANA',\n",
              " 'ASHIMASYN',\n",
              " 'ASHOKA',\n",
              " 'ASHOKLEY',\n",
              " 'ASIANHOTNR',\n",
              " 'ASIANPAINT',\n",
              " 'ASIANTILES',\n",
              " 'ASIL',\n",
              " 'ASPINWALL',\n",
              " 'ASSAMCO',\n",
              " 'ASTEC',\n",
              " 'ASTRAL',\n",
              " 'ASTRAMICRO',\n",
              " 'ASTRAZEN',\n",
              " 'ATFL',\n",
              " 'ATLANTA',\n",
              " 'ATLASCYCLE',\n",
              " 'ATUL',\n",
              " 'ATULAUTO',\n",
              " 'AURIONPRO',\n",
              " 'AUROPHARMA',\n",
              " 'AUSOMENT',\n",
              " 'AUSTRAL',\n",
              " 'AUTOAXLES',\n",
              " 'AUTOIND',\n",
              " 'AUTOLITIND',\n",
              " 'AVANTIFEED',\n",
              " 'AVTNPL',\n",
              " 'AXISBANK',\n",
              " 'AXISCADES',\n",
              " 'AXISGOLD',\n",
              " 'AYMSYNTEX',\n",
              " 'BAFNAPHARM',\n",
              " 'BAGFILMS',\n",
              " 'BAJAJ-AUTO',\n",
              " 'BAJAJCORP',\n",
              " 'BAJAJELEC',\n",
              " 'BAJAJFINSV',\n",
              " 'BAJAJHIND',\n",
              " 'BAJAJHLDNG',\n",
              " 'BAJFINANCE',\n",
              " 'BALAJITELE',\n",
              " 'BALAMINES',\n",
              " 'BALKRISHNA',\n",
              " 'BALKRISIND',\n",
              " 'BALLARPUR',\n",
              " 'BALMLAWRIE',\n",
              " 'BALPHARMA',\n",
              " 'BALRAMCHIN',\n",
              " 'BANARBEADS',\n",
              " 'BANARISUG',\n",
              " 'BANCOINDIA',\n",
              " 'BANG',\n",
              " 'BANKBARODA',\n",
              " 'BANKBEES',\n",
              " 'BANKINDIA',\n",
              " 'BANSWRAS',\n",
              " 'BARTRONICS',\n",
              " 'BASF',\n",
              " 'BASML',\n",
              " 'BATAINDIA',\n",
              " 'BAYERCROP',\n",
              " 'BBL',\n",
              " 'BBTC',\n",
              " 'BEARDSELL',\n",
              " 'BEDMUTHA',\n",
              " 'BEL',\n",
              " 'BEML',\n",
              " 'BEPL',\n",
              " 'BERGEPAINT',\n",
              " 'BFINVEST',\n",
              " 'BFUTILITIE',\n",
              " 'BGLOBAL',\n",
              " 'BGRENERGY',\n",
              " 'BHAGERIA',\n",
              " 'BHAGYANGR',\n",
              " 'BHANDARI',\n",
              " 'BHARATFIN',\n",
              " 'BHARATFORG',\n",
              " 'BHARATGEAR',\n",
              " 'BHARATIDIL',\n",
              " 'BHARATRAS',\n",
              " 'BHARATWIRE',\n",
              " 'BHARTIARTL',\n",
              " 'BHEL',\n",
              " 'BHUSANSTL',\n",
              " 'BIGBLOC',\n",
              " 'BIL',\n",
              " 'BILENERGY',\n",
              " 'BILPOWER',\n",
              " 'BINANIIND',\n",
              " 'BINDALAGRO',\n",
              " 'BIOCON',\n",
              " 'BIRLACABLE',\n",
              " 'BIRLACORPN',\n",
              " 'BIRLAMONEY',\n",
              " 'BLBLIMITED',\n",
              " 'BLISSGVS',\n",
              " 'BLKASHYAP',\n",
              " 'BLS',\n",
              " 'BLUEBLENDS',\n",
              " 'BLUEDART',\n",
              " 'BLUESTARCO',\n",
              " 'BODALCHEM',\n",
              " 'BOHRA',\n",
              " 'BOMDYEING',\n",
              " 'BOSCHLTD',\n",
              " 'BPCL',\n",
              " 'BPL',\n",
              " 'BRFL',\n",
              " 'BRIGADE',\n",
              " 'BRITANNIA',\n",
              " 'BROOKS',\n",
              " 'BSE',\n",
              " 'BSELINFRA',\n",
              " 'BSL',\n",
              " 'BSLGOLDETF',\n",
              " 'BSLIMITED',\n",
              " 'BSLNIFTY',\n",
              " 'BURNPUR',\n",
              " 'BUTTERFLY',\n",
              " 'BVCL',\n",
              " 'BYKE',\n",
              " 'CADILAHC',\n",
              " 'CAMLINFINE',\n",
              " 'CANBK',\n",
              " 'CANDC',\n",
              " 'CANFINHOME',\n",
              " 'CANTABIL',\n",
              " 'CAPF',\n",
              " 'CAPLIPOINT',\n",
              " 'CAPTRUST',\n",
              " 'CARBORUNIV',\n",
              " 'CAREERP',\n",
              " 'CARERATING',\n",
              " 'CASTEXTECH',\n",
              " 'CASTROLIND',\n",
              " 'CCCL',\n",
              " 'CCHHL',\n",
              " 'CCL',\n",
              " 'CEATLTD',\n",
              " 'CEBBCO',\n",
              " 'CELEBRITY',\n",
              " 'CELESTIAL',\n",
              " 'CENTENKA',\n",
              " 'CENTEXT',\n",
              " 'CENTRALBK',\n",
              " 'CENTUM',\n",
              " 'CENTURYPLY',\n",
              " 'CENTURYTEX',\n",
              " 'CERA',\n",
              " 'CEREBRAINT',\n",
              " 'CESC',\n",
              " 'CGCL',\n",
              " 'CGPOWER',\n",
              " 'CHAMBLFERT',\n",
              " 'CHENNPETRO',\n",
              " 'CHOLAFIN',\n",
              " 'CHROMATIC',\n",
              " 'CIGNITITEC',\n",
              " 'CIMMCO',\n",
              " 'CINELINE',\n",
              " 'CINEVISTA',\n",
              " 'CIPLA',\n",
              " 'CLEDUCATE',\n",
              " 'CLNINDIA',\n",
              " 'CMICABLES',\n",
              " 'CNOVAPETRO',\n",
              " 'COALINDIA',\n",
              " 'COFFEEDAY',\n",
              " 'COLPAL',\n",
              " 'COMPINFO',\n",
              " 'COMPUSOFT',\n",
              " 'CONCOR',\n",
              " 'CONSOFINVT',\n",
              " 'CONTROLPR',\n",
              " 'CORALFINAC',\n",
              " 'CORDSCABLE',\n",
              " 'COROMANDEL',\n",
              " 'CORPBANK',\n",
              " 'COSMOFILMS',\n",
              " 'COUNCODOS',\n",
              " 'COX&KINGS',\n",
              " 'CPSEETF',\n",
              " 'CREATIVE',\n",
              " 'CREATIVEYE',\n",
              " 'CREST',\n",
              " 'CRISIL',\n",
              " 'CROMPTON',\n",
              " 'CROWN',\n",
              " 'CTE',\n",
              " 'CUB',\n",
              " 'CUBEXTUB',\n",
              " 'CUMMINSIND',\n",
              " 'CUPID',\n",
              " 'CYBERTECH',\n",
              " 'CYIENT',\n",
              " 'DAAWAT',\n",
              " 'DABUR',\n",
              " 'DALMIABHA',\n",
              " 'DALMIASUG',\n",
              " 'DAMODARIND',\n",
              " 'DATAMATICS',\n",
              " 'DBCORP',\n",
              " 'DBL',\n",
              " 'DBREALTY',\n",
              " 'DBSTOCKBRO',\n",
              " 'DCBBANK',\n",
              " 'DCM',\n",
              " 'DCMSHRIRAM',\n",
              " 'DCW',\n",
              " 'DECCANCE',\n",
              " 'DEEPAKFERT',\n",
              " 'DEEPAKNTR',\n",
              " 'DEEPIND',\n",
              " 'DELTACORP',\n",
              " 'DELTAMAGNT',\n",
              " 'DEN',\n",
              " 'DENABANK',\n",
              " 'DENORA',\n",
              " 'DEVIT',\n",
              " 'DFMFOODS',\n",
              " 'DHAMPURSUG',\n",
              " 'DHANBANK',\n",
              " 'DHANUKA',\n",
              " 'DHARSUGAR',\n",
              " 'DHFL',\n",
              " 'DHUNINV',\n",
              " 'DIAPOWER',\n",
              " 'DICIND',\n",
              " 'DIGJAMLTD',\n",
              " 'DISHTV',\n",
              " 'DIVISLAB',\n",
              " 'DLF',\n",
              " 'DLINKINDIA',\n",
              " 'DMART',\n",
              " 'DOLLAR',\n",
              " 'DOLPHINOFF',\n",
              " 'DONEAR',\n",
              " 'DPL',\n",
              " 'DPSCLTD',\n",
              " 'DQE',\n",
              " 'DREDGECORP',\n",
              " 'DRL',\n",
              " 'DRREDDY',\n",
              " 'DSKULKARNI',\n",
              " 'DSSL',\n",
              " 'DTIL',\n",
              " 'DUCON',\n",
              " 'DWARKESH',\n",
              " 'DYNAMATECH',\n",
              " 'EASTSILK',\n",
              " 'EASUNREYRL',\n",
              " 'ECEIND',\n",
              " 'ECLERX',\n",
              " 'ECLFINANCE',\n",
              " 'EDELWEISS',\n",
              " 'EDL',\n",
              " 'EDUCOMP',\n",
              " 'EHFLNCD',\n",
              " 'EICHERMOT',\n",
              " 'EIDPARRY',\n",
              " 'EIFFL',\n",
              " 'EIHAHOTELS',\n",
              " 'EIHOTEL',\n",
              " 'EIMCOELECO',\n",
              " 'EKC',\n",
              " 'ELAND',\n",
              " 'ELECON',\n",
              " 'ELECTCAST',\n",
              " 'ELECTHERM',\n",
              " 'ELGIEQUIP',\n",
              " 'ELGIRUBCO',\n",
              " 'EMAMIINFRA',\n",
              " 'EMAMILTD',\n",
              " 'EMCO',\n",
              " 'EMKAY',\n",
              " 'EMMBI',\n",
              " 'ENDURANCE',\n",
              " 'ENERGYDEV',\n",
              " 'ENGINERSIN',\n",
              " 'ENIL',\n",
              " 'EON',\n",
              " 'EQUITAS',\n",
              " 'EROSMEDIA',\n",
              " 'ESABINDIA',\n",
              " 'ESCORTS',\n",
              " 'ESL',\n",
              " 'ESSARSHPNG',\n",
              " 'ESSDEE',\n",
              " 'ESSELPACK',\n",
              " 'ESTER',\n",
              " 'EUROCERA',\n",
              " 'EUROMULTI',\n",
              " 'EUROTEXIND',\n",
              " 'EVEREADY',\n",
              " 'EVERESTIND',\n",
              " 'EXCEL',\n",
              " 'EXCELCROP',\n",
              " 'EXCELINDUS',\n",
              " 'EXIDEIND',\n",
              " 'FACT',\n",
              " 'FAGBEARING',\n",
              " 'FAIRCHEM',\n",
              " 'FCL',\n",
              " 'FCONSUMER',\n",
              " 'FCSSOFT',\n",
              " 'FDC',\n",
              " 'FEDDERELEC',\n",
              " 'FEDERALBNK',\n",
              " 'FEL',\n",
              " 'FELDVR',\n",
              " 'FIEMIND',\n",
              " 'FILATEX',\n",
              " 'FINCABLES',\n",
              " 'FINPIPE',\n",
              " 'FLEXITUFF',\n",
              " 'FLFL',\n",
              " 'FMGOETZE',\n",
              " 'FMNL',\n",
              " 'FORTIS',\n",
              " 'FOSECOIND',\n",
              " 'FOURTHDIM',\n",
              " 'FRETAIL',\n",
              " 'FSL',\n",
              " 'GABRIEL',\n",
              " 'GAEL',\n",
              " 'GAIL',\n",
              " 'GAL',\n",
              " 'GALLANTT',\n",
              " 'GALLISPAT',\n",
              " 'GAMMNINFRA',\n",
              " 'GAMMONIND',\n",
              " 'GANDHITUBE',\n",
              " 'GANECOS',\n",
              " 'GANESHHOUC',\n",
              " 'GARDENSILK',\n",
              " 'GARWALLROP',\n",
              " 'GATI',\n",
              " 'GAYAPROJ',\n",
              " 'GDL',\n",
              " 'GEECEE',\n",
              " 'GEMINI',\n",
              " 'GENESYS',\n",
              " 'GENUSPAPER',\n",
              " 'GENUSPOWER',\n",
              " 'GEOJITFSL',\n",
              " 'GEPIL',\n",
              " 'GESHIP',\n",
              " 'GET&D',\n",
              " 'GHCL',\n",
              " 'GICHSGFIN',\n",
              " 'GILLANDERS',\n",
              " 'GILLETTE',\n",
              " 'GINNIFILA',\n",
              " 'GIPCL',\n",
              " 'GITANJALI',\n",
              " 'GKWLIMITED',\n",
              " 'GLAXO',\n",
              " 'GLENMARK',\n",
              " 'GLOBALVECT',\n",
              " 'GLOBE',\n",
              " 'GLOBOFFS',\n",
              " 'GLOBUSSPR',\n",
              " 'GMBREW',\n",
              " 'GMDCLTD',\n",
              " 'GMRINFRA',\n",
              " 'GNA',\n",
              " 'GNFC',\n",
              " 'GOACARBON',\n",
              " 'GOCLCORP',\n",
              " 'GODFRYPHLP',\n",
              " 'GODREJCP',\n",
              " 'GODREJIND',\n",
              " 'GODREJPROP',\n",
              " 'GOENKA',\n",
              " 'GOKEX',\n",
              " 'GOKUL',\n",
              " 'GOKULAGRO',\n",
              " 'GOLDBEES',\n",
              " 'GOLDENTOBC',\n",
              " 'GOLDIAM',\n",
              " 'GOLDINFRA',\n",
              " 'GOLDIWIN',\n",
              " 'GOLDSHARE',\n",
              " 'GOLDTECH',\n",
              " 'GOODLUCK',\n",
              " 'GPIL',\n",
              " 'GPPL',\n",
              " 'GPTINFRA',\n",
              " 'GRANULES',\n",
              " 'GRAPHITE',\n",
              " 'GRASIM',\n",
              " 'GRAVITA',\n",
              " 'GREAVESCOT',\n",
              " 'GREENLAM',\n",
              " 'GREENPLY',\n",
              " 'GREENPOWER',\n",
              " 'GRINDWELL',\n",
              " 'GROBTEA',\n",
              " 'GRPLTD',\n",
              " 'GRUH',\n",
              " 'GSCLCEMENT',\n",
              " 'GSFC',\n",
              " 'GSKCONS',\n",
              " 'GSPL',\n",
              " 'GSS',\n",
              " 'GTL',\n",
              " 'GTLINFRA',\n",
              " 'GTNIND',\n",
              " 'GTNTEX',\n",
              " 'GTOFFSHORE',\n",
              " 'GUFICBIO',\n",
              " 'GUJALKALI',\n",
              " 'GUJAPOLLO',\n",
              " 'GUJFLUORO',\n",
              " 'GUJGASLTD',\n",
              " 'GUJNRECOKE',\n",
              " 'GUJNREDVR',\n",
              " 'GULFOILLUB',\n",
              " 'GULFPETRO',\n",
              " 'GULPOLY',\n",
              " 'GVKPIL',\n",
              " 'HANUNG',\n",
              " 'HARITASEAT',\n",
              " 'HARRMALAYA',\n",
              " 'HATHWAY',\n",
              " 'HATSUN',\n",
              " 'HAVELLS',\n",
              " 'HBLPOWER',\n",
              " 'HBSTOCK',\n",
              " 'HCC',\n",
              " 'HCG',\n",
              " 'HCL-INSYS',\n",
              " 'HCLTECH',\n",
              " 'HDFC',\n",
              " 'HDFCBANK',\n",
              " 'HDFCMFGETF',\n",
              " 'HDFCNIFETF',\n",
              " 'HDFCSENETF',\n",
              " 'HDIL',\n",
              " 'HEG',\n",
              " 'HEIDELBERG',\n",
              " 'HERCULES',\n",
              " 'HERITGFOOD',\n",
              " 'HEROMOTOCO',\n",
              " 'HESTERBIO',\n",
              " 'HEXATRADEX',\n",
              " 'HEXAWARE',\n",
              " 'HFCL',\n",
              " 'HGS',\n",
              " 'HIGHGROUND',\n",
              " 'HIKAL',\n",
              " 'HIL',\n",
              " 'HILTON',\n",
              " 'HIMATSEIDE',\n",
              " 'HINDALCO',\n",
              " 'HINDCOMPOS',\n",
              " 'HINDCOPPER',\n",
              " 'HINDDORROL',\n",
              " 'HINDMOTORS',\n",
              " 'HINDNATGLS',\n",
              " 'HINDOILEXP',\n",
              " 'HINDPETRO',\n",
              " 'HINDUJAVEN',\n",
              " 'HINDUNILVR',\n",
              " 'HINDZINC',\n",
              " 'HIRECT',\n",
              " 'HISARMETAL',\n",
              " 'HITECH',\n",
              " 'HITECHCORP',\n",
              " 'HITECHGEAR',\n",
              " 'HMT',\n",
              " 'HMVL',\n",
              " 'HNGSNGBEES',\n",
              " 'HOCL',\n",
              " 'HONAUT',\n",
              " 'HONDAPOWER',\n",
              " 'HOTELEELA',\n",
              " 'HOVS',\n",
              " 'HPL',\n",
              " 'HSCL',\n",
              " 'HSIL',\n",
              " 'HTMEDIA',\n",
              " 'HUBTOWN',\n",
              " 'HUDCO',\n",
              " 'IBREALEST',\n",
              " 'IBULHSGFIN',\n",
              " 'IBVENTURES',\n",
              " 'ICICIBANK',\n",
              " 'ICICIPRULI',\n",
              " 'ICIL',\n",
              " 'ICRA',\n",
              " 'ICSA',\n",
              " 'IDBI',\n",
              " 'IDBIGOLD',\n",
              " 'IDEA',\n",
              " 'IDFC',\n",
              " 'IDFCBANK',\n",
              " 'IDFNIFTYET',\n",
              " 'IFBAGRO',\n",
              " 'IFBIND',\n",
              " 'IFCI',\n",
              " 'IFGLREFRAC',\n",
              " 'IGARASHI',\n",
              " 'IGL',\n",
              " 'IGPL',\n",
              " 'IIFCL',\n",
              " 'IIFL',\n",
              " 'IIFLFIN',\n",
              " 'IIHFL',\n",
              " 'IITL',\n",
              " 'IL&FSENGG',\n",
              " 'IL&FSTRANS',\n",
              " 'IMFA',\n",
              " 'IMPAL',\n",
              " 'IMPEXFERRO',\n",
              " 'INDBANK',\n",
              " 'INDHOTEL',\n",
              " 'INDIACEM',\n",
              " 'INDIAGLYCO',\n",
              " 'INDIANB',\n",
              " 'INDIANCARD',\n",
              " 'INDIANHUME',\n",
              " 'INDIGO',\n",
              " 'INDIGRID',\n",
              " 'INDLMETER',\n",
              " 'INDNIPPON',\n",
              " 'INDOCO',\n",
              " 'INDORAMA',\n",
              " 'INDOSOLAR',\n",
              " 'INDOTECH',\n",
              " 'INDOTHAI',\n",
              " 'INDOWIND',\n",
              " 'INDRAMEDCO',\n",
              " 'INDSWFTLAB',\n",
              " 'INDSWFTLTD',\n",
              " 'INDTERRAIN',\n",
              " 'INDUSINDBK',\n",
              " 'INEOSSTYRO',\n",
              " 'INFIBEAM',\n",
              " 'INFINITE',\n",
              " 'INFOBEAN',\n",
              " 'INFRABEES',\n",
              " 'INFRATEL',\n",
              " 'INFY',\n",
              " 'INGERRAND',\n",
              " 'INOXLEISUR',\n",
              " 'INOXWIND',\n",
              " 'INSECTICID',\n",
              " 'INTELLECT',\n",
              " 'INTENTECH',\n",
              " 'INVENTURE',\n",
              " 'IOB',\n",
              " 'IOC',\n",
              " 'IOLCP',\n",
              " 'IPAPPM',\n",
              " 'IPCALAB',\n",
              " 'IRB',\n",
              " 'IRBINVIT',\n",
              " 'IRFC',\n",
              " 'ISFT',\n",
              " 'ISMTLTD',\n",
              " 'ITC',\n",
              " 'ITDC',\n",
              " 'ITDCEM',\n",
              " 'ITI',\n",
              " 'IVC',\n",
              " 'IVP',\n",
              " 'IVRCLINFRA',\n",
              " 'IVZINGOLD',\n",
              " 'IVZINNIFTY',\n",
              " 'IZMO',\n",
              " 'J&KBANK',\n",
              " 'JAGRAN',\n",
              " 'JAGSNPHARM',\n",
              " 'JAIBALAJI',\n",
              " 'JAICORPLTD',\n",
              " 'JAIHINDPRO',\n",
              " 'JALAN',\n",
              " 'JAMNAAUTO',\n",
              " 'JAYAGROGN',\n",
              " 'JAYBARMARU',\n",
              " 'JAYNECOIND',\n",
              " 'JAYSREETEA',\n",
              " 'JBCHEPHARM',\n",
              " 'JBFIND',\n",
              " 'JBMA',\n",
              " 'JCHAC',\n",
              " 'JENSONICOL',\n",
              " 'JETAIRWAYS',\n",
              " 'JETFREIGHT',\n",
              " 'JHS',\n",
              " 'JINDALPHOT',\n",
              " 'JINDALPOLY',\n",
              " 'JINDALSAW',\n",
              " 'JINDALSTEL',\n",
              " 'JINDCOT',\n",
              " 'JINDRILL',\n",
              " 'JINDWORLD',\n",
              " 'JISLDVREQS',\n",
              " 'JISLJALEQS',\n",
              " 'JITFINFRA',\n",
              " 'JKCEMENT',\n",
              " 'JKIL',\n",
              " 'JKLAKSHMI',\n",
              " 'JKPAPER',\n",
              " 'JKTYRE',\n",
              " 'JMA',\n",
              " 'JMCPROJECT',\n",
              " 'JMFINANCIL',\n",
              " 'JMTAUTOLTD',\n",
              " 'JOCIL',\n",
              " 'JPASSOCIAT',\n",
              " 'JPINFRATEC',\n",
              " 'JPOLYINVST',\n",
              " 'JPPOWER',\n",
              " 'JSL',\n",
              " 'JSLHISAR',\n",
              " 'JSWENERGY',\n",
              " 'JSWHL',\n",
              " 'JSWSTEEL',\n",
              " 'JUBILANT',\n",
              " 'JUBLFOOD',\n",
              " 'JUBLINDS',\n",
              " 'JUNIORBEES',\n",
              " 'JUSTDIAL',\n",
              " 'JVLAGRO',\n",
              " 'JYOTHYLAB',\n",
              " 'JYOTISTRUC',\n",
              " 'KABRAEXTRU',\n",
              " 'KAJARIACER',\n",
              " 'KAKATCEM',\n",
              " 'KALPATPOWR',\n",
              " 'KALYANIFRG',\n",
              " 'KAMATHOTEL',\n",
              " 'KAMDHENU',\n",
              " 'KANANIIND',\n",
              " 'KANORICHEM',\n",
              " 'KANSAINER',\n",
              " 'KARMAENG',\n",
              " 'KARURVYSYA',\n",
              " 'KAUSHALYA',\n",
              " 'KAVVERITEL',\n",
              " 'KAYA',\n",
              " 'KCP',\n",
              " 'KCPSUGIND',\n",
              " 'KDDL',\n",
              " 'KEC',\n",
              " 'KECL',\n",
              " 'KEI',\n",
              " 'KELLTONTEC',\n",
              " 'KERNEX',\n",
              " 'KESARENT',\n",
              " 'KESORAMIND',\n",
              " 'KEYCORPSER',\n",
              " 'KGL',\n",
              " 'KHAITANELE',\n",
              " 'KICL',\n",
              " 'KILITCH',\n",
              " 'KINGFA',\n",
              " 'KIOCL',\n",
              " 'KIRIINDUS',\n",
              " 'KIRLOSBROS',\n",
              " 'KIRLOSENG',\n",
              " 'KIRLOSIND',\n",
              " 'KITEX',\n",
              " 'KKCL',\n",
              " 'KKVAPOW',\n",
              " 'KMSUGAR',\n",
              " 'KNRCON',\n",
              " 'KOHINOOR',\n",
              " 'KOKUYOCMLN',\n",
              " 'KOLTEPATIL',\n",
              " 'KOPRAN',\n",
              " 'KOTAKBANK',\n",
              " 'KOTAKBKETF',\n",
              " 'KOTAKGOLD',\n",
              " 'KOTAKNIFTY',\n",
              " 'KOTAKNV20',\n",
              " 'KOTAKPSUBK',\n",
              " 'KOTARISUG',\n",
              " 'KOTHARIPET',\n",
              " 'KOTHARIPRO',\n",
              " 'KPIT',\n",
              " 'KPRMILL',\n",
              " 'KRBL',\n",
              " 'KREBSBIO',\n",
              " 'KRIDHANINF',\n",
              " 'KRISHANA',\n",
              " 'KSBPUMPS',\n",
              " 'KSCL',\n",
              " 'KSERASERA',\n",
              " 'KSK',\n",
              " 'KSL',\n",
              " 'KTIL',\n",
              " 'KTKBANK',\n",
              " 'KWALITY',\n",
              " 'L&TFH',\n",
              " 'L&TFINANCE',\n",
              " 'L&TINFRA',\n",
              " 'LAKPRE',\n",
              " 'LAKSHMIEFL',\n",
              " 'LAKSHVILAS',\n",
              " 'LALPATHLAB',\n",
              " 'LAMBODHARA',\n",
              " 'LAOPALA',\n",
              " 'LAURUSLABS',\n",
              " 'LAXMICOT',\n",
              " 'LAXMIMACH',\n",
              " 'LCCINFOTEC',\n",
              " 'LEEL',\n",
              " 'LFIC',\n",
              " 'LGBBROSLTD',\n",
              " 'LIBERTSHOE',\n",
              " 'LICHSGFIN',\n",
              " 'LICNETFGSC',\n",
              " 'LICNETFN50',\n",
              " 'LINCOLN',\n",
              " 'LINCPEN',\n",
              " 'LINDEINDIA',\n",
              " 'LIQUIDBEES',\n",
              " 'LITL',\n",
              " 'LML',\n",
              " 'LOKESHMACH',\n",
              " 'LOTUSEYE',\n",
              " 'LOVABLE',\n",
              " 'LPDC',\n",
              " 'LSIL',\n",
              " 'LT',\n",
              " 'LTI',\n",
              " 'LTTS',\n",
              " 'LUMAXIND',\n",
              " 'LUMAXTECH',\n",
              " 'LUPIN',\n",
              " 'LUXIND',\n",
              " 'LYCOS',\n",
              " 'LYKALABS',\n",
              " 'LYPSAGEMS',\n",
              " 'M&M',\n",
              " 'M&MFIN',\n",
              " 'M100',\n",
              " 'M14RG',\n",
              " 'M50',\n",
              " 'MAANALU',\n",
              " 'MADHAV',\n",
              " 'MADHUCON',\n",
              " 'MADRASFERT',\n",
              " 'MAGMA',\n",
              " 'MAGNUM',\n",
              " 'MAHABANK',\n",
              " 'MAHASTEEL',\n",
              " 'MAHESHWARI',\n",
              " 'MAHINDCIE',\n",
              " 'MAHLIFE',\n",
              " 'MAHSCOOTER',\n",
              " 'MAHSEAMLES',\n",
              " 'MAITHANALL',\n",
              " 'MAJESCO',\n",
              " 'MALUPAPER',\n",
              " 'MANAKALUCO',\n",
              " 'MANAKCOAT',\n",
              " 'MANAKINDST',\n",
              " 'MANAKSIA',\n",
              " 'MANAKSTEEL',\n",
              " 'MANALIPETC',\n",
              " 'MANAPPURAM',\n",
              " 'MANDHANA',\n",
              " 'MANGALAM',\n",
              " 'MANGCHEFER',\n",
              " 'MANGLMCEM',\n",
              " 'MANGTIMBER',\n",
              " 'MANINDS',\n",
              " 'MANINFRA',\n",
              " 'MANPASAND',\n",
              " 'MANUGRAPH',\n",
              " 'MARALOVER',\n",
              " 'MARATHON',\n",
              " 'MARICO',\n",
              " 'MARKSANS',\n",
              " 'MARUTI',\n",
              " 'MASTEK',\n",
              " 'MAWANASUG',\n",
              " 'MAXINDIA',\n",
              " 'MAXVIL',\n",
              " 'MAYURUNIQ',\n",
              " 'MAZDA',\n",
              " 'MBAPL',\n",
              " 'MBECL',\n",
              " 'MBLINFRA',\n",
              " 'MCDHOLDING',\n",
              " 'MCDOWELL-N',\n",
              " 'MCL',\n",
              " 'MCLEODRUSS',\n",
              " 'MCX',\n",
              " 'MEGASOFT',\n",
              " 'MEGH',\n",
              " 'MENONBE',\n",
              " 'MEP',\n",
              " 'MERCATOR',\n",
              " 'MERCK',\n",
              " 'METALFORGE',\n",
              " 'METKORE',\n",
              " 'MFSL',\n",
              " 'MGL',\n",
              " 'MHRIL',\n",
              " 'MIC',\n",
              " 'MIDCAPIWIN',\n",
              " 'MINDACORP',\n",
              " 'MINDAIND',\n",
              " 'MINDTECK',\n",
              " 'MINDTREE',\n",
              " 'MIRCELECTR',\n",
              " 'MIRZAINT',\n",
              " 'MITCON',\n",
              " 'MMFL',\n",
              " 'MMTC',\n",
              " 'MOHITIND',\n",
              " 'MOIL',\n",
              " 'MOLDTECH',\n",
              " 'MOLDTKPAC',\n",
              " 'MOMAI',\n",
              " 'MONNETISPA',\n",
              " 'MONSANTO',\n",
              " 'MONTECARLO',\n",
              " 'MORARJEE',\n",
              " 'MOREPENLAB',\n",
              " 'MOSERBAER',\n",
              " 'MOTHERSUMI',\n",
              " 'MOTILALOFS',\n",
              " 'MPHASIS',\n",
              " 'MPSLTD',\n",
              " 'MRF',\n",
              " 'MRO-TEK',\n",
              " 'MRPL',\n",
              " 'MSPL',\n",
              " 'MTEDUCARE',\n",
              " 'MTNL',\n",
              " 'MUKANDENGG',\n",
              " 'MUKANDLTD',\n",
              " 'MUKTAARTS',\n",
              " 'MUNJALAU',\n",
              " 'MUNJALSHOW',\n",
              " 'MURUDCERA',\n",
              " 'MUTHOOTCAP',\n",
              " 'MUTHOOTFIN',\n",
              " 'MVL',\n",
              " 'N100',\n",
              " 'NAGAAGRI',\n",
              " 'NAGAFERT',\n",
              " 'NAGAROIL',\n",
              " 'NAGREEKCAP',\n",
              " 'NAGREEKEXP',\n",
              " 'NAHARCAP',\n",
              " 'NAHARINDUS',\n",
              " 'NAHARPOLY',\n",
              " 'NAHARSPING',\n",
              " 'NAKODA',\n",
              " 'NANDANI',\n",
              " 'NATCOPHARM',\n",
              " 'NATHBIOGEN',\n",
              " 'NATIONALUM',\n",
              " 'NATNLSTEEL',\n",
              " 'NAUKRI',\n",
              " 'NAVINFLUOR',\n",
              " 'NAVKARCORP',\n",
              " 'NAVNETEDUL',\n",
              " 'NBCC',\n",
              " 'NBIFIN',\n",
              " 'NBVENTURES',\n",
              " 'NCC',\n",
              " 'NCLIND',\n",
              " 'NDGL',\n",
              " 'NDL',\n",
              " 'NDTV',\n",
              " 'NECCLTD',\n",
              " 'NECLIFE',\n",
              " 'NELCAST',\n",
              " 'NELCO',\n",
              " 'NESCO',\n",
              " 'NESTLEIND',\n",
              " 'NETWORK18',\n",
              " 'NEULANDLAB',\n",
              " 'NEXTMEDIA',\n",
              " 'NFL',\n",
              " 'NH',\n",
              " 'NHAI',\n",
              " 'NHBTF2014',\n",
              " 'NHBTF2023',\n",
              " 'NHPC',\n",
              " 'NIBL',\n",
              " 'NICCO',\n",
              " 'NIF100IWIN',\n",
              " ...]"
            ]
          },
          "metadata": {
            "tags": []
          },
          "execution_count": 89
        }
      ]
    },
    {
      "cell_type": "code",
      "metadata": {
        "colab": {
          "base_uri": "https://localhost:8080/",
          "height": 559
        },
        "id": "g7wY04yRU-xc",
        "outputId": "b9078984-bc0b-4af2-f8ac-f1275fe39489"
      },
      "source": [
        "import plotly.express as px\r\n",
        "plt.figure(figsize=(30,9))\r\n",
        "for i in subreddits:\r\n",
        "  fig = px.scatter(x=reddit_df.loc[reddit_df.subreddit==i].score,y=reddit_df.loc[reddit_df.subreddit==i].num_comments)\r\n",
        "fig.show()"
      ],
      "execution_count": 49,
      "outputs": [
        {
          "output_type": "display_data",
          "data": {
            "text/html": [
              "<html>\n",
              "<head><meta charset=\"utf-8\" /></head>\n",
              "<body>\n",
              "    <div>\n",
              "            <script src=\"https://cdnjs.cloudflare.com/ajax/libs/mathjax/2.7.5/MathJax.js?config=TeX-AMS-MML_SVG\"></script><script type=\"text/javascript\">if (window.MathJax) {MathJax.Hub.Config({SVG: {font: \"STIX-Web\"}});}</script>\n",
              "                <script type=\"text/javascript\">window.PlotlyConfig = {MathJaxConfig: 'local'};</script>\n",
              "        <script src=\"https://cdn.plot.ly/plotly-latest.min.js\"></script>    \n",
              "            <div id=\"1faf4194-4cd9-4de6-835a-101e0e6c6985\" class=\"plotly-graph-div\" style=\"height:525px; width:100%;\"></div>\n",
              "            <script type=\"text/javascript\">\n",
              "                \n",
              "                    window.PLOTLYENV=window.PLOTLYENV || {};\n",
              "                    \n",
              "                if (document.getElementById(\"1faf4194-4cd9-4de6-835a-101e0e6c6985\")) {\n",
              "                    Plotly.newPlot(\n",
              "                        '1faf4194-4cd9-4de6-835a-101e0e6c6985',\n",
              "                        [{\"hoverlabel\": {\"namelength\": 0}, \"hovertemplate\": \"x=%{x}<br>y=%{y}\", \"legendgroup\": \"\", \"marker\": {\"color\": \"#636efa\", \"symbol\": \"circle\"}, \"mode\": \"markers\", \"name\": \"\", \"showlegend\": false, \"type\": \"scatter\", \"x\": [82729, 43687, 40343, 26702, 26343, 17923, 10132, 10114, 9280, 9111, 7701, 7290, 6783, 6447, 6118, 6017, 5595, 5468, 5432, 5332, 5300, 5189, 5180, 5106, 5035, 4950, 4882, 4827, 4741, 4324, 4220, 4218, 4124, 4109, 4060, 4050, 4020, 3922, 3898, 3893, 3882, 3867, 3846, 3843, 3742, 3744, 3700, 3616, 3615, 3575, 3522, 3494, 3485, 3457, 3443, 3414, 3347, 3338, 3329, 3315, 3306, 3236, 3120, 3015, 3014, 2981, 2962, 2956, 2943, 2904, 2896, 2844, 2828, 2828, 2820, 2818, 2820, 2798, 2766, 2746, 2740, 2736, 2707, 2691, 2668, 2654, 2647, 2617, 2595, 2576, 2565, 2557, 2542, 2494, 2486, 2476, 2472, 2468, 2464, 2463, 2461, 2447, 2443, 2424, 2417, 2382, 2375, 2372, 2371, 2351, 2352, 2337, 2324, 2288, 2289, 2274, 2274, 2267, 2267, 2263, 2257, 2255, 2250, 2249, 2235, 2242, 2237, 2234, 2208, 2195, 2184, 2168, 2169, 2165, 2158, 2130, 2115, 2111, 2111, 2101, 2079, 2073, 2054, 2053, 2052, 2026, 2024, 2022, 2016, 2011, 1969, 1971, 1953, 1955, 1933, 1936, 1932, 1927, 1913, 1872, 1861, 1860, 1835, 1823, 1818, 1807, 1805, 1806, 1800, 1796, 1794, 1786, 1789, 1788, 1781, 1773, 1774, 1766, 1762, 1762, 1753, 1748, 1752, 1746, 1733, 1717, 1715, 1714, 1711, 1701, 1697, 1683, 1682, 1687, 1676, 1664, 1654, 1653, 1644, 1647, 1639, 1634, 1626, 1615, 1611, 1601, 1592, 1585, 1587, 1586, 1578, 1576, 1565, 1554, 1556, 1546, 1548, 1550, 1541, 1535, 1532, 1515, 1527, 1519, 1515, 1506, 1508, 1500, 1496, 1499, 1491, 1491, 1486, 1477, 1468, 1455, 1458, 1443, 1440, 1437, 1434, 1423, 1412, 1408, 1409, 1403, 1402, 1392, 1394, 1398, 1387, 1386, 1391, 1372, 1371, 1360, 1365, 1364, 1340, 1348, 1348, 1347, 1331, 1328, 1327, 1330, 1315, 1319, 1320, 1313, 1313, 1306, 1312, 1309, 1304, 1299, 1304, 1303, 1297, 1289, 1289, 1288, 1281, 1284, 1278, 1279, 1279, 1268, 1270, 1269, 1249, 1245, 1251, 1249, 1241, 1239, 1235, 1236, 1230, 1230, 1227, 1228, 1228, 1220, 1221, 1221, 1220, 1219, 1215, 1209, 1207, 1206, 1197, 1200, 1193, 1188, 1185, 1191, 1186, 1189, 1190, 1184, 1168, 1172, 1169, 1173, 1162, 1162, 1160, 1164, 1157, 1153, 1151, 1153, 1141, 1145, 1142, 1139, 1129, 1128, 1124, 1129, 1121, 1118, 1118, 1115, 1110, 1096, 1092, 1086, 1082, 1086, 1084, 1076, 1078, 1075, 1075, 1070, 1061, 1058, 1058, 1050, 1052, 1050, 1048, 1050, 1038, 1040, 1030, 1033, 1021, 1022, 1016, 1014, 1015, 1013, 1009, 1005, 1007, 1008, 1004, 994, 995, 993, 988, 985, 981, 981, 978, 975, 974, 966, 966, 959, 961, 955, 951, 955, 958, 946, 946, 943, 941, 949, 941, 938, 936, 933, 936, 924, 927, 931, 923, 927, 918, 926, 920, 918, 913, 910, 914, 913, 915, 908, 900, 898, 893, 897, 893, 892, 886, 878, 883, 881, 883, 874, 877, 877, 872, 866, 858, 858, 851, 857, 855, 847, 846, 844, 852, 847, 835, 839, 841, 836, 837, 835, 833, 836, 827, 827, 829, 822, 825, 817, 818, 818, 815, 816, 815, 813, 806, 809, 799, 796, 792, 788, 793, 786, 783, 780, 773, 774, 771, 770, 771, 767, 767, 764, 761, 763, 763, 762, 762, 761, 755, 759, 759, 748, 753, 749, 747, 753, 750, 750, 744, 738, 740, 738, 732, 736, 727, 729, 731, 724, 721, 723, 718, 718, 710, 714, 715, 718, 707, 706, 708, 707, 707, 702, 699, 701, 698, 695, 692, 694, 696, 696, 697, 694, 686, 691, 687, 688, 681, 683, 679, 678, 681, 679, 676, 678, 672, 669, 675, 670, 664, 666, 665, 659, 657, 661, 661, 657, 653, 649, 648, 644, 642, 645, 645, 644, 636, 635, 636, 636, 629, 627, 625, 631, 627, 627, 625, 627, 615, 621, 612, 617, 620, 610, 610, 606, 609, 607, 607, 606, 601, 603, 607, 605, 600, 599, 596, 594, 597, 593, 592, 584, 588, 588, 586, 581, 580, 581, 581, 579, 581, 586, 570, 571, 574, 568, 569, 569, 567, 570, 567, 572, 566, 566, 562, 560, 564, 558, 563, 559, 557, 555, 555, 552, 555, 556, 558, 553, 548, 553, 553, 549, 547, 546, 544, 546, 548, 543, 541, 537, 539, 539, 536, 538, 541, 531, 536, 538, 532, 527, 530, 532, 533, 527, 529, 525, 526, 519, 519, 525, 523, 518, 519, 522, 517, 514, 514, 507, 516, 518, 516, 510, 506, 512, 506, 507, 508, 502, 508, 501, 502, 504, 506, 503, 509, 501, 494, 493, 499, 499, 497, 493, 495, 493, 491, 498, 490, 493, 487, 489, 486, 491, 484, 487, 484, 484, 480, 479, 479, 477, 480, 481, 476, 471, 477, 474, 464, 471, 470, 467, 462, 470, 465, 466, 468, 464, 466, 461, 462, 456, 462, 455, 460, 453, 455, 459, 459, 448, 455, 450, 451, 454, 456, 452, 456, 444, 443, 451, 442, 441, 441, 444, 445, 443, 440, 443, 438, 441, 437, 440, 434, 432, 431, 432, 431, 428, 428, 425, 424, 426, 427, 426, 430, 427, 430, 428, 428, 429, 424, 428, 425, 427, 424, 425, 428, 417, 427, 417, 419, 421, 419, 417, 420, 421, 420, 421, 415, 419, 420, 418, 417, 418, 419, 420, 420, 413, 412, 411, 416, 414, 413, 416, 410, 413, 409, 411, 411, 413, 409, 413, 414, 406, 408, 409, 410, 404, 409, 406, 406, 404, 401, 402, 404, 402, 403, 405, 404, 401, 400, 407, 400, 397, 398, 396, 393, 398, 395, 398, 394, 396, 395, 395, 393, 395, 391, 390, 393, 393, 391, 392, 390, 398, 392, 392, 386, 392, 388, 390, 384, 389, 383, 385, 389, 389, 382, 385, 383, 383, 386, 383, 382, 384, 378, 385, 380, 385, 382, 380, 381, 380, 385, 382, 380, 376, 379, 381, 380, 377, 377, 376, 376, 376, 381, 380, 375, 375, 377, 371, 370, 373, 374, 373, 367, 376, 370, 367, 366, 376, 372, 372, 374, 370, 368, 374, 364, 367, 370, 369, 369, 362, 361, 365, 366, 362, 362, 365, 363, 360, 358, 363, 358, 365, 362, 361, 359, 362, 357, 360, 364, 361, 353, 359, 360, 358, 354, 353, 356, 353, 357, 357, 349, 358, 356, 355, 355, 351, 348, 348, 352, 349, 356], \"xaxis\": \"x\", \"y\": [6161, 4535, 4965, 1775, 1529, 2709, 1745, 98, 1089, 1247, 1678, 1735, 1227, 635, 291, 2701, 1246, 589, 344, 1115, 733, 420, 893, 794, 581, 703, 1142, 865, 503, 319, 1021, 260, 612, 321, 957, 727, 343, 3028, 546, 536, 765, 621, 862, 315, 385, 356, 870, 223, 1192, 1259, 442, 607, 1134, 470, 454, 401, 869, 811, 577, 407, 1048, 270, 279, 563, 674, 666, 388, 237, 664, 915, 561, 301, 343, 306, 455, 340, 239, 215, 225, 543, 450, 348, 511, 811, 269, 285, 381, 513, 403, 600, 362, 487, 190, 374, 383, 484, 313, 749, 739, 335, 440, 243, 760, 223, 344, 639, 331, 439, 281, 325, 870, 294, 432, 599, 399, 308, 1331, 498, 516, 147, 336, 886, 410, 869, 1045, 261, 608, 318, 176, 620, 1027, 495, 397, 549, 168, 331, 357, 392, 414, 216, 425, 738, 438, 248, 254, 680, 217, 416, 413, 625, 964, 818, 290, 463, 324, 484, 322, 217, 219, 244, 302, 238, 288, 399, 151, 1196, 219, 119, 410, 394, 294, 385, 313, 431, 393, 430, 139, 324, 151, 507, 623, 366, 84, 491, 175, 274, 558, 369, 351, 344, 318, 482, 149, 161, 157, 287, 390, 556, 312, 334, 1142, 600, 694, 80, 344, 242, 256, 247, 461, 336, 352, 435, 2157, 521, 240, 276, 583, 747, 188, 215, 321, 235, 319, 320, 199, 278, 180, 396, 862, 99, 368, 315, 508, 202, 331, 266, 336, 173, 399, 321, 271, 174, 275, 137, 280, 249, 546, 382, 615, 187, 305, 190, 507, 183, 133, 250, 254, 130, 316, 796, 110, 327, 196, 582, 429, 226, 398, 217, 209, 475, 268, 363, 907, 620, 222, 500, 196, 356, 224, 399, 196, 316, 100, 488, 152, 76, 329, 422, 315, 256, 315, 417, 345, 197, 362, 172, 166, 181, 403, 229, 321, 313, 220, 394, 238, 136, 956, 223, 138, 99, 33, 263, 268, 234, 347, 166, 200, 198, 351, 276, 604, 311, 170, 387, 228, 157, 278, 104, 261, 185, 204, 176, 383, 179, 217, 432, 297, 156, 176, 287, 230, 302, 263, 414, 190, 188, 262, 136, 239, 142, 177, 195, 469, 187, 315, 369, 307, 205, 117, 267, 213, 265, 84, 281, 211, 98, 1343, 251, 247, 129, 475, 739, 144, 223, 289, 164, 179, 75, 141, 184, 214, 317, 198, 319, 79, 46, 278, 196, 142, 291, 278, 433, 64, 567, 180, 478, 126, 156, 98, 124, 170, 199, 552, 236, 163, 256, 321, 148, 160, 305, 182, 97, 217, 443, 266, 544, 196, 189, 281, 221, 179, 132, 254, 162, 290, 254, 978, 560, 260, 379, 141, 235, 104, 385, 168, 300, 292, 458, 852, 362, 1083, 309, 250, 216, 410, 268, 437, 173, 614, 169, 302, 400, 122, 254, 143, 315, 307, 39, 408, 179, 176, 192, 292, 497, 214, 407, 517, 186, 222, 199, 285, 185, 233, 633, 229, 140, 84, 264, 111, 275, 94, 174, 225, 98, 292, 131, 776, 109, 115, 241, 105, 234, 153, 238, 178, 148, 520, 100, 183, 204, 82, 213, 146, 163, 360, 147, 224, 762, 141, 150, 236, 107, 131, 149, 150, 280, 199, 111, 832, 286, 263, 299, 260, 262, 134, 290, 127, 105, 457, 306, 63, 116, 247, 132, 181, 145, 85, 180, 217, 56, 65, 116, 95, 283, 94, 117, 42, 146, 194, 115, 106, 295, 142, 212, 189, 567, 127, 219, 282, 173, 298, 287, 67, 43, 179, 157, 137, 193, 389, 90, 133, 127, 86, 78, 288, 347, 153, 126, 190, 229, 311, 182, 210, 136, 113, 426, 209, 328, 131, 132, 184, 58, 245, 185, 314, 241, 106, 173, 224, 132, 225, 167, 111, 161, 195, 240, 231, 145, 92, 236, 117, 166, 98, 183, 139, 87, 148, 160, 146, 166, 65, 242, 205, 474, 121, 140, 407, 152, 89, 96, 133, 591, 150, 136, 120, 164, 143, 114, 141, 139, 110, 203, 258, 122, 261, 181, 140, 128, 266, 91, 144, 136, 475, 293, 246, 27, 145, 258, 103, 64, 215, 104, 83, 39, 40, 15, 172, 140, 172, 378, 118, 168, 117, 80, 210, 159, 73, 395, 44, 134, 101, 256, 125, 21, 21, 72, 3600, 134, 583, 130, 96, 197, 214, 101, 97, 177, 149, 59, 31, 160, 197, 132, 202, 321, 82, 92, 45, 34, 139, 188, 376, 206, 179, 150, 131, 222, 186, 75, 83, 111, 565, 155, 111, 89, 256, 153, 57, 72, 612, 42, 82, 144, 229, 80, 202, 176, 168, 75, 59, 84, 188, 147, 227, 144, 119, 89, 249, 117, 331, 197, 205, 139, 3104, 60, 145, 126, 257, 82, 82, 185, 27, 130, 67, 130, 254, 244, 107, 130, 70, 92, 218, 173, 374, 294, 238, 412, 86, 140, 72, 106, 124, 81, 43, 216, 237, 197, 86, 30, 93, 74, 24, 148, 130, 130, 69, 147, 218, 198, 242, 114, 134, 244, 286, 70, 33, 110, 79, 216, 49, 421, 2977, 69, 110, 24, 61, 170, 158, 189, 66, 158, 65, 2858, 93, 192, 43, 263, 118, 231, 329, 185, 99, 128, 81, 170, 181, 27, 386, 488, 175, 255, 245, 174, 250, 156, 79, 148, 62, 382, 87, 61, 68, 155, 51, 32, 123, 92, 71, 135, 27, 100, 112, 221, 270, 64, 179, 225, 59, 177, 69, 165, 52, 274, 130, 68, 205, 151, 123, 75, 150, 402, 125, 59, 84, 153, 64, 420, 62, 54, 39, 84, 163, 217, 59, 79, 292, 162, 87, 89, 82, 201, 54, 172, 314, 50, 81, 70, 41, 372, 53, 110, 92, 192, 166, 113, 143, 70, 174, 365, 1031, 356, 340, 384, 86, 109, 66, 283, 175, 124, 172, 171, 91, 306, 112, 44, 12, 78, 239, 68, 150, 119, 117, 179, 10, 126, 145, 32, 138, 48, 71, 254, 289, 39, 102, 267, 121, 45, 322, 469, 51, 52, 177, 43, 103, 360, 113, 128, 13, 34, 41, 276, 53, 173, 130, 214, 56, 38, 32, 30, 70, 79, 283, 176, 102, 145, 138], \"yaxis\": \"y\"}],\n",
              "                        {\"legend\": {\"tracegroupgap\": 0}, \"margin\": {\"t\": 60}, \"template\": {\"data\": {\"bar\": [{\"error_x\": {\"color\": \"#2a3f5f\"}, \"error_y\": {\"color\": \"#2a3f5f\"}, \"marker\": {\"line\": {\"color\": \"#E5ECF6\", \"width\": 0.5}}, \"type\": \"bar\"}], \"barpolar\": [{\"marker\": {\"line\": {\"color\": \"#E5ECF6\", \"width\": 0.5}}, \"type\": \"barpolar\"}], \"carpet\": [{\"aaxis\": {\"endlinecolor\": \"#2a3f5f\", \"gridcolor\": \"white\", \"linecolor\": \"white\", \"minorgridcolor\": \"white\", \"startlinecolor\": \"#2a3f5f\"}, \"baxis\": {\"endlinecolor\": \"#2a3f5f\", \"gridcolor\": \"white\", \"linecolor\": \"white\", \"minorgridcolor\": \"white\", \"startlinecolor\": \"#2a3f5f\"}, \"type\": \"carpet\"}], \"choropleth\": [{\"colorbar\": {\"outlinewidth\": 0, \"ticks\": \"\"}, \"type\": \"choropleth\"}], \"contour\": [{\"colorbar\": {\"outlinewidth\": 0, \"ticks\": \"\"}, \"colorscale\": [[0.0, \"#0d0887\"], [0.1111111111111111, \"#46039f\"], [0.2222222222222222, \"#7201a8\"], [0.3333333333333333, \"#9c179e\"], [0.4444444444444444, \"#bd3786\"], [0.5555555555555556, \"#d8576b\"], [0.6666666666666666, \"#ed7953\"], [0.7777777777777778, \"#fb9f3a\"], [0.8888888888888888, \"#fdca26\"], [1.0, \"#f0f921\"]], \"type\": \"contour\"}], \"contourcarpet\": [{\"colorbar\": {\"outlinewidth\": 0, \"ticks\": \"\"}, \"type\": \"contourcarpet\"}], \"heatmap\": [{\"colorbar\": {\"outlinewidth\": 0, \"ticks\": \"\"}, \"colorscale\": [[0.0, \"#0d0887\"], [0.1111111111111111, \"#46039f\"], [0.2222222222222222, \"#7201a8\"], [0.3333333333333333, \"#9c179e\"], [0.4444444444444444, \"#bd3786\"], [0.5555555555555556, \"#d8576b\"], [0.6666666666666666, \"#ed7953\"], [0.7777777777777778, \"#fb9f3a\"], [0.8888888888888888, \"#fdca26\"], [1.0, \"#f0f921\"]], \"type\": \"heatmap\"}], \"heatmapgl\": [{\"colorbar\": {\"outlinewidth\": 0, \"ticks\": \"\"}, \"colorscale\": [[0.0, \"#0d0887\"], [0.1111111111111111, \"#46039f\"], [0.2222222222222222, \"#7201a8\"], [0.3333333333333333, \"#9c179e\"], [0.4444444444444444, \"#bd3786\"], [0.5555555555555556, \"#d8576b\"], [0.6666666666666666, \"#ed7953\"], [0.7777777777777778, \"#fb9f3a\"], [0.8888888888888888, \"#fdca26\"], [1.0, \"#f0f921\"]], \"type\": \"heatmapgl\"}], \"histogram\": [{\"marker\": {\"colorbar\": {\"outlinewidth\": 0, \"ticks\": \"\"}}, \"type\": \"histogram\"}], \"histogram2d\": [{\"colorbar\": {\"outlinewidth\": 0, \"ticks\": \"\"}, \"colorscale\": [[0.0, \"#0d0887\"], [0.1111111111111111, \"#46039f\"], [0.2222222222222222, \"#7201a8\"], [0.3333333333333333, \"#9c179e\"], [0.4444444444444444, \"#bd3786\"], [0.5555555555555556, \"#d8576b\"], [0.6666666666666666, \"#ed7953\"], [0.7777777777777778, \"#fb9f3a\"], [0.8888888888888888, \"#fdca26\"], [1.0, \"#f0f921\"]], \"type\": \"histogram2d\"}], \"histogram2dcontour\": [{\"colorbar\": {\"outlinewidth\": 0, \"ticks\": \"\"}, \"colorscale\": [[0.0, \"#0d0887\"], [0.1111111111111111, \"#46039f\"], [0.2222222222222222, \"#7201a8\"], [0.3333333333333333, \"#9c179e\"], [0.4444444444444444, \"#bd3786\"], [0.5555555555555556, \"#d8576b\"], [0.6666666666666666, \"#ed7953\"], [0.7777777777777778, \"#fb9f3a\"], [0.8888888888888888, \"#fdca26\"], [1.0, \"#f0f921\"]], \"type\": \"histogram2dcontour\"}], \"mesh3d\": [{\"colorbar\": {\"outlinewidth\": 0, \"ticks\": \"\"}, \"type\": \"mesh3d\"}], \"parcoords\": [{\"line\": {\"colorbar\": {\"outlinewidth\": 0, \"ticks\": \"\"}}, \"type\": \"parcoords\"}], \"pie\": [{\"automargin\": true, \"type\": \"pie\"}], \"scatter\": [{\"marker\": {\"colorbar\": {\"outlinewidth\": 0, \"ticks\": \"\"}}, \"type\": \"scatter\"}], \"scatter3d\": [{\"line\": {\"colorbar\": {\"outlinewidth\": 0, \"ticks\": \"\"}}, \"marker\": {\"colorbar\": {\"outlinewidth\": 0, \"ticks\": \"\"}}, \"type\": \"scatter3d\"}], \"scattercarpet\": [{\"marker\": {\"colorbar\": {\"outlinewidth\": 0, \"ticks\": \"\"}}, \"type\": \"scattercarpet\"}], \"scattergeo\": [{\"marker\": {\"colorbar\": {\"outlinewidth\": 0, \"ticks\": \"\"}}, \"type\": \"scattergeo\"}], \"scattergl\": [{\"marker\": {\"colorbar\": {\"outlinewidth\": 0, \"ticks\": \"\"}}, \"type\": \"scattergl\"}], \"scattermapbox\": [{\"marker\": {\"colorbar\": {\"outlinewidth\": 0, \"ticks\": \"\"}}, \"type\": \"scattermapbox\"}], \"scatterpolar\": [{\"marker\": {\"colorbar\": {\"outlinewidth\": 0, \"ticks\": \"\"}}, \"type\": \"scatterpolar\"}], \"scatterpolargl\": [{\"marker\": {\"colorbar\": {\"outlinewidth\": 0, \"ticks\": \"\"}}, \"type\": \"scatterpolargl\"}], \"scatterternary\": [{\"marker\": {\"colorbar\": {\"outlinewidth\": 0, \"ticks\": \"\"}}, \"type\": \"scatterternary\"}], \"surface\": [{\"colorbar\": {\"outlinewidth\": 0, \"ticks\": \"\"}, \"colorscale\": [[0.0, \"#0d0887\"], [0.1111111111111111, \"#46039f\"], [0.2222222222222222, \"#7201a8\"], [0.3333333333333333, \"#9c179e\"], [0.4444444444444444, \"#bd3786\"], [0.5555555555555556, \"#d8576b\"], [0.6666666666666666, \"#ed7953\"], [0.7777777777777778, \"#fb9f3a\"], [0.8888888888888888, \"#fdca26\"], [1.0, \"#f0f921\"]], \"type\": \"surface\"}], \"table\": [{\"cells\": {\"fill\": {\"color\": \"#EBF0F8\"}, \"line\": {\"color\": \"white\"}}, \"header\": {\"fill\": {\"color\": \"#C8D4E3\"}, \"line\": {\"color\": \"white\"}}, \"type\": \"table\"}]}, \"layout\": {\"annotationdefaults\": {\"arrowcolor\": \"#2a3f5f\", \"arrowhead\": 0, \"arrowwidth\": 1}, \"coloraxis\": {\"colorbar\": {\"outlinewidth\": 0, \"ticks\": \"\"}}, \"colorscale\": {\"diverging\": [[0, \"#8e0152\"], [0.1, \"#c51b7d\"], [0.2, \"#de77ae\"], [0.3, \"#f1b6da\"], [0.4, \"#fde0ef\"], [0.5, \"#f7f7f7\"], [0.6, \"#e6f5d0\"], [0.7, \"#b8e186\"], [0.8, \"#7fbc41\"], [0.9, \"#4d9221\"], [1, \"#276419\"]], \"sequential\": [[0.0, \"#0d0887\"], [0.1111111111111111, \"#46039f\"], [0.2222222222222222, \"#7201a8\"], [0.3333333333333333, \"#9c179e\"], [0.4444444444444444, \"#bd3786\"], [0.5555555555555556, \"#d8576b\"], [0.6666666666666666, \"#ed7953\"], [0.7777777777777778, \"#fb9f3a\"], [0.8888888888888888, \"#fdca26\"], [1.0, \"#f0f921\"]], \"sequentialminus\": [[0.0, \"#0d0887\"], [0.1111111111111111, \"#46039f\"], [0.2222222222222222, \"#7201a8\"], [0.3333333333333333, \"#9c179e\"], [0.4444444444444444, \"#bd3786\"], [0.5555555555555556, \"#d8576b\"], [0.6666666666666666, \"#ed7953\"], [0.7777777777777778, \"#fb9f3a\"], [0.8888888888888888, \"#fdca26\"], [1.0, \"#f0f921\"]]}, \"colorway\": [\"#636efa\", \"#EF553B\", \"#00cc96\", \"#ab63fa\", \"#FFA15A\", \"#19d3f3\", \"#FF6692\", \"#B6E880\", \"#FF97FF\", \"#FECB52\"], \"font\": {\"color\": \"#2a3f5f\"}, \"geo\": {\"bgcolor\": \"white\", \"lakecolor\": \"white\", \"landcolor\": \"#E5ECF6\", \"showlakes\": true, \"showland\": true, \"subunitcolor\": \"white\"}, \"hoverlabel\": {\"align\": \"left\"}, \"hovermode\": \"closest\", \"mapbox\": {\"style\": \"light\"}, \"paper_bgcolor\": \"white\", \"plot_bgcolor\": \"#E5ECF6\", \"polar\": {\"angularaxis\": {\"gridcolor\": \"white\", \"linecolor\": \"white\", \"ticks\": \"\"}, \"bgcolor\": \"#E5ECF6\", \"radialaxis\": {\"gridcolor\": \"white\", \"linecolor\": \"white\", \"ticks\": \"\"}}, \"scene\": {\"xaxis\": {\"backgroundcolor\": \"#E5ECF6\", \"gridcolor\": \"white\", \"gridwidth\": 2, \"linecolor\": \"white\", \"showbackground\": true, \"ticks\": \"\", \"zerolinecolor\": \"white\"}, \"yaxis\": {\"backgroundcolor\": \"#E5ECF6\", \"gridcolor\": \"white\", \"gridwidth\": 2, \"linecolor\": \"white\", \"showbackground\": true, \"ticks\": \"\", \"zerolinecolor\": \"white\"}, \"zaxis\": {\"backgroundcolor\": \"#E5ECF6\", \"gridcolor\": \"white\", \"gridwidth\": 2, \"linecolor\": \"white\", \"showbackground\": true, \"ticks\": \"\", \"zerolinecolor\": \"white\"}}, \"shapedefaults\": {\"line\": {\"color\": \"#2a3f5f\"}}, \"ternary\": {\"aaxis\": {\"gridcolor\": \"white\", \"linecolor\": \"white\", \"ticks\": \"\"}, \"baxis\": {\"gridcolor\": \"white\", \"linecolor\": \"white\", \"ticks\": \"\"}, \"bgcolor\": \"#E5ECF6\", \"caxis\": {\"gridcolor\": \"white\", \"linecolor\": \"white\", \"ticks\": \"\"}}, \"title\": {\"x\": 0.05}, \"xaxis\": {\"automargin\": true, \"gridcolor\": \"white\", \"linecolor\": \"white\", \"ticks\": \"\", \"title\": {\"standoff\": 15}, \"zerolinecolor\": \"white\", \"zerolinewidth\": 2}, \"yaxis\": {\"automargin\": true, \"gridcolor\": \"white\", \"linecolor\": \"white\", \"ticks\": \"\", \"title\": {\"standoff\": 15}, \"zerolinecolor\": \"white\", \"zerolinewidth\": 2}}}, \"xaxis\": {\"anchor\": \"y\", \"domain\": [0.0, 1.0], \"title\": {\"text\": \"x\"}}, \"yaxis\": {\"anchor\": \"x\", \"domain\": [0.0, 1.0], \"title\": {\"text\": \"y\"}}},\n",
              "                        {\"responsive\": true}\n",
              "                    ).then(function(){\n",
              "                            \n",
              "var gd = document.getElementById('1faf4194-4cd9-4de6-835a-101e0e6c6985');\n",
              "var x = new MutationObserver(function (mutations, observer) {{\n",
              "        var display = window.getComputedStyle(gd).display;\n",
              "        if (!display || display === 'none') {{\n",
              "            console.log([gd, 'removed!']);\n",
              "            Plotly.purge(gd);\n",
              "            observer.disconnect();\n",
              "        }}\n",
              "}});\n",
              "\n",
              "// Listen for the removal of the full notebook cells\n",
              "var notebookContainer = gd.closest('#notebook-container');\n",
              "if (notebookContainer) {{\n",
              "    x.observe(notebookContainer, {childList: true});\n",
              "}}\n",
              "\n",
              "// Listen for the clearing of the current output cell\n",
              "var outputEl = gd.closest('.output');\n",
              "if (outputEl) {{\n",
              "    x.observe(outputEl, {childList: true});\n",
              "}}\n",
              "\n",
              "                        })\n",
              "                };\n",
              "                \n",
              "            </script>\n",
              "        </div>\n",
              "</body>\n",
              "</html>"
            ]
          },
          "metadata": {
            "tags": []
          }
        },
        {
          "output_type": "display_data",
          "data": {
            "text/plain": [
              "<Figure size 2160x648 with 0 Axes>"
            ]
          },
          "metadata": {
            "tags": []
          }
        }
      ]
    },
    {
      "cell_type": "code",
      "metadata": {
        "id": "E75LJyuIU-tr"
      },
      "source": [
        "my_char = list()\r\n",
        "my_char.append(reddit_df.title.to_string())"
      ],
      "execution_count": 50,
      "outputs": []
    },
    {
      "cell_type": "code",
      "metadata": {
        "id": "UU2I5FwFU-lJ"
      },
      "source": [
        "all_values = ' '.join(my_char)"
      ],
      "execution_count": 62,
      "outputs": []
    },
    {
      "cell_type": "code",
      "metadata": {
        "colab": {
          "base_uri": "https://localhost:8080/",
          "height": 137
        },
        "id": "QoVQ1A6VZdLH",
        "outputId": "cbe08274-c866-446e-99fd-80c2319123e1"
      },
      "source": [
        "all_values"
      ],
      "execution_count": 63,
      "outputs": [
        {
          "output_type": "execute_result",
          "data": {
            "application/vnd.google.colaboratory.intrinsic+json": {
              "type": "string"
            },
            "text/plain": [
              "'0                  UPVOTE so everyone sees we got SUPPORT\\n1                           GME YOLO update — Jan 28 2021\\n2       CLASS ACTION AGAINST ROBINHOOD. Allowing peopl...\\n3       GME YOLO update — Jan 27 2021 ----------------...\\n4       Can we all take a moment and appreciate the Mo...\\n5                           IT\\'S POWER TO THE TRADERS NOW\\n6         Crazy mannnnnnn. We can\\'t let this slide at all\\n7                          It runs very deep, my friends.\\n8                                       AOC got our backs\\n9                                I’m so proud of you all.\\n10      AMERICANS CAN\\'T BUY GME, BB?!?! HELP IS ON THE...\\n11                   Congress might do something for once\\n12      IMPORTANT!! THERE ARE NO SELLERS!!! DO NOT PAN...\\n13         Not sure if anyone posted this here, but yikes\\n14                                          Doing my part\\n15      An Open Letter to Melvin Capital, CNBC, Boomer...\\n16                                               Mic drop\\n17      YOU RETARDS ARE ACTUALLY HOLDING THE LINE!!!! ...\\n18      Robinhood will not let new options or shares b...\\n19      If I can hold at -$10MM then you can hold too. 💎🙌\\n20                                  We are all the way up\\n21      Like this post if you are holding!!💎 The real ...\\n22                                                 PREACH\\n23      First of many lawsuits I hope 🤞🏻 out of this b...\\n24                                 Charles Payne gets it!\\n25                          GME YOLO update — Jan 26 2021\\n26      You know something is about to go down when mo...\\n27      I can now write my mom a check and put my sist...\\n28      Where do we go from here and who is going to s...\\n29                                                   Oops\\n30                                     RASHIDA IS WITH US\\n31           The Hero we need right now : FUCK ROBINHOOD!\\n32                               WE\\'RE IN THE ENDGAME NOW\\n33      DO NOT SELL! Robinhood has blocked the buying ...\\n34       Give them nothing, but take from them everything\\n35      Some dickhead on CNN said the government shoul...\\n36      JOSH SHAPIRO, Attorney General of Pennsylvania...\\n37      CNBC Gives Billionaires A Pass But Calls For R...\\n38      HOORAY FOR CHARLES PAYNE! “The shorts have had...\\n39      WSB\\'S REVENGE - CALLING ALL 🦍🦍🦍 TO KEEP YOUR 🍌...\\n40             Apparently it’s only ok when the 1% do it.\\n41                       This is just market manipulation\\n42      EUROPE BROS LISTEN UP: Today Is The Day. It\\'s ...\\n43                                        This is us 2030\\n44      Can you say \"CLASS ACTION LAWSUIT\". Fuck you R...\\n45      First AOC and now Ben Shapiro? This is true un...\\n46      Don’t be scared by the drop in $BB $GME etc. H...\\n47                                  LET THE PEOPLE TRADE!\\n48      Whistleblowers are coming out, it’s happening ...\\n49                       Tis a fine day to like the stock\\n50      WE are Preparing a Class Action LAWSUIT agains...\\n51                          GME YOLO update — Jan 22 2021\\n52      Citadel reloaded their shorts before they told...\\n53                                Ja Rule: Hold the line!\\n54                                       Vlad got impaled\\n55      Honorary WSB Autist award goes to Chamath Pali...\\n56      Big boys are rooting for us. This is far from ...\\n57      Elon has transcended time, space, and county r...\\n58                  GME Overnight Pajama Party Megathread\\n59      Jon Stewart just joined twitter and he likes t...\\n60                      Ladies and Gentlemen, WE GOT THEM\\n61      DFV(u/DeepFuckingValue) Just Got A Shoutout Fr...\\n62                        AOC Turning into Dave Portnoy 🚀\\n63                           MARC CUBAN SUPPORTS WSB! 🚀🚀🚀\\n64      I just bought $5,000 in $GME. I would not have...\\n65                          GME YOLO update — Jan 25 2021\\n66                                      I love you guys 😘\\n67                                  ONE OF US - ONE OF US\\n68           Which one of you glorious bastards did this?\\n69      Who stopped the losses for the millions who lo...\\n70                          Don’t stop holding, men! 🎮🛑🚀🌑\\n71      BREAKING: CNBC Officially Gives Up, Stocks Ent...\\n72                                #LONG LIVE THE MEME 🚀🚀🚀\\n73             They Underestimated How Retarded We Are...\\n74                                 How to get oil back up\\n75                                          100% Accurate\\n76                                  So much for college 🤣\\n77         30 Seconds From Triggering Market Nuclear Bomb\\n78      I guess they didn’t like my “printer goes brrr...\\n79      A dark part WallStreetBets history, and why it...\\n80      6M in GameStop GME. Following through. Can’t s...\\n81                                    Always buy the dip!\\n82      Bought at the top to encourage you retards to ...\\n83                                         GME Megathread\\n84                                        Stimmy Gang WYA\\n85      Just liquidated $188K worth of stonks AKA FRES...\\n86                                         WSB Hedge Fund\\n87                                      Our Darkest Hour.\\n88      It\\'s not about the money, it\\'s about sending a...\\n89                                        I Feel Targeted\\n90                                 All In The War Machine\\n91                                    I SAY WHEN WE SELL!\\n92      Can I get a flair for buying GME at the litera...\\n93                                    Never sell, cowards\\n94      Interactive Brokers chairman on CNBC just now,...\\n95         I know this person has to be in this subreddit\\n96      I Will Invest $100,000 Into Whatever Is The To...\\n97                58th attempt at posting my fucking meme\\n98      Ethan Klein (h3h3 podcast) joins the battle, t...\\n99                                            GME Endgame\\n100     None of these individuals are part of Wallstre...\\n101                      Gold Standard < Big Mac Standard\\n102     Lawmakers side with retail investors against W...\\n103           PETITION TO REMOVE ROBINHOOD FROM APP STORE\\n104     Tyler Winklevoss announces Gemini creating new...\\n105     Chamath Palihapitiya schools Scott Wapner on w...\\n106     In just 2hrs, WSB have forced the Financial Ti...\\n107       Papa Elon back at it again with the one liners.\\n108                                  Type yy into google.\\n109     I said if SPY closed green today, I would drin...\\n110                                          sounds right\\n111     Please give the RIGHT Robinhood hate! This is ...\\n112     When you read fake news on CNBC that Melvin su...\\n113                          We will win (Watch till end)\\n114                                         One among us!\\n115     This is MARKET MANIPULATION. Where is the SEC ...\\n116     The Financial Times are attempting to link WSB...\\n117     Why should any American company ever act respo...\\n118     Mother of God - Ted Cruz and AOC agree on some...\\n119                                  Oil is now expenzive\\n120                                            Who smiled\\n121              DONT FALL FOR THE FAKE BS REPORT BY CNBC\\n122     My dad, working through a 15-hour time zone di...\\n123                                      She belongs here\\n124                                I see dead hedge funds\\n125                         GME YOLO update — Jan 13 2021\\n126                                     Putshire Cashaway\\n127     SHARE AND UPVOTE. Screw Wall Street. We need t...\\n128     $500 Donation For Every $50 Increase in GME Pr...\\n129     No bamboozles, everyone who comments in this t...\\n130     If PAPA MUSK IS FOR US WHO CAN BE AGAINST US !...\\n131                         It really do be like that doe\\n132                                  Economic Scarcity 🤔💰\\n133     Justin Sun (Asian billionaire) has our back an...\\n134                                                Stonks\\n135     What 3,280,000 jobless claims looks like versu...\\n136     My gf and I are holding GME from South Korea. ...\\n137     I’m so fucking proud of every single person in...\\n138                                      He is one of us!\\n139     12-year old Russian trader loses everything af...\\n140                         strap in boys, they\\'re coming\\n141                                Ha, that\\'s an easy one\\n142                                       IM GONNA CUM!🚀🚀\\n143                                   DON\\'T DOUBT UR VIBE\\n144      All I have to say to CNBC is, “fuuuuuuuuck you”.\\n145                                                 Pain.\\n146           Wallstreetsbets getting infiltrated by CCP?\\n147                               Me on Nio, GE and Ford.\\n148     CONGRATULATIONS TO VERIZON ON A 98.1% loss on ...\\n149          We cant let WSB get political no matter what\\n150     200,000% Return. 4 Pre-split TSLA options purc...\\n151                                  Infinite Oil Storage\\n152           This guy knows about long term investments.\\n153     Thank you for this moment, you\\'ve given me pur...\\n154     AT THIS RATE $5,000 IS GOING TO BE NOTHING FOR...\\n155                                  Us against the world\\n156     Make sure to file a complaint to SEC about Rob...\\n157     Dear hedge fund managers, CNBC, and the like, ...\\n158                   Stimulus & Printer 500 - On the Run\\n159     Made fake tinder of 22 yr old hot girl to soli...\\n160                   Elon Musk and the SEC in a nutshell\\n161                             UNITED STONKS OF AMERICA.\\n162     I spent four hours writing Hamilton-themed PLT...\\n163                  Repost for exposure. OP: u/DNXPeeJay\\n164                  WELCOME TO WALLSTREETBETS, SOLDIERS!\\n165         Upvote to ban all of Canada from the internet\\n166                                   AirBnB NASDAQ Debut\\n167                             AOC calling out Robinhood\\n168     For the first time in my life... I feel.. At h...\\n169               Everyone Trading the TSLA Squeeze Today\\n170     Tesla up 1% today after announcing a $5 billio...\\n171                                   Goodnight Mama Su 🌃\\n172                 This ... does put a smile on my face.\\n173       The GME Thread, Part 3.14, for January 27, 2021\\n174     Why AMC, Blackberry, Nok went down during afte...\\n175     Elon trolls Jeff Bezos 24 hours after divorce ...\\n176     I want to thank you guys for saving my best fr...\\n177              Nothing can stop tech, NASDAQ 11K EOW 🚀🚀\\n178                                             Up (2020)\\n179                                            Good Gourd\\n180                    Found a Wall Street 🌈🐻 in the wild\\n181                                                   Yes\\n182     How\\'d you guys manage to win so big it made th...\\n183     TESLA TO THE MOON! Papi musk wearing the “cybe...\\n184                                    Cramer to the 🚀🚀🚀🚀\\n185                 Elon just committed the perfect crime\\n186     Tesla CEO Elon Musk Says stock price is too hi...\\n187                             \"How Reddit works\" - CNBC\\n188     You all made this happen. I fucked up and took...\\n189          ROBINHOOD HAS BEEN SUED! OTHERS TO FOLLOW!!!\\n190                                        The true story\\n191                 My coworker must be in this sub...RIP\\n192     Stop reposting the obviously fake screenshot f...\\n193                                  This sub in nutshell\\n194     Don\\'t relent now boys. I just bought 1000 on m...\\n195     If you’re wondering why Robinhood wasn’t worki...\\n196      The Tendieman - Lyrics and video by u/quigonshin\\n197     After doing my DD on researching Chinese compa...\\n198     I was there the day the strength of men endure...\\n199     “We live in a fraudulent system” - someone fro...\\n200     Someone is actively driving attention to non-G...\\n201                                            Stock Tank\\n202                             Tesla bears in the future\\n203     Elon Musk is now the richest person in the wor...\\n204                                 State of the Spectrum\\n205                         GME YOLO update — Jan 19 2021\\n206                       The Federal Reserve vs Covid-19\\n207                    When the puts go from -99% to -98%\\n208     Guys i just want to say , i never been more pr...\\n209                                The Legend Of 1R0NYMAN\\n210                                  POWER TO THE PLAYERS\\n211     Former playboy bunny Holly Madison says bulls ...\\n212     A man gave each of his 3 girlfriends $5,000 as...\\n213     Absolute scum, we cannot let these fuckers get...\\n214     GME EndGame part 3: A new opponent enters the ...\\n215     I Pledge to Delete RobinHood After The Great R...\\n216                                     A little wordplay\\n217     Congrats autists! The Cover of Bloomberg Busin...\\n218                            Elon Musk\\'s apology is out\\n219     First image of Martin Shkreli after prison rel...\\n220     GME is about more than just money, GME is abou...\\n221     Watching everyone post millions in Gain Porn a...\\n222     This Autist filed an SEC complaint against Mel...\\n223                                            Long $AMZN\\n224     Fresh technical analysis on TSLA from our favo...\\n225     Even the MOOCH knows we’re coming for the suit...\\n226                           Buy High, Sell Never 💎👐 🚀🚀🚀\\n227     The only two essential Apps to download on the...\\n228                      Our favorite analyst has spoken!\\n229                           GME price is too damn low !\\n230                                  Thank you, Dr. Burry\\n231     Guys ! Are we buying calls on water or puts on...\\n232                                  Beware The Imposters\\n233                                    I\\'m back, bitches!\\n234           I’ve never seen a clearer message from god.\\n235           Elon Musk prepares for the Q1 earnings call\\n236                       Elon is Lurking the WSB Discord\\n237     Marc Cohodes says has the evidence to blow up ...\\n238                                        PAPA Chamath!❤\\n239     PSA: RobinHood won’t recognize your face if yo...\\n240                                     He\\'s already dead\\n241     IM NOT SELLING THIS UNTIL AT LEAST $1000+ GME ...\\n242     I\\'m Sick of Hearing Wall Street Act Like We Ca...\\n243                                         Kanye gets it\\n244     Me preparing to throw large sums of money at t...\\n245     Papa is signalling us, stock will go up from 1...\\n246                                Print that shit, Janet\\n247                            Investment advice from WSB\\n248              Boys we are literally going to the moon!\\n249          What can I say, you win some, you lose some😎\\n250     Financial Times of London quoting u/openpositi...\\n251                     IM TYRONE! Sent this to my buddy.\\n252     I have hit a million! GME to the moon!🚀🚀🚀🚀🚀🚀🚀🚀...\\n253              Who\\'s in control here? We are! 🚀🚀🚀🤑🤑🤑🌕🌕🌕\\n254     $1M from $460: Video so the haters among you d...\\n255                The face of a man days from bankruptcy\\n256                        $NOK $BB $BBBY $GME $AMC $EXPR\\n257     DON\\'T LET ROBINHOOD BECOME THE SCAPEGOAT. This...\\n258     When r/investing visits wsb to see how we\\'re s...\\n259                       WSB gets emotional on Mad Money\\n260     THE TRUE WSB LOGO IS BACK!!! The ugly baby is ...\\n261     When your friends and family call you crazy fo...\\n262                                 Depression is back on\\n263     When you find out that the founder of your lar...\\n264                                     Mama, we made it.\\n265                                       Target Acquired\\n266     Chamath Palihapitiya - Thanks for supporting u...\\n267                                       Apple 8K Filing\\n268                                We fucking did it bois\\n269     It\\'s not about money...it’s about sending a me...\\n270                                  a wise man once said\\n271     Quit my job to trade for a living, ended up lo...\\n272                              Reddit is saving America\\n273                                     Tesla to the moon\\n274              Me selling all my NOK and AMC to buy GME\\n275                                             Buy $TSLA\\n276                         70k to 1.5M - BOW TO YOUR GOD\\n277     Basic guide to Wallstreetbets culture for Newc...\\n278     People are risking their lives to wage war aga...\\n279      I’ve lost so much hair I could make my own $ROPE\\n280                      Should we short Tesla stock now?\\n281     We look now, across the vast ocean between us,...\\n282     Got my tendies and my bitch and we flying to t...\\n283     BB - Now you see why Wall Street wants to keep...\\n284     My SURGEON Is On WSB, And Basically Just Calle...\\n285                       First 20 bagger! GME to 100 EOW\\n286     The GME Afterhours Thread: Part 4.20 on 27 Jan...\\n287     6 days ago : \"If GME reaches 200 by end of yea...\\n288     Man stole $122m from Facebook and Google by se...\\n289     Not to brag, but looks like I’m so autistic th...\\n290     Hey if it\\'s fucking yellow outside does that m...\\n291     Using literal chicken shit to predict next wee...\\n292               This is why you don’t bet against Elon.\\n293                   Your Bank Account’s Worst Nightmare\\n294                                      Value Investing?\\n295                       Which one you retards did this?\\n296     Me frantically trying to turn $400 into the $1...\\n297                   Ladies and Gentlemen... We got him.\\n298     Recording of GME rocket lift off. Kramer losin...\\n299     Brothers, the time has come for the ultimate Y...\\n300     Look what the neighbors are saying about you d...\\n301     Papa Musk watching the Q4 delivery numbers rol...\\n302                                     ALL HAIL THE MUSK\\n303                                  20 years from now...\\n304                     The Simpsons Predicting Oil Crash\\n305                    Me and the boys after DOW hits ATH\\n306                                TSLA investors be like\\n307     When r/all meets r/wallstreetbets. STONKS ONLY...\\n308                New icon I made for Robinhood in iOS14\\n309                              Walking out of 2018 like\\n310        420.69 at premarket - sign from the Stonk Gods\\n311                           $35k -> $1.25M in 4~ months\\n312     “BUY GAMESTOP STOCK WSB” -pulled from Twitter....\\n313        When the stock market doesn\\'t need the economy\\n314                                       I’m cashing out\\n315     TSLA - Best $100K I’ve ever spent. When do I h...\\n316                                             One of us\\n317              Clip from yesterday\\'s Tesla presentation\\n318                         Scared Money Don\\'t Make Money\\n319                   Waiting for $TSLA to do it\\'s thing™\\n320                          A Note to the Hedgie Lurkers\\n321                             This 🌈 🐻 is still waiting\\n322                          The current market explained\\n323                                 The last sub standing\\n324     Curious why Papa Elon is shilling $GME? It’s b...\\n325                Pzifer vaccine news hitting the market\\n326                          Still counts as gainz right?\\n327     Some retard walked into my clinic today needin...\\n328                        City AM’s headline is a beaut.\\n329                                This has to be the top\\n330     Volkswagen short squeeze from 2008, the red is...\\n331                                      To the newcomers\\n332                     I made this one... with my tears.\\n333     If GME hits 500 dollars I\\'m going to donate a ...\\n334     How it feels to be here while trading all your...\\n335     There cant be a trade deficit if there is no t...\\n336          The GME Thread, Part 2, for January 27, 2021\\n337     When my co-worker sees my robinhood app and as...\\n338     SHITRON JUST REMEMEBERED THAT THE INAUGURATION...\\n339                     Ladies and Gentlemen. We Got him.\\n340                                           I love 2018\\n341                        Elon carrying his second child\\n342                             What we all fear tomorrow\\n343     It has been a. Pleasure to yolo with you gentl...\\n344                                        Meme Lord Elon\\n345     We are tired of Market Manipulators and corrup...\\n346                WE MUST RALLY AGAINST THE SUITS 💎💎💎🚀🚀🚀\\n347                      This is personal. For all of us.\\n348                                              Stonks 📈\\n349                                Bezos tommorow morning\\n350     People will try to gaslight you into believing...\\n351                     We\\'re gunning for you r/askreddit\\n352                                              The king\\n353                                       New dollar menu\\n354     GME I will hold all my shares forever. Citadel...\\n355                  This Robinhood Yearly Recap is Great\\n356                 What device do you guys use to trade?\\n357                             Shitron Attacking begins.\\n358                 Bulls Take a Casual Day on the Slopes\\n359     For everyone asking for more information on wh...\\n360     If we all come up with a dollar or two, we cou...\\n361        GME Comrades! Prepare to receive your mission!\\n362     Jane Besos on her way to claim richest woman i...\\n363                                New WSB\\'er Orientation\\n364                                             1 million\\n365     Keynes said we\\'re all dead in the long run, I ...\\n366     When the markets hit an all-time high and you ...\\n367                                           #FreeJackMa\\n368                                           Every night\\n369     Filled out a survey with my experience as a WS...\\n370                              Cramer Talks about WSB!!\\n371     New banner proposal to replace the Boss Baby logo\\n372     Guys Micheal Burry, Alexandria Ocasio Cortez, ...\\n373     No Shame - All in $GME. -If this baby finishes...\\n374     Last post got removed. Yesterday I posted a $2...\\n375     Tonight showed how much the average retail inv...\\n376                                Change it back please.\\n377              It‘s cocksure coming...any moment now...\\n378              Watch me remake $GME\\'s logo in 5 seconds\\n379     My Dad found out I was trading options and gav...\\n380                   This is the king of energy we need.\\n381                              Poppa Elon has a request\\n382                                        WE DID IT GUYS\\n383                                  Hang in there kings.\\n384                                   Buy the dip! right?\\n385                               You wouldn\\'t understand\\n386                           EVERYONE JUST STAY CALM!!!!\\n387                                   Never change, guys.\\n388          You Guys Really Don\\'t Know Anything, do You?\\n389     UPDATED JAN 27TH SHORT INTEREST DATA POSTED BY...\\n390     Which one of you retards was at my local brewe...\\n391                       Scientific proof to inverse WSB\\n392                    Melvin is down another 25% on $GME\\n393     FORGET MOON WE’RE GOING ALL THE WAY TO FUCKING...\\n394                                 Let it go my brothers\\n395                     Can’t pump stocks on a Sunday bro\\n396     Big THANK YOU to Charles Payne at Fox Business...\\n397     You guys need to stop wasting money on useless...\\n398                                      Q1 Earnings Show\\n399                    Keep going! The 99% against the 1%\\n400                   Robinhood gang, RISE UP! (Sound On)\\n401     THE GREAT WAR BETWEEN WSB AND TRADITIONAL INVE...\\n402                             TSLA 400p 7/17 confirmed?\\n403     Boomer Old Money has bled and will get dirty g...\\n404     So I finally made it up to 1 million. It hones...\\n405                                                     💤\\n406                             DeepFuckingValues Pay Day\\n407                         Fuck these fools FIRE IT UP!!\\n408     To the guy browsing WSB ON yesterdays flight f...\\n409                                  A true Autist. $TSLA\\n410     Losses on short positions in U.S. firms top $7...\\n411     YOU CAN STILL BUY GME & BB on WeBull, eTrade, ...\\n412                                  Just buy tech calls.\\n413     The inevitable progression of every WSB member...\\n414                   This week literally changed my life\\n415     She doesn’t understand stonks and how they onl...\\n416                                         loss porn 101\\n417     WE JUST NEED TO HOLD AND WE WILL FEEL LIKE ELO...\\n418            Bears feasting on AAPL next week confirmed\\n419     AMC, BB AND MOST IMPORTANTLY GME WILL BE BACK!...\\n420                                    Maximum low effort\\n421                        It\\'s been downhill since March\\n422     If I can hold at -$15MM, then you can hold too...\\n423                                           Perspective\\n424                                            Good Point\\n425     IMPORTANT! Melvin and Citadel manipulated and ...\\n426     /u/1R0NYMAN creating $300k of Robinhood Credit...\\n427                            this does not feel bullish\\n428                   The Bear Case vs Bull Case Argument\\n429                                        save us jerome\\n430                           The REAL person of the year\\n431     My wife asked what all the /u/1r0nyman referen...\\n432     Trading exclusively in virtual reality now bec...\\n433                            Raise your diamond hands!!\\n434     SEC is a joke, insider trading is rampant, if ...\\n435     When r/all meets r/wallstreetbets: FOMOs and Y...\\n436     I sold half my Tesla shares today. I bought my...\\n437                                An open letter to CNBC\\n438     The Big F*cking Short Squeeze - Out 19th Janua...\\n439                        They found Jack Ma... BABA 🚀🚀🚀\\n440                        That\\'s what matters in the end\\n441        It\\'s our cherished annual tradition returning!\\n442                 \"I\\'ll make up for it in my next YOLO\"\\n443                                   Time to move to ToS\\n444                                  Autism IS contagious\\n445                                       I love you guys\\n446                                        Posting on WSB\\n447     Someone tweeted this - DASH and ABNB $5.8B rev...\\n448     Trading Firm Bankrupted After Algorithm Tracki...\\n449         Dashcam footage of WSB vs. other finance subs\\n450                $6+ million gains in 1 year (+48,000%)\\n451     WSB is hands down the best internet community ...\\n452                                  Aim high, Robinhood!\\n453     WeWork’s IPO is failing because the customers ...\\n454                                       Honestly though\\n455                                             billy no!\\n456                    900->20k->24 thanks to you retards\\n457                WeBull Opened for Trading GME and AMC!\\n458     117k to 5k. I sit here typing this as I drown ...\\n459                               A Message From The Mods\\n460     Please pay respect to R/deepfuckingvalue and w...\\n461      PLTR and NIO holders who bought bought the peak.\\n462                       Bend over, here it comes again!\\n463                                          never change\\n464                                    Deal or Priced In?\\n465                    All of you in the next few months.\\n466                               Jeff Bezos hard at work\\n467                       Logan Paul finds another corpse\\n468                         GME YOLO update — Jan 14 2021\\n469                                 Money printer go BRRR\\n470                                    Some of you autist\\n471                                 GME: Gamestonk Thread\\n472     You asked for the bear to be gayer. New mascot...\\n473                         It literally can\\'t go tits up\\n474                      Cramer is talking about us PLTR🚀\\n475                                    This could be huge\\n476     Joe Rogan told his friend about his Spotify de...\\n477                                     Bulls take flight\\n478        Banksy says hold. We hold. (Repost from /pics)\\n479     JUST A REMINDER: Shorts don\\'t have an expirati...\\n480       Yes Grandpa dump those bonds and buy TSLA calls\\n481                       Is This the WallStreetBets Way?\\n482     Everyone tomorrow when the market opens. AKA GME.\\n483                          Steve is disappointed in us.\\n484                                   You fucking idiots.\\n485                               He has revealed himself\\n486     Basically the result my trades over the last t...\\n487                                   Fuck Warren Buffett\\n488                  When your Tesla calls don\\'t print...\\n489                           Lemme GUH some Margin Fraud\\n490                                          Fox Business\\n491     Robinhood App Hit With Class Action Suit After...\\n492     I used to work @ Merrill. Here\\'s what likely h...\\n493              Breaking the bad news early for you guys\\n494     Citadel has blocked all trading partners (Such...\\n495                     The Great Bear Depression of 2020\\n496     Tesla testing new ‘self-driving’ vehicle w/ ro...\\n497     Facebook\\'s put play from yesterday. Im 20, tim...\\n498                             The Squad is on our side!\\n499                     Just put $200,000 in GME shares 🚀\\n500                   Taking advice from WSB be like this\\n501                                            One of us!\\n502     WARNING: Ameritrade requires you to have had a...\\n503                                   D Day is in 8 hours\\n504                  It’s our cherished annual tradition!\\n505                 GME Containment Zone 1 for 28 January\\n506     I\\'m the guy that went from 2k to 100k in a mon...\\n507     WSB has ruined my young life (sound slaps, tur...\\n508                               It\\'s about to go crazy!\\n509                 A rare look into a typical WSB DD lab\\n510     GME Thoughts, YOLOs, Gains, Stonk Updates, 🚀🚀🚀...\\n511     WSB community holding onto $GME til $1000 agai...\\n512     Only invest what you can afford to lose they s...\\n513     Dumping your entire net worth into SPY calls >...\\n514                                      YOLO Tesla Gains\\n515     I wonder if anyone had a better return than 96...\\n516     It’s been in front of us all along AMZN 9/18 4...\\n517     Bulls seeing the senate going into recess and ...\\n518                         For all the boomers out there\\n519     They\\'re trying to say this was all done by \\'Na...\\n520     Just arrived today, had a canvas portrait made...\\n521                                            Who nutted\\n522     Much like Derrick Henry, the S&P 500 cannot be...\\n523     THEY WANNA FUCK WITH US? THE PRICE JUST WENT U...\\n524                                      Stonks this week\\n525     If $GME reaches $2,000 per share, our king u/D...\\n526     This is the most autistic thing I\\'ve seen done...\\n527                            Dr. acting like a Grinch 😂\\n528             As if the damage hasn’t already been done\\n529                    Whoa... the stock is so high lol 😳\\n530     Petition to change our mascot back to the OG b...\\n531                She doesn’t get it guys. Too the moon!\\n532       Inside CDC Headquarters: Coronovirus discussion\\n533                                    The split strategy\\n534                  He joined us without even knowing it\\n535                   How do I go long on Chuck E. Cheese\\n536     Please, risk management. Don’t be like me. 409...\\n537     Well Robinhood, I don\\'t know how many tendies ...\\n538                                        I’m still sore\\n539                      The GME Journey Doesn\\'t End Here\\n540                             Let\\'s prove this mf wrong\\n541     We did it boys. Always glad to see an autist o...\\n542     Ok, listen up folks. Rule 1: “It’s not a loss ...\\n543                Watch Cuomo crucify Robinhood CEO Vlad\\n544     100K+ PSTH YOLO with 10K+ 50 $30 2/19/21 calls...\\n545     WSB Has Singlehandedly Restructured Risk Manag...\\n546     Thanks to selling puts on Amazon I no longer n...\\n547                     Attack on Wall Street pt. 1 (SUB)\\n548              The highest conviction trade of all time\\n549     Friendly reminder on what to do during this Fe...\\n550     Hi, I\\'m back. You may remember me from such ev...\\n551        I paid off all of mine and my girlfriends debt\\n552     I bought KimJong-un.com and redirected it to W...\\n553     Chris Hansen would like WallStreetBets to take...\\n554                           The wolf of the white house\\n555                        GET YOUR ASS AT 8:30 ON TWITCH\\n556               PLTR just won this man a PlayStation 5:\\n557     “How did you decide on a strategy before yolo’...\\n558                                No fight for green men\\n559        What Are Your Moves Tomorrow, January 28, 2021\\n560      Negative news ain’t gonna stop these algo boys 📈\\n561     To the rest of Reddit infiltrating wsb to try ...\\n562                             Fixed The Bloomberg Cover\\n563                       Years of trading academy wasted\\n564            Our Favorite Twitter Account Strikes Again\\n565        Make sure you set realistic goals for yourself\\n566                      50k to 1M. Thank you daddy Musk!\\n567                                     Wallstreet Debate\\n568            \\'Palantir technologies, yes. 5000 shares.\\'\\n569                           SPY 225 next week confirmed\\n570     Robinhood free money cheat works pretty well. ...\\n571                                          Load up boys\\n572                    Rush Limbaugh is going TO THE MOON\\n573                         The Onion confirmed DD source\\n574       Moderator\\'s Update on Paper Trading Competition\\n575                                     NEW HIGH SCORE!!!\\n576     The biggest risk we face (and why it\\'s nothing...\\n577                                         Its been real\\n578                              How do I face my family?\\n579                        HAPPY TSLA BACHELOR PARTY DAY!\\n580                        TSLA 1103% gain. Never selling\\n581             Live footage of GME on January 28th, 2021\\n582                                Map customized for wsb\\n583     The day the market crashed, monday the 16th of...\\n584     Citadel realizes how smooth brained Melvin Cap...\\n585                       My new tradeing Command Center.\\n586     $69,420 per share of GME is just the right amo...\\n587     Zoom is Now Worth More Than the World’s 7 Bigg...\\n588                Guess who’s losing money tomorrow WOOO\\n589     \"I don\\'t give a shit about Tesla I just want t...\\n590                 NOTHING IS BEYOND REACH OF OUR AUTISM\\n591                                    A Beautiful Design\\n592                              THEY ARE SHUTTING US OUT\\n593              WallStreet\\'s Got Talent: The 2020 Market\\n594              What is the point of /r/personalfinance?\\n595                                      True WSB legends\\n596                               HAPPY NEW YEAR WSB 🚀🚀🚀🚀\\n597     14k -> 159k -> 4$ , this is what happens when ...\\n598                       Dear Diary, I lost it all again\\n599                                             One of us\\n600     PSA: Always understate your gains to friends a...\\n601                                            *Surprised\\n602                                 They said buy the dip\\n603     My Girlfriend PDT restricted and thought it wa...\\n604     Made 6 figures this year and asked my account ...\\n605             Cramer doesn\\'t know who he\\'s dealing with\\n606                                      Unbridled Autism\\n607     No news in 5 days except for \"We\\'re stopping f...\\n608                               Who’s next on the list?\\n609     Apple started WWIII so that phones would be de...\\n610                                             One of us\\n611     Good Luck tomorrow Bear Gang, You\\'re Gonna Nee...\\n612                        $PLTR 🚀 It\\'s been a wild ride.\\n613     Founder of Reddit tells Chamath Palihapitiya t...\\n614     Retarded Chinese investors reacting to NKLA re...\\n615     Imagine being so autistic you make 4.2 Million...\\n616              Not to mention that whole pandemic thing\\n617               Either way money printer still go BRRRR\\n618                             I have to go make a call.\\n619                                     CNN every morning\\n620                                            Long $LYFT\\n621                                       Stocks go brrrr\\n622                  Ode to GME. Holding my 14.56 shares.\\n623     As Sunday evening approaches, JPOW JR checks i...\\n624     Found on Twitter - dude tries to get laid usin...\\n625           GME Containment Zone 2 for January 28, 2021\\n626                                               Stonks.\\n627            Woke up a millionaire thanks to CRSR. Nice\\n628                   It’s not a loss if you never sell 🤔\\n629                                  50/50 chance ladies.\\n630                                            The Big FD\\n631     I promised all of you Micron would close above...\\n632     \"If you hold long enough, it will increase in ...\\n633                                                   Oof\\n634                                        We did it WSBs\\n635     THE CEO OF INTERACTIVE BROKERS JUST SAID LIVE ...\\n636                            WHO\\'S READY FOR MONDAY 🚀🚀🚀\\n637     There is a coordinated bot attack happening on...\\n638     $GME INFINITY WAR Update from the front lines ...\\n639                                         $TSLA to Mars\\n640     If SPY closes green tomorrow, I\\'ll get a tatto...\\n641     I will fucking buy tomorow! FELLOW NON-AMERICA...\\n642                   When a new autist joins this sub...\\n643                      Be careful before you stereotype\\n644     34k -> 566k in AMZN Calls this week - I\\'m out ...\\n645     I was an investor until last week I finally be...\\n646                    WSB users interacting in real life\\n647             Wall Street Guy Here - I\\'ve got your back\\n648               WSB \"YOLO King\" Lands Interview on CNBC\\n649     THX TO WSB AND GME I CAN FINALLY GIVE BACK TO ...\\n650     Explanation for noobs who don\\'t quite understa...\\n651     R.I.P WSBGod, may your tendies rain down from ...\\n652            The GME Thread Part 3 for January 26, 2020\\n653                            New business strategy lads\\n654                           What have you tards done???\\n655     Stop trying to use WSB as your personal pump a...\\n656     \"2.3 million people as important or more impor...\\n657     Last post got removed. If I can hold so can yo...\\n658          Let the people trade!!! Class action filed!💎\\n659                        These past two days be like...\\n660                                     WE LIKE THE STOCK\\n661             At least one you guys made it out on top.\\n662                          Tesla earning here I come 🔥🚗\\n663                                      Trust the Bubble\\n664     One of us on CNBC. QuirkyMushroom you famous bro.\\n665                               What Liquidity Problem?\\n666                                          AMD vs Intel\\n667                                  We’re all smart here\\n668                                    Keep it up retards\\n669     Step 4) Buy stock Step 5) What is the stock ma...\\n670                     America’s Self-Sustaining Economy\\n671               RH keeps digging itself a bigger hole!!\\n672                                  timing is everything\\n673                                          GME DRIPPING\\n674                        Some advice from the old fucks\\n675     The RH shutdown is only drawing more attention...\\n676     Instantly thought of this sub when I saw this ...\\n677                          Tesla Call Holders Last Week\\n678          WSB only wants one thing and it’s disgusting\\n679     Fed Hate Thread: These fucking bankers say in ...\\n680                                   WSBgod vs THE MOUSE\\n681                                       Ultimate Retard\\n682                              Bull Gang - 9 days later\\n683                                      Chicks with $DKS\\n684     The level of scrutiny these stocks go thru bef...\\n685        AMZN absolutely savage with targeted ads today\\n686     Robinhood turned its theme to red today in hon...\\n687     First week on Wallstreet, nobody told me about...\\n688     GMREEEEEEEEEEEE Containment Thread - GME shitp...\\n689              How Investors Feel When Tesla Skyrockets\\n690     Been a wild ride this year, converting 17,000 ...\\n691     Mia Khalifa getting pumped and dumped in new ways\\n692     My wife asked me what \"tendies\" were, so I mad...\\n693     Down 790k today. DIAMOND. FUCKING. HANDS. TO T...\\n694                        Bonjour, I am Ze new Chairman!\\n695     Free money tomorrow unless you hate yourself a...\\n696      All My Money Goes Away In The End ft Johnny Cash\\n697     RASHIDA TLAIB SAYS THAT CONGRESS NEEDS TO HAVE...\\n698     Papa Elon, hold us, tell us it’s going to be o...\\n699                                  This is a revolution\\n700     $SPY going to $500 because it’s literally call...\\n701     Oil tankers are returning to the California co...\\n702      Gentlemen it’s been a pleasure to YOLO with you.\\n703                          GME YOLO update — Oct 8 2020\\n704                            $10k -> $1k -> $70k -> $2k\\n705                                      Wall Street Land\\n706                        Joining WSB for the first time\\n707     Thanks PLTR and NIO, donating $500 to my local...\\n708                          You think I’ll get the job ?\\n709          A brief explanation of options for stoolies.\\n710      Dramatized reenactment of my first options trade\\n711                            Guys is it time for calls?\\n712                                     Tomorrow be like:\\n713                         Papa Musk with the wise words\\n714     The hedge funds WILL lie on their short positi...\\n715                                      Today is the day\\n716               We\\'re all gonna be fucking millionaires\\n717                        Just another day in the market\\n718                                     Bull Belly Floppp\\n719                                 GME Megathread Part 2\\n720                        Don\\'t ban me. I\\'m just venting\\n721        \"I\\'ve been trading options the last few weeks\"\\n722     I’m beginning to think holding Shopify was a g...\\n723        Martin Shkreli found guilty on 3 of 8 charges.\\n724            The GME Thread Part 1 for January 26, 2021\\n725                                         Fuck you KODK\\n726                           SpaceX New Rocket Confirmed\\n727         Dinosaur Pattern - Gold Bull Market Confirmed\\n728     SEC Launches Investigation Of Trading In Kodak...\\n729            FSLY Showing “Dick n’Balls” Shaped Decline\\n730     He hath delivered thy autismos to the promised...\\n731                            \"We got \\'em on the ropes!\"\\n732     (GME DD) One DD to rule them. One DD to find t...\\n733     If true, this would make a lot of sense about ...\\n734                    Welcome to Fabulous Wallstreetbets\\n735      I’ve never scored above a 99% on anything before\\n736      Joker pays Melvin a visit before $GME hits $1000\\n737        The GME Thread, Part 2.1, for January 27, 2021\\n738                     Prepaid $TSLA Calls! Only 1.1k!!!\\n739     If PLTR hits $40 in the next 2 weeks, I\\'m leav...\\n740                                     WSB vs. the world\\n741                Recently converted and proud Bull here\\n742                                          It\\'s so easy\\n743                              No one can challenge us.\\n744                                     The Oracle Speaks\\n745                                             Short NKE\\n746                                                WSB rn\\n747     Apparently, this is the place people come afte...\\n748                   Cheers. 🥃 However it will end today\\n749                         Get those $V calls ready boys\\n750                             People in this sub be tho\\n751     Now that Uber doesn\\'t have a CEO, COO, CFO or ...\\n752                                           Them apples\\n753     A note to everyone holding GME: If the price d...\\n754                            Gain and loss under 5 mins\\n755     Sen. Warren give zero fucks about the hedge fu...\\n756     Mod Appreciation Post. A highly stressful, non...\\n757                            Robinhood Execute Order 66\\n758                                Buffett\\'s Plan for WW3\\n759                       I am so proud of this community\\n760                           Never Go Full Money Printer\\n761                                    Fat fingers Monday\\n762                                    The Duality of Man\\n763     Warren Buffett on Airlines, Scared Money Gon\\' ...\\n764     I imagine this is how most conversations with ...\\n765                   Leaked Nicola investor presentation\\n766                                         Don’t deny it\\n767            At the End of the Day, Money is just Paper\\n768     Citron shorting PLTR, they expect it to fall t...\\n769            The GME Thread Part 2 for January 26, 2021\\n770     However this ends.... We live in the greatest ...\\n771     U did it autists, you\\'re on front page of bloo...\\n772                                             One of us\\n773     First time posting here. I hope this is ok. My...\\n774     WARNING: brokers coordinated attack is going o...\\n775     NY Times on our GME run: \"Propelled by a mix o...\\n776                               x-post from r/dankmemes\\n777     GME shorts get crushed as explained by Cramer ...\\n778                              She says it\\'s for luck 😤\\n779     Holding my 10 Bagger calls only to see Trump a...\\n780      Wall Street Musk Convinces Joe Rogan To Buy Puts\\n781     An alarm clock app that Yolo’s money into stoc...\\n782                                                Me IRL\\n783        All the new r/WSB autists who joined in August\\n784                              Just don\\'t fucking dance\\n785     New banner/mascots/logo proposal: Big Gay Bear...\\n786                                I love the WSB discord\\n787     Bears celebrating their Lehman shorts behind r...\\n788                  Just bought some calls on $PUMPKIN 🎃\\n789          Every time I see a \"Technical ANALysis\" post\\n790     If you think the current WSB logo is bad, this...\\n791                              How To Trade Like A Pro!\\n792                                 TSLA shorts vs longs.\\n793                                         Uber and Lyft\\n794     Autist traded options before knowing what they...\\n795     JPMorgan has a new index — called the “Volfefe...\\n796                   Cheers 🥂. However it may end today.\\n797      Elon’s taking a break from Twitter.. TSLA 1,500!\\n798                      The adult version of “Game Over”\\n799     I love my Dad. This is where he put his X-Mas ...\\n800                               In the Land of China...\\n801     As a rebuke to Robinhood, I will be withdrawin...\\n802                                 Where We Headed Boys?\\n803                                    BUILT DIFFERENT \\U0001f976😈\\n804                       Its been a rough year & a half.\\n805                                 Gotta start ‘em young\\n806                                    JPOW only knows ⬆️\\n807                       New Robinhood Traders this week\\n808      \"S+P 500 set for longest losing streak in 2 yrs\"\\n809     Texas fifth-grader makes $3,200 off GameStop s...\\n810                                    Fuck it Im retired\\n811                                  Stock Market of 2020\\n812           One of you guys got caught insider trading?\\n813                              KANYE HAS JOINED. HOLDDD\\n814      🚀🦇🚀$GME SQUAD - TOMMOROW THE DARK STONK RISES🚀🦇🚀\\n815                                             Long $EA?\\n816                     Yahoo exec WSB members confirmed?\\n817       The Wallstreetbets Bears Survive the Quad Witch\\n818     When the relatives ask “how’s the trading goin...\\n819     Elon Musk will be the richest person in the wo...\\n820                      How I figure 2019 is going to be\\n821                               Citron video summarized\\n822                   Tesla’s stock price is too high IMO\\n823           DeepfuckingValue teaching the young autists\\n824                                 I made it! 6 figures!\\n825                             When will you guys learn?\\n826                                    Candlelight dinner\\n827                          I think DFV likes this stock\\n828              Friday night 8:10 showing, buy AMC puts.\\n829     The harder they soar, the FSLY they fall (-4.4...\\n830                        WSB Hedge fund management team\\n831                              I Get Paid To Do Nothing\\n832            Any brokers accepting puts on my marriage?\\n833     yo someone asked for the version with Elon in ...\\n834           Tesla Truck I\\'m only going to say this once\\n835     Today was a coordinated attack by institutions...\\n836                                      My day in a meme\\n837                                     When QQQ dips 1%.\\n838                        Obama: Coffee and the markets.\\n839     The Great Unwinding: Why WSB Will Keep Losing ...\\n840        I am financially ruined (agricultural futures)\\n841                              Ryan Cohen discovers WSB\\n842     I\\'m in tears, already life changing money is t...\\n843     If we had to personally interact with ours bro...\\n844                             💎💎💎 HE IS OUR LEADER 💎 💎💎\\n845                           WSB makes a plan for Monday\\n846                     i DoN\\'t WaNt To TrAdE yOu AnYmOrE\\n847                 Bears finally waking up to seeing red\\n848                               Nothing to worry about.\\n849                                             Relatable\\n850     How all of you look spamming your shitty quest...\\n851                True account of the emergency rate cut\\n852                            All in Huawei!.. oh wait:(\\n853                                 Welcome to story time\\n854                                This deserves a repost\\n855      I heard I can trade this in for internet points.\\n856           What half of the DDs posts sound like to me\\n857                                               Tipanic\\n858     Fed Chair \\'Mountain Dew\\' Camacho Powell\\'s plan...\\n859     400% return in 2 minutes. Should I release an ...\\n860                            Grab her right in the YOLO\\n861     GME - Listen to this german guy: The most impo...\\n862        Shkreli Sentenced to 7 years in Federal Prison\\n863                                       GTA 6 Confirmed\\n864                $BB At The $GME Refuelling station 🚀🚀🚀\\n865                                               Phew...\\n866                                 Quite Musky right now\\n867                                   Buffett wants Becky\\n868     Musk\\'s correspondence with the investor willin...\\n869     It was a calculated risk, but man, am I bad at...\\n870     It took 9 years for wsb to reach 2 million deg...\\n871                My experience with members in this sub\\n872      u/RobinhoodTeam tries to manage r/WallStreetBets\\n873                             Wsb was around back then?\\n874     Welcome to Reddit r/Wallstreetbets : The best ...\\n875                                             Papa Elon\\n876                 Congratulations, you played yourself.\\n877                                           JPOW\\'s plan\\n878                            GME Thread: The Wreckoning\\n879                                 ONE OF US! ONE OF US!\\n880     Stop with the support threads. If you need emo...\\n881                                           It’s a sign\\n882     SEC when they visit our future building in wal...\\n883                                  Good work gentlemen.\\n884                                            No Ragrets\\n885     Boomers crying over WSB, I\\'m also too stupid t...\\n886     WE LOVE THE STOCK. But apparently that\\'s causi...\\n887                    AAPL\\'s innovative product strategy\\n888                        Wall Street is out of bullets.\\n889                              Pfizer news this morning\\n890     JFK\\'s dad made a billion dollars with insider ...\\n891                              Thank you for flying WSB\\n892     If tonight is the last night for the sub, I lo...\\n893                                              Hahahaha\\n894                  To all the Newbz asking for advice -\\n895                         GME YOLO update — Dec 22 2020\\n896     I parsed over a million r/WallStreetBets comme...\\n897              Some GME gain porn (not fucking selling)\\n898               Buyin Puts At the Bottom (bear edition)\\n899          TSLA 🚀🚀🚀🚀 PAPA MUSK RICHEST MAN IN THE WORLD\\n900                      Chris Hansen - To Catch a Bear 🐻\\n901                                        Stonkss go ups\\n902                    Inappropriate joking about suicide\\n903                                     It\\'s official !!!\\n904                                     Sesame Wallstreet\\n905       WSB survives the great reddit hate speech purge\\n906     National Parks Know What is What. Found in fro...\\n907                                Ding dong it’s the SEC\\n908                                 Investor Starter Pack\\n909                    Chamath Palihapitiya for President\\n910     They are on to us... r/wallstreetbets on Bloom...\\n911     When you move out of Mom\\'s basement and the de...\\n912               Hey yall. I drew the original baby, AMA\\n913        Up 0.5% pre-market after losing 20% in 2 days.\\n914     Went from 80k to 2.2m to 1m in the past month....\\n915     If you switch Google to Korean, red Means UP. ...\\n916         When I transfer my 401k to a self managed IRA\\n917      WallStreetBets now public again due to scammers.\\n918                                          TSLA TENDIES\\n919     500 upvotes and I’ll hold $250,000 in $MU into...\\n920                 The different types of DD on this sub\\n921                                                  META\\n922                    Goldman Sachs alludes to GME & WSB\\n923                              The intelligent investor\\n924                                  How to insider trade\\n925     Say Something I\\'m GUHving Up on You (oFfIcIaL ...\\n926                                           And Forbes?\\n927                          Seems like a solid bull flag\\n928                Learning the tricks of the trade young\\n929                     Trading advice from WSB in a meme\\n930                    The only financial advice I follow\\n931                  I\\'m finally getting the hang of this\\n932                                    Elon’s master plan\\n933                Might be best to go private for a bit?\\n934                                     WE LIKE THE MODS.\\n935     This is the WORST stock manipulation I\\'ve ever...\\n936         The unofficial wallstreetbets alignment chart\\n937                               The Great Crash of 2020\\n938                                    Donation we needed\\n939     Always keep karma in your favor in the market....\\n940     BULL GANG renaming the Virus is the only way C...\\n941                          r/askreddit is asking for us\\n942                        Magic lines go brrrrrrrrrrrrrr\\n943                          Don\\'t lie, we\\'ve all done it\\n944                        Ah yes that time of year again\\n945     This is my Martin Shrekli. He made me $50,000 ...\\n946     Hertz bankruptcy is CANCELLED by robinhood \"in...\\n947                                        Lord of Stocks\\n948                   Its not Robinhood’s fault this time\\n949                                  Robinhood be like...\\n950     Paper hands can turn into diamond (credit to /...\\n951     Boeing 737 runs over and kills a bear while la...\\n952     Took a break from jacking off to check pre-mar...\\n953     Robinhood and other brokers literally blocking...\\n954     Bernie Sanders unveils plan to raise corporate...\\n955     United Airlines stock down over 5% premarket t...\\n956           Bitcoin was nearly $20,000 a year ago today\\n957     If in 2001, you bought $399 of Apple stock ins...\\n958     Merck CEO resigns from Trump\\'s American Manufa...\\n959     Uber Fined $649 Million for Saying Drivers Are...\\n960     Long Island Ice Tea Corp, a beverage company, ...\\n961     TIL if you had bought EA stock after they were...\\n962     Tesla posts profit of $2.92, stock jumps 7 per...\\n963     PSA: There\\'s an extremely high quality MIT Fin...\\n964     WSB Went private, and due to an absolutely rid...\\n965                AMAZON BUYS WHOLE FOODS FOR 42$/ SHARE\\n966     PSA: Please stop posting here about WSB affair...\\n967     Foreign purchases of American homes plunge 36%...\\n968     I paid $1000 for an Adam Khoo investing course...\\n969     Democratic presidential candidate Elizabeth Wa...\\n970     If you want to learn how to trade please DON’T...\\n971     McDonald’s is spending nearly $1 billion in 20...\\n972     John Bogle, who founded Vanguard and revolutio...\\n973     Twitter loses $5 billion in market value after...\\n974     Chamath Palihapitiya was just on CNBC trying t...\\n975     The lawyer who took on Big Tobacco and Enron i...\\n976     Today\\'s stock market crash was worse than the ...\\n977     \"Brands don’t need Amazon\". Nike\\'s decision to...\\n978     President Trump signs executive order banning ...\\n979                       GameStop (GME) halted at $72.80\\n980     70% of new home purchases in China are second ...\\n981     It took Amazon 18 years as a public company to...\\n982     Unnamed trader casually turns 500k into $8mm b...\\n983           Gamestop Big Picture: The Short Singularity\\n984     TSLA up another 12-13% today. In June its mark...\\n985     I created an algo that tracks the most hyped s...\\n986     Bankrupt Sears wants to give executives $19 mi...\\n987     Americans younger than 50 hold just 16% of all...\\n988     Coronavirus job losses could total 47 million,...\\n989      Trump leans toward banning buybacks for bailouts\\n990     FDA threatens to pull e-cigarettes off the market\\n991     Elon Musk intends to buy $20 million of Tesla ...\\n992     I graphed whether Reddit panics before the sto...\\n993     WSJ: No rent was paid in April by nearly a thi...\\n994     Retailers are slashing iPhone prices across Ch...\\n995      20yr loses 700k on Robinhood options, takes life\\n996     Warren Buffett: If a bank needs a government b...\\n997     Dow dives 400 points, heads for worst week in ...\\n998     /R/Investing has thrown its own advice out the...\\n999     Uber CEO says its service will probably shut d...\\n1000    Federal Reserve cuts rates to zero and launche...\\n1001    For people asking if we are near the bottom, s...\\n1002                     Introducing the White Girl Index\\n1003    US Treasury designates China as a currency man...\\n1004                           Sears files for bankruptcy\\n1005    Today is the #1 largest point drop ever(-$2352...\\n1006                    My experience of the 2008 bailout\\n1007    Goldman: Goldman Sachs official says companies...\\n1008    Entirety of Nikola’s $36,000 quarterly revenue...\\n1009    India finds goldmine with 3500 tonnes of gold ...\\n1010    Nasdaq hits all time closing high, S&P 500 hig...\\n1011    Reminder: BABA stock does NOT entitle sharehol...\\n1012    The first $100,000 is the hardest, Anyone else...\\n1013    Warren Buffet Says We Learned Nothing From The...\\n1014    Federal Reserve find that cities that interven...\\n1015    The father of the index fund says it’s probabl...\\n1016    Chuck Schumer and Bernie Sanders call for rest...\\n1017    Deutsche Bank hit with $150 million penalty fo...\\n1018    JPMorgan is stopping financing of private pris...\\n1019    Nearly $170 billion wiped off cryptocurrency m...\\n1020    Warren Buffett, as always, looks like the smar...\\n1021    Warren Buffett\\'s Berkshire Hathaway sells 12.9...\\n1022    Ford canceling plans for $1.6 billion plant in...\\n1023    Tesla opens up at $440 post split and soars 12...\\n1024     How to not get ruined with Options - Part 1 of 4\\n1025    Tesla becomes 6th largest U.S. company, surpas...\\n1026    Tesla ($TSLA) has around $1 billion in debt co...\\n1027    Beyond Meat now trades for $5 billion, 61 time...\\n1028    US now pumping more oil than Russia and Saudi ...\\n1029    Apple is no longer the most valuable brand in ...\\n1030       Musk tweet knocks $14bn off Tesla market value\\n1031    I want to verbally vomit a few chunks about ho...\\n1032    Cramer thinks Wall Street pros may be playing ...\\n1033                    Reasons We May Not Be in a Bubble\\n1034    Johnson & Johnson has been ordered to pay near...\\n1035    Buffett wins $1M bet that the S&P 500 would ou...\\n1036    \\'Johnson & Johnson knew for decades that asbes...\\n1037    Disney and other companies reportedly suspend ...\\n1038    Goldman Sachs warns data point to a historic a...\\n1039    Nikola founder Trevor Milton forfeits $166 mil...\\n1040                          A Reminder from Mr. Buffett\\n1041    Jeff Bezos Sells About $1.8 Billion Worth Of A...\\n1042    Apple becomes first U.S. company to reach a $2...\\n1043    Jeffrey Gundlach, the CEO of $135 billion Doub...\\n1044    Everyone asks about 2008, but what was it like...\\n1045    24 Hour Fitness weighs bankruptcy as coronavir...\\n1046    McDonald\\'s says it expects to launch a plant-b...\\n1047    Stop stressing about which party is better for...\\n1048    Elon Musk warns employees Tesla\\'s stock could ...\\n1049    JPMorgan Chase to pay record $920 million to r...\\n1050    Analyst: Nike sales surge 31% in days after Co...\\n1051    Jack Ma Emerges for First Time Since Ant, Alib...\\n1052    Nike $NKE fell nearly 2 percent after a sneake...\\n1053    Airbnb was valued $18B in March, today at $150...\\n1054    China Is Out of Economic Ammo Against the U.S:...\\n1055    Number of unpaid credit card accounts in April...\\n1056    Costco beats profit estimates and boosts minim...\\n1057    Dow futures surge more than 400 points after T...\\n1058    As of now, Microsoft is the biggest company by...\\n1059    Tesla hit $500 and 90B Market cap. If it grows...\\n1060    WSB traders uses Robinhood Margin exploit to b...\\n1061    World Health Organization declares the coronav...\\n1062    Today was the day. This has been a long time c...\\n1063                       Italy to quarantine 10 million\\n1064              My Coronavirus Stock Portfolio strategy\\n1065    Dow Jones posting its best one day gain since ...\\n1066    China\\'s Kangmei Pharmaceutical Fined $84,600 f...\\n1067    SCMP: As many as 205 million Chinese workers c...\\n1068    Amazon says it will not build a headquarters i...\\n1069                                            I did it.\\n1070    When to contribute to your IRA. An original st...\\n1071    With looming Tiktok deal estimated at $50B, MS...\\n1072    US Treasury OCC will allow US banks to use pub...\\n1073    China to retaliate with new tariffs on another...\\n1074    I lost 25% of my savings this week. Here is wh...\\n1075    Elon Musk mocks SEC as \\'Shortseller Enrichment...\\n1076    Warren Buffett gives $2.9 billion to charity, ...\\n1077        Trevor Milton resigns as CEO of Nikola Motors\\n1078    S&P 500 drops 7%, triggering 15-minute \\'circui...\\n1079    Tesla — 146k Cybertruck orders so far, with 42...\\n1080    A ‘misclassification error’ made the May unemp...\\n1081    WSB: Student levers up 500x on Robin Hood to h...\\n1082    Short seller Hindenburg alleges that electric ...\\n1083    PayPal to allow cryptocurrency buying, selling...\\n1084    Tesla reports 4th straight quarter of profits,...\\n1085           How did r/investing become so low quality?\\n1086    U.S. tech stocks are now worth more than the e...\\n1087    U.S. Dept. of Justice to Investigate Apple Ove...\\n1088    Moderna says its vaccine is 94.5% effective in...\\n1089    Buffett can buy up to 25% of Bank of America a...\\n1090    U.S. Jobless Rate May Soar to 30%, According t...\\n1091    PSA to anyone thinking of moving their brokera...\\n1092    China detonated its tentative trade deal with ...\\n1093    \"Wrong\" Zoom was up 1800% at one point as inve...\\n1094    Warren Buffett Value Investing Cheat Sheet - A...\\n1095    Just a reminder that Blue Apron is the billion...\\n1096    Trump\\'s Aides Struggle to Detail Deal He Says ...\\n1097    Facebook workers turn on Zuckerberg: Founder a...\\n1098    Buying tobacco stocks 30 years ago would beat ...\\n1099    Amazon is reconsidering NY headquarters site b...\\n1100    One year ago /r/investing was asked about unde...\\n1101    WeWork’s Adam Neumann will reportedly get a $1...\\n1102    U.S. money supply is approaching $5 Trillion d...\\n1103    With net income of $111.1 Billion, Saudi Aramc...\\n1104    Shopify CTO: \"our platform is now handling Bla...\\n1105    Amazon starts Amazon Pharmacy w/free delivery ...\\n1106    OPEC meeting for Monday has just been postpone...\\n1107    Elon Musk says orders to stay home are ‘fascis...\\n1108              Uber loses licence to operate in London\\n1109    GNC files for bankruptcy, with plans to close ...\\n1110    JPMorgan\\'s \"Guide to the Markets\" is an absolu...\\n1111    Tesla closes above $2,000 for the first time e...\\n1112    Bitcoin Plunge Has Newbies Scrambling to Googl...\\n1113    Can we get the old r/investing back? This sub ...\\n1114    When Robinhood users pile into a stock , the a...\\n1115         BP says the era of oil-demand growth is over\\n1116    According to the Buffett Indicator the US Stoc...\\n1117     JPMorgan raises TSLA price target to $295 (lmao)\\n1118    Jeff Bezos Says He Is Selling $1 Billion a Yea...\\n1119    Microsoft to close all retail stores (107 US L...\\n1120    Tesla, snubbed by the S&P 500, quickly complet...\\n1121     President of the USA Tests Positive For COVID-19\\n1122    Slack CEO: Microsoft is ‘unhealthily preoccupi...\\n1123    U.S. labor jobless claims increase to 870,000....\\n1124    Rihanna wipes $1bn off Snapchat after criticis...\\n1125    FT: Nikola founder bought truck designs from t...\\n1126    Beware: Motley Fool Stock Advisor seems to be ...\\n1127    Buffett buys back record $5.1 billion in Berks...\\n1128    Opinion: The market is rising not because peop...\\n1129    Krugman: \"Investors are buying stocks in part ...\\n1130    Netflix To Sell $1 Billion In Bonds After Addi...\\n1131    What if jobs don\\'t come back? Stanford study s...\\n1132    China stocks plunge amid heavy selling in the ...\\n1133    \"American Rescue Plan\" - Biden proposes $1.9T ...\\n1134    Apple hit $1T in market value in September of ...\\n1135    LinkedIn announces 1,000 layoffs ahead of MSFT...\\n1136                         Tesla announces $35k model 3\\n1137          UK has grounded all Boeing 737 Max aircraft\\n1138    A record 1.1 Trillion left stocks 1 year befor...\\n1139    Reminded: during the 2008 financial crisis, th...\\n1140      May delivery oil prices have just gone negative\\n1141    $TSLA up 14.5% today, price skyrockets past $1...\\n1142    Apple targets car production by 2024 and eyes ...\\n1143    Trump administration bans U.S. investments in ...\\n1144    TSLA: Get ready to cash out from the largest o...\\n1145    The US government plans to file antitrust char...\\n1146    Citibank : 40% probability of Apple buying Net...\\n1147    After crushing earnings, Salesforce announces ...\\n1148                                            Cool ETFs\\n1149    With the US 10-year Treasury dropping to a rec...\\n1150    US personal savings rate hits record 33% in Ap...\\n1151    Tesla Smashes earnings expectations top and bu...\\n1152        Shkreli has bail revoked, heads back to jail.\\n1153    Does it annoy anyone else when people talk abo...\\n1154    Amazon Chooses New York City and Northern Virg...\\n1155    Sen. Elizabeth Warren calls for removal of all...\\n1156    The Hardest Financial Skill is Getting the Goa...\\n1157    Warren Buffet\\'s Cash Pile Surges to Record $13...\\n1158     Amazon warehouse workers push to unionize in NYC\\n1159    I still struggle to get my head around this: A...\\n1160    Bloomberg opinion: unemployment due to coronav...\\n1161    Nikola tanks 17% - Citron research joins Hinde...\\n1162    Judge not convinced by Epic\\'s arguments agains...\\n1163    I’m sick of constantly reading articles using ...\\n1164    Ackman buys hedges for $27M. Closes them for $...\\n1165    US Stocks climb yet U.S. 7-day average of coro...\\n1166    Dow futures sure more than 1100 points as Pfiz...\\n1167    SoftBank CEO Masayoshi Son says he offered Jef...\\n1168    Lyft is wildly unprofitable and lost $911 mill...\\n1169    Disney has just announced their bundle which i...\\n1170    S&P 500 drops into correction territory, down ...\\n1171    I Read The News So You Don\\'t Have To - Market ...\\n1172    Perhaps the biggest narrative on CNBC in the p...\\n1173    Dow rallies more than 1,300 points, capping it...\\n1174    Reddit raised $300 million at a $3 billion val...\\n1175     S&P 500 now up 25.8% from bottom. DOW nearly 30%\\n1176    Today and yesterday are prime examples of why ...\\n1177    Fed Chairman Jerome Powell paints a grim econo...\\n1178    GOLDMAN SACHS: \"We now forecast quarter-on-qua...\\n1179    Facebook may be staring down billions or possi...\\n1180       Tesla falls 4% on report Elon Musk sued by SEC\\n1181    Been seeing alot of posts with questions like ...\\n1182    Wal-Mart says it’s planning to test Tesla’s ne...\\n1183    Massive Wells Fargo layoff coming as soon as t...\\n1184           Telsa shares surge after beating earnings.\\n1185    Only 3% of Fidelity 401k participants stopped ...\\n1186          Carl Icahn lost $2 billion betting on Hertz\\n1187    Tesla has been excluded from the S&P 500 rebal...\\n1188    Warren Buffet: \"If I had never sold a stock, I...\\n1189    Uber and Lyft\\'s accounting both define drivers...\\n1190    Airlines, UPS, FedEx promise zero dividends an...\\n1191    Boeing, Airbus to lose $39 billion in contract...\\n1192    $40 billion hedge fund Elliott Management is b...\\n1193    ADP reports only 167K private sector jobs adde...\\n1194    S&P Dow Jones Indices to launch cryptocurrency...\\n1195    Bloomberg: U.S. Student Debt in ‘Serious Delin...\\n1196    S&P 500 closes at 3,232; year to date price re...\\n1197    Famed investor Stanley Druckenmiller says he w...\\n1198    Elon Musk says he has received \"verbal govt ap...\\n1199    Jobless claims: Another 965,000 Americans file...\\n1200    Kodak down almost 40% in pre market: loan deal...\\n1201    Trump to pull, not allow federal retirement mo...\\n1202    Tesla has soared 50% since announcing its stoc...\\n1203    Active fund managers trail the S&P 500 for the...\\n1204                     Microsoft in talks to buy TikTok\\n1205    Robinhood makes a statement in wallstreetbets,...\\n1206    Beyond Meat looks to raise $183.8 million in i...\\n1207    Bank of America posts 45% decline in first qua...\\n1208    Berkshire Hathaway\\'s cash pile up to a record ...\\n1209              Dow Crosses 30,000 mark-first time ever\\n1210    Hindenburg: We View Nikola’s Response As a Tac...\\n1211    Powerless [Facebook] investors vote overwhelmi...\\n1212    Buffett on cyrptocurrencies: \\'I can say almost...\\n1213    Dow rebounds more than 11% in best day since 1...\\n1214    JC Penney likely to file bankruptcy friday, li...\\n1215    NASDAQ:EA price falling 44% from July, $144 to...\\n1216    Canada loses record 2.0 million jobs in April,...\\n1217    If you\\'d bought Microsoft at the Dot Com peak,...\\n1218    Netflix: Its more like a studio than a tech pl...\\n1219    Spreadsheet to calculate GME Exit Strategy, RO...\\n1220    AMC theaters in talks to hire bankruptcy law f...\\n1221                Jeff Bezos is the world’s richest man\\n1222    CRSP announces their gene editing treatment in...\\n1223    Pfizer vaccine candidate must be kept at aroun...\\n1224                 Tesla just announced a 5-for-1 split\\n1225    Trump says tariffs on $200 billion of Chinese ...\\n1226    Boris Johnson moves to ban Huawei in the UK by...\\n1227    Buffett\\'s Berkshire doubles profit, repurchase...\\n1228                                  The end of GameStop\\n1229    Coca-Cola in talks with Aurora to develop cann...\\n1230               US 1 Month treasury just went negative\\n1231                     Oil $11.66 could go below $10.00\\n1232    In A Bold Asset Grab, Robinhood Offers 3% Inte...\\n1233    [CNBC] Robinhood traders cash in on the market...\\n1234    Gilead jumps 9% after \"patients in a trial wer...\\n1235     Amazon beats, EPS expected: 1.46. Actual: 10.30.\\n1236    At the time I\\'m writing this, Nvidia ($247.93B...\\n1237                                 Where is Jim Cramer?\\n1238    Beyond Meat (BYND) short sellers have lost mor...\\n1239    45% of prime members surveyed said they\\'re goi...\\n1240    Oil drops nearly 5%, breaking below $47 as col...\\n1241    Netflix CEO breaks with big tech, says his fir...\\n1242    JPMorgan reports big decline in first-quarter ...\\n1243    Ford investing $1 billion, adding jobs at Chic...\\n1244    Cathy Wood predicted Bitcoin, Tesla, Square, I...\\n1245    Facebook Hit With Antitrust Lawsuits by FTC, S...\\n1246    AT&T permanently closing more than 250 stores,...\\n1247    Warren Buffett calls Apple ‘probably the best ...\\n1248    Germany officially enters recession - GDP fall...\\n1249                  ARKX space exploration ETF incoming\\n1250    US jobs increase by 4.8 million in June, vs 2....\\n1251    PSA: Exactly 10 years ago today (Nov 20, 2008)...\\n1252    If Apple\\'s cash were its own company, it would...\\n1253    Stocks extend rebound after the Fed says it wi...\\n1254                                       TSLA down ~14%\\n1255          Trading halted immediately upon market open\\n1256    S&P 500 jumps more than 1%, capping off its be...\\n1257    Harley-Davidson (HOG) reported a 26% drop in f...\\n1258    Thank god the Great Recession of April 4th is ...\\n1259    Highschooler worth $72 million is fake! I went...\\n1260    GM has dropped its plan to build the Nikola (N...\\n1261    Reuters: American Airlines to cut internationa...\\n1262    S&P 500: The shortest bear market in history l...\\n1263    Theranos founder and CEO Elizabeth Holmes tryi...\\n1264    [MarketWatch] ARKK is out on UBER. Ark Invest\\'...\\n1265    Mother, 61, only has 12k saved for retirement ...\\n1266    [Breaking news] California judge granted a pre...\\n1267    TSLA - Tesla market value today is more valuab...\\n1268    Japan surpasses China as largest foreign holde...\\n1269    Bill Gates says letting Android win mobile was...\\n1270    Barclays says 15-17% of US malls may need to b...\\n1271    Would you guys be interested in an \"Introducti...\\n1272    Trump Signs 25% Tariff on Foreign Steel, 10% T...\\n1273    With MSFT, AAPL AMZN, GOOGL and FB making up m...\\n1274    Beyond Meat\\'s current valuation of $9 billion ...\\n1275    In light of the $1.6 Billion USD Megamillions,...\\n1276    Christmas tree prices are higher this year fro...\\n1277    The US debt is now projected to be larger than...\\n1278    For Americans with at least $25 million, the a...\\n1279    SoftBank Sees $12.5 Billion Loss as Startup Be...\\n1280    DOW Plunges 700 Points, Bringing 2-Day Losses ...\\n1281    Travel stocks plunge after Norwegian Cruise Li...\\n1282    Warren Buffett To Shareholders: ‘We Messed Up ...\\n1283    Analysts Downgrade Under Amour Stock After Its...\\n1284          US unemployment rate reaches 14,7% in April\\n1285    Former Fed Chair Janet Yellen reportedly Biden...\\n1286    Retail Giant J.C. Penney Files Bankruptcy Afte...\\n1287    Former Equifax Executive Charged With Insider ...\\n1288    Wells Fargo Fined $185 Million on Phony Accoun...\\n1289    Warren Buffett’s Berkshire buys Dominion Energ...\\n1290    Coronavirus aid bill includes $3,000 for famil...\\n1291    Tesla Model 3 sedan aces all of U.S. safety ag...\\n1292    Amazon drops $25 minimum for Free Shipping thr...\\n1293    The market should be more worried about a \\'sec...\\n1294    Amazon’s bid to compete with Uber in U.K. appr...\\n1295    Tesla meets self-imposed deadline for Model 3,...\\n1296    GameStop has closed 462 stores so far this yea...\\n1297    Charles Schwab is eliminating commissions for ...\\n1298    An Additional 2.98 Million People Filed for Un...\\n1299    Did the disease that must not be named just ki...\\n1300    \"Fed commits to keep buying bonds until the ec...\\n1301                 A buy and hold approach for 24 years\\n1302    Trump administration to slap a 25% tariff on $...\\n1303    Found a great YouTube series on how modern mon...\\n1304    AMC Theatres could run out of money by the end...\\n1305    Robinhood traders are not behind the rally and...\\n1306    For a sub that acts like it\\'s level-headed and...\\n1307    GE, Tesla, Snapchat, under accounting investig...\\n1308    Disney stock up 3.35% as Shanghai Disneyland t...\\n1309    Tesla tops Wall Street estimates with a record...\\n1310    Tesla posts loss of $1.12 per share, vs. expec...\\n1311    Markets have gone way up since April. Here\\'s a...\\n1312    [Bloomberg] Reddit\\'s Stock Threads Become a Mu...\\n1313    Options Basics: Intro to Puts, Calls, and the ...\\n1314    Jamie Dimon says JPMorgan Chase should absolut...\\n1315    Kobe Steel, supplier of over 200 companies, in...\\n1316    $GOOG: Justice Dept. Plans to File Antitrust C...\\n1317    For those of you who do extensive research pri...\\n1318    Netflix market cap hits $100 billion for first...\\n1319                   All right WTF is going on with GME\\n1320    Robinhood brought in more than 40 percent of i...\\n1321    S&P 500, Nasdaq, Dow 30, Russell 2000 close at...\\n1322    Let me get this right, Soft Bank buys billions...\\n1323    Carl Icahn Scores $1.3 Billion on Bet Against ...\\n1324        650,000 Tesla Cybertruck preorders apparently\\n1325    Bloomberg: Boeing’s 737 Max Software Outsource...\\n1326    Berkshire Hathaway snapped up approximately 20...\\n1327    Netflix now trading above $550 which is a 60% ...\\n1328    Luckin Coffee fires CEO, COO after sales fraud...\\n1329    Most important things about personal finance I...\\n1330    This sub needs much stronger moderation. I hav...\\n1331    A Guy on Reddit Turns $766 Into $107,758 on Tw...\\n1332    The Secret Goldman Sachs Tapes: \"The Ray Rice ...\\n1333    SoftBank is sitting on trading gains of about ...\\n1334                  US GDP grows by 3.2% in 1st quarter\\n1335    The market has been on such an insane run that...\\n1336    Buffett’s Cash Pile Hits a Record; Berkshire H...\\n1337    Forbes: Beyond Meat Will Crash When Investors ...\\n1338             Key Takeaways from the Airbnb IPO filing\\n1339    Oil breaks above $50 for the first time since ...\\n1340    In a few sentences share your favorite NON-Tec...\\n1341    Uber posts net loss of $1 billion, in line wit...\\n1342    Warren Buffet: \"The longer you hold stocks the...\\n1343    Amazon earnings beat: $5.75 per share, vs. $3....\\n1344    Target Crammed a Year’s Worth of Growth Into a...\\n1345    If you\\'re new to investing, don\\'t trust the \"g...\\n1346    Oil plunges more than 25%, extending recent lo...\\n1347    China backtracked on nearly all aspects of US ...\\n1348    A former Vanguard Group supervisor stole more ...\\n1349    Colorado’s public utilities commission issued ...\\n1350    Amazon beats, Earnings: $12.37 vs $7.41 expect...\\n1351    FTC investigating Facebook; FB stock price dow...\\n1352    WeWork and Uber cost SoftBank’s Vision Fund a ...\\n1353              Robinhood founders are now Billionaires\\n1354                              Motley Fool is such BS.\\n1355    Hackers broke into an SEC database and made mi...\\n1356              Apple just hit a $1 trillion market cap\\n1357    The current IPO craze is starting to look a lo...\\n1358    Dow drops 400 points, biggest decline in 2 mon...\\n1359    [Bloomberg] According to Robintrack.net, durin...\\n1360    Another 751,000 Americans filed new unemployme...\\n1361    Roblox IPO is a great way to teach your kids a...\\n1362    PG&E officially plans banrkuptcy filing. CEO t...\\n1363    ELI5: How is massive shorting of a stock any d...\\n1364                                  Just remember this.\\n1365    Earnings: Delta books first-quarter loss after...\\n1366    Disney says its ‘primary focus’ for entertainm...\\n1367                                   Facebook -20.5% AH\\n1368     Boeing posts zero new airplane orders in January\\n1369    DOJ fines Boeing over $2.5 billion, charges it...\\n1370    Intel Gains 9% as CEO Bob Swan to step down Fe...\\n1371    McDonald\\'s reports worst global sales in recen...\\n1372    U.S. Jobless Claims near 3.3 million for week ...\\n1373    Goldman Sachs Asks ‘Is Curing Patients A Susta...\\n1374                            Nasdaq enters bear market\\n1375    For the people: Moderna won\\'t enforce COVID-19...\\n1376    [WSJ] Fed Stress Test Finds U.S. Banks Healthy...\\n1377    Bankrupt Hertz Wants to Sell Up to $1 Billion ...\\n1378    Temporary rule change: \"what happens to stocks...\\n1379    Coronavirus to cause global recession, surge i...\\n1380    Reuters: U.S. Air Force finds additional defic...\\n1381    Billion-dollar startup Zoom filed to go public...\\n1382    Bill Ackman reveals $900 million bet on Starbu...\\n1383      DOJ joins SEC in probing Nikola on fraud claims\\n1384    In One Tweet, Kylie Jenner Wiped Out $1.3 Bill...\\n1385    PLTR reaffirms relationship with Greek governm...\\n1386    Vanguard now offering 0$ commission for all st...\\n1387    U.S. second-quarter GDP plunged by a record 32...\\n1388    People aren’t fully realizing the economic imp...\\n1389    Dow jumps more than 500 points despite worseni...\\n1390    Robinhood says it’s experiencing a ‘system-wid...\\n1391    Companies Use Borrowed Billions to Buy Back St...\\n1392    JPMorgan is giving 18,000 US employees a raise...\\n1393    Short sellers betting against Tesla lose more ...\\n1394    Strategist who predicted the U.S. would ‘see a...\\n1395    Hedge-fund manager reportedly owes $1 billion,...\\n1396    Just 37% of Americans ages 35 and lower are in...\\n1397    Musk’s SpaceX Plans a Spinoff, IPO for Starlin...\\n1398    Goldman says Apple will have to cut 2019 numbe...\\n1399            I just lost $20,000. A cautionary tale...\\n1400    We are now in the longest US economic expansio...\\n1401    US stock futures jump on unexpectedly positive...\\n1402    Ray Dalio, founder of Bridgewater Associates, ...\\n1403    Microsoft beats on sales and earnings as Azure...\\n1404    $ACY is up 1300% today and no one claims to kn...\\n1405    Wirecard shares crash again after firm says mi...\\n1406    Kodak Says Ex-Executives Sold Stock Options Th...\\n1407    Fleet Of 28 Saudi Oil Tankers Could Send U.S. ...\\n1408    Wells Fargo plans to close 900 branches despit...\\n1409    China agrees to reduce auto tariffs to 15%, do...\\n1410               Buffet Sells his Airlines stocks again\\n1411        Bitcoin Just Plunged 20% in a Matter of Hours\\n1412              Intuit buys Credit Karma for $7 billion\\n1413        PLTR jumps 12% even though US market\\'s closed\\n1414                             MSFT to acquire Bethesda\\n1415                               My portfolio hit 500k!\\n1416    Lawmakers agree to $2 trillion stimulus early ...\\n1417    Lost more money actively trading than holding ...\\n1418                           SEC charges Robinhood $65m\\n1419    Beyond Meat is expected to report its first pr...\\n1420    Oxford University’s coronavirus vaccine with A...\\n1421    Gilead Sciences\\' Antiviral Drug Remdesivir Flo...\\n1422    -140,000:Payrolls drop for the first time sinc...\\n1423    NVIDIA Shares Reach All-Time High as Notebooks...\\n1424       Herbalife to pay 123MM in Chinese bribery case\\n1425    Comcast is in talks to sell its 30% stake in H...\\n1426    Elon Musk taunts short sellers as they lose $4...\\n1427    U.S. Bureau of Labor Statistics announces decl...\\n1428    U.S. created 1.37 million jobs in August, vs 1...\\n1429    Saudi Arabia Shuts Down About Half Its Oil Out...\\n1430    Wells Fargo to pay $2 billion penalty for alle...\\n1431    Satellite data strongly suggests that China, R...\\n1432    \"Tesla is now officially allowed to build a fa...\\n1433                               Do NOT buy Hertz (HTZ)\\n1434    BBB-rated corporate bonds are the Achilles\\' he...\\n1435    PepsiCo just became the latest beverage compan...\\n1436    BREAKING: Latam Airlines, Latin America’s larg...\\n1437    Many young people under 25 that I associate wi...\\n1438      10 Years of Warren Buffett Book Recommendations\\n1439    Retail investors who believed they were invest...\\n1440    How to not get ruined with Options - Part 3a o...\\n1441    Oil is now under $20 a barrel. This obviously ...\\n1442    ‘Money talks’: A $1.2 trillion fund manager is...\\n1443    Intel stock plunges 10% after data-center sale...\\n1444            PLTR signs 31.5$ Mil contract with UK NHS\\n1445    Coinbase will IPO in 2021, already valued at 6...\\n1446    [Meta] Instead of all of these posts asking \"w...\\n1447         Sears sues Eddie Lampert for looting company\\n1448    Netflix will now interrupt series binges with ...\\n1449                Netflix is now worth more than Disney\\n1450    Stock trading app Robinhood to launch bitcoin,...\\n1451     Boeing Cutting More Jobs in Response to Pandemic\\n1452    $AAPL didn\\'t double their profit, but doubled ...\\n1453    Why is Intel losing to AMD & people just reali...\\n1454    Stocks just wrapped up their worst week since ...\\n1455    Forever 21 files for Chapter 11 bankruptcy pro...\\n1456            202.56M shares traded hands on PLTR today\\n1457    NKLA finishes the day down 26%, down 73% from ...\\n1458    Netflix adds 5.3 million subscribers during Q3...\\n1459    Workplace commuters were often customers of UB...\\n1460    Goldman Says Stocks Due for 18% Drop After Ral...\\n1461    Activist investor Dan Loeb urges Disney to sus...\\n1462    Had the markets been open, I wonder how much t...\\n1463                                  Equifax CEO Retires\\n1464    Zillow’s House Flipping Averages An Abysmal 0....\\n1465    Snap up 7% after report says \"teens think it\\'s...\\n1466    Hi young investors. This is what a real market...\\n1467    Canada passes bill legalising marijuana. This ...\\n1468    Sony reduces PS5 production by 26.7% due to AM...\\n1469    AMD up 8% as Intel delays next-generation chip...\\n1470    Disney Up 6% premarket; Netflix down 2%. Disne...\\n1471    Congress agrees to $900 billion coronavirus st...\\n1472      Todays Negative Oil is Economically Devastating\\n1473    Dow sinks more than 2,000 points in worst day ...\\n1474    U.S. Warns Colleges to Divest China Stocks Ove...\\n1475    Vanguard S&P500 Index Fund $VOO Expense Ratio ...\\n1476    A Month Ago, United Airlines Stock Dropped By ...\\n1477    Warren Buffett\\'s Berkshire Hathaway added more...\\n1478    U.S. weekly jobless claims jump back above 1 m...\\n1479    Moderna shares jump as much as 16% after compa...\\n1480    Google Trends for searches like \\'Stocks\\' and \\'...\\n1481    WSJ: The Federal Reserve is preparing to effec...\\n1482    Job growth smashes expectations for February a...\\n1483    Gary Cohn to Resign as Trump’s Top Economic Ad...\\n1484    The 2020 bear market was the shortest in moder...\\n1485    What are your buy-and-hold forever dividend st...\\n1486    Anyone else\\'s alarm bells going off with China...\\n1487    GME\\'s latest Short Interest after Jan 22 EOD i...\\n1488    Uber loses UK employment appeal: Drivers are \\'...\\n1489    How can the US stock market gain 7% on average...\\n1490    Dow rallies 1,000 points as Wall Street reboun...\\n1491    Tesla’s head of HR and Chief Accounting Office...\\n1492    U.S. Treasury Department is crafting rules tha...\\n1493     Don\\'t invest in companies that don\\'t deserve it.\\n1494    I was the President of my University\\'s investm...\\n1495                    Another brand new Boeing crashes.\\n1496    For anyone having a feeling of regret at the m...\\n1497    Has anyone noticed real estate investors seem ...\\n1498    DOW expected to fall 1,000+ points by tomorrow...\\n1499    43% of retail investors are trading with lever...\\n1500                 Maybe I\\'m crazy but 2008 felt worse.\\n1501    The CEO of Wells Fargo Might Be in Big, Big Tr...\\n1502    Donald Trump Proposes 20% Tax On Goods Importe...\\n1503    Initial Jobless Claims for Week Ending March 2...\\n1504                        What is Warren Buffett doing?\\n1505    Tesla starts brutal review of contractors, fir...\\n1506    Snapchat will give the biggest middle finger t...\\n1507    May Jobs Numbers: 2.5M Jobs added. Unemploymen...\\n1508    FT: Wall Street urges caution as bullish inves...\\n1509    Reddit’s Profane, Greedy Traders Are Shaking U...\\n1510      Airbnb seeks to raise roughly $3 billion in IPO\\n1511    Forward P/E is at 23x, the highest since the d...\\n1512    US crude plunges 4.2%, settling at $66.43, in ...\\n1513    Beyond Meat IPO Raises $241 Million as Veggie ...\\n1514    Bloomberg: Nikola’s History of Discrepancies H...\\n1515                      Goodbye until this is all over.\\n1516    Amazon Founder, Jeff Bezos Net Worth Just Brok...\\n1517    Fitch warns of possible downgrade to U.S. AAA ...\\n1518    Amazon Is Testing Its Own Delivery Service to ...\\n1519    JPMorgan lost $273 million on a single client ...\\n1520     U.S. weekly jobless claims unexpectedly increase\\n1521    Nikola targets critical YouTube accounts in co...\\n1522    BBC: Bitcoin Cash deals frozen as insider trad...\\n1523    Delta revenue down 88% YoY Q2, for $5.7 billio...\\n1524    US jobs report: unemployment rose to 4.4% in M...\\n1525    EBay, Stripe and Mastercard abandon Facebook’s...\\n1526    JP Morgan joins the list of Wall Street banks ...\\n1527    Hertz stock halted pending news amid controver...\\n1528                   Amazon hits $1 trillion market cap\\n1529    Saudi Aramco sticks to dividend pledge despite...\\n1530    Snap Inc (SNAP) CEO Evan Spiegel Sold $44.4 mi...\\n1531    Amazon, Berkshire Hathaway and JPMorgan Chase ...\\n1532    Netflix is worth more than GE or Ford, and it’...\\n1533    TSLA is now trading at over 12 P/S ratio. Thou...\\n1534    Company Debt Analysis - I created a checklist ...\\n1535    Bloomberg: Nikola founder Milton\\'s fall reveal...\\n1536    \"Wirecard shares plunge after saying auditor c...\\n1537    Tesla can get support for German factory: Econ...\\n1538    Dow ends day in red despite starting day 900+ ...\\n1539    The stockmarket is now run by computers, algor...\\n1540    With how much the world has changed the past 3...\\n1541    A discussion about “time in the market vs timi...\\n1542    CNBC: Sears plans to shutter after 126 years i...\\n1543    The clearest example of why legal weed is a ba...\\n1544    Facebook\\'s $100 billion-plus rout is the bigge...\\n1545    Trump takes aim at Amazon on Twitter this morning\\n1546    China Called Out in U.S. Warning Over Emerging...\\n1547    CNBC: Apple warns on coronavirus — it won\\'t me...\\n1548    I am 110% bull on renewable energy over the ne...\\n1549    Prince Mohamed of Saudi Arabia physically thre...\\n1550    Stocks drop across the globe as problematic ec...\\n1551                     The Ultimate Investing Checklist\\n1552    Dow closes more than 250 points higher in wild...\\n1553    Majority of bitcoin trading is a hoax, new stu...\\n1554    Don\\'t be misguided, markets bottom will be sig...\\n1555    PSA: Stock prices don\\'t move in a straight lin...\\n1556    Jobless claims at better-than-expected 1.3 mil...\\n1557    Apple temporarily shuts all stores and offices...\\n1558    Elizabeth Warren Is Drafting U.S. Legislation ...\\n1559    Netflix soars after beating on earnings. $1.47...\\n1560    Chinese markets plummet almost 9% on return fr...\\n1561    I Read The News So You Don\\'t Have To - Market ...\\n1562    Buffett: Between stocks and bonds for the next...\\n1563    Netflix earnings: 30 cents per share, vs. 24 c...\\n1564    U.S. retail sales rose 7.5% in June, vs 5.0% i...\\n1565    Senate tax bill may contain a major threat to ...\\n1566    Bed Bath & Beyond to close 200 stores over 2 y...\\n1567    Corona Virus Vaccine Discovered by U.S. Compan...\\n1568    Retail sales plunge a record 16.4% in April, v...\\n1569    October 2018 is the fourth worst month for inv...\\n1570    S&P 500 Buybacks Now Outpace All R&D Spending ...\\n1571    White House latest budget projections call for...\\n1572    US 10-year yield collapses to 2.16% as Trump’s...\\n1573    Zillow stock up 11% this morning on news that ...\\n1574    BREAKING: Martin Shkreli Arrested on Securitie...\\n1575    Why couldn\\'t anyone predict that tech was goin...\\n1576    China halts stock trading in extended holiday ...\\n1577    95% of active stock pickers can\\'t beat index f...\\n1578    Disgruntled Amazon customers are complaining t...\\n1579    Alibaba will no longer bring 1 million jobs to...\\n1580    Canadian Government to announce marijuana will...\\n1581    Former Wirecard CEO Markus Braun has been arre...\\n1582                  One benefit to investing besides $$\\n1583    US added 225,000 jobs in January vs 165,000 ex...\\n1584    ...AND it\\'s GONE! Robinhood completely removes...\\n1585    Shell slashes dividend by 66% - First dividend...\\n1586    Alphabet\\'s YouTube is worth $300 billion as a ...\\n1587    WeWork C.E.O., Adam Neumann, Stepping Down Und...\\n1588    Spotify plans to skip a traditional IPO and li...\\n1589    Bloomberg: U.S. Will Fail to Release Key Econo...\\n1590             Apple closes all stores outside of China\\n1591    Pricing everything as if they are the next AMZ...\\n1592    OxyContin maker Purdue Pharma exploring bankru...\\n1593    Amazon makes first investment in a homebuilder...\\n1594    Right now, the Shiller S&P ratio for the S&P 5...\\n1595    Tesla will cut approximately 7% of its full-ti...\\n1596    Tesla will raise prices on its cars, reverses ...\\n1597    Macy’s shares crater 18% on weak holiday sales...\\n1598               Kyle turning $15 into $2.8M in 2 years\\n1599    Billionaire George Soros Lost Nearly $1 Billio...\\n1600                   Recession fears, recession reality\\n1601    S&P 500 now out of correction territory; highe...\\n1602                   Walgreens to replace GE on the DOW\\n1603    Ford invests $500 million in electric truck ma...\\n1604    Apple shares to drop below $90 on Thursday for...\\n1605           Tesla has just issued a $5bn capital raise\\n1606                              Stop looking for advice\\n1607    Mnuchin Declines to Extend Several Fed Emergen...\\n1608    A wave of bankruptcies, surging taxes, and Ame...\\n1609    Rep. Christopher Collins (R-NY) indicted for i...\\n1610    Bloomberg article anticipates the US stock mar...\\n1611    Boeing is in talks to borrow $10 billion or mo...\\n1612    If 99% of this sub believes in dollar cost ave...\\n1613    CNBC: Fed Cuts Rates 50bps intra-meeting to co...\\n1614    US files charges against China\\'s Huawei and CF...\\n1615    Global wealth reached an all time of $317,000,...\\n1616    Weekly jobless claims rose 2.438 million, vs 2...\\n1617    Shale pioneer Chesapeake Energy files for bank...\\n1618    CDC Warns It Expects Coronavirus to Spread in ...\\n1619    Japan iPhone sales decline by a little more th...\\n1620    Kodak Stock Surge Attracts 43,000 Robinhood Tr...\\n1621    Alan Greenspan says inflation ‘is inevitably g...\\n1622               Disney will be WAY stronger post-covid\\n1623    Ford Recalls over 240k cars because of suspens...\\n1624               In memoriam: The 2009-2020 bull market\\n1625    Nasdaq hits 9,000 for the first time, S&P 500 ...\\n1626                      Market is really getting weird.\\n1627    Chinese Auditors Are on the Hook After Clients...\\n1628    China says it’s willing to resolve the trade w...\\n1629    Microsoft Teams overtakes Slack with 13 millio...\\n1630    Former Tesla employee (Martin Tripp), AKA \"the...\\n1631    Stimulus bill includes 35 billion for clean en...\\n1632    Boeing’s 737 Max Problems Put $600 Billion in ...\\n1633               Salesforce acquires Tableau for $15.7B\\n1634    Visa to acquire Plaid, the fintech powering Ve...\\n1635    Stock prices drop as White House deliberates o...\\n1636    Trump says Fed ‘boneheads’ should cut interest...\\n1637                              Tesla to cut 9% of jobs\\n1638    Warren Buffet said if you have just $10K or $1...\\n1639    With Moderna and Pfizer vaccines being distrib...\\n1640    Dow surges 900 points as UnitedHealth heads fo...\\n1641                                YELLEN SUMMARY TODAY.\\n1642    CNBC notes not investing more is the number 1 ...\\n1643    Get Ready for the Great U.S. Inflation Mirage ...\\n1644                      Disney appears very undervalued\\n1645    Breaking: Dow Jones Down Over 900 Points On Ri...\\n1646    Japan\\'s economy shrinks at fastest pace in 6 y...\\n1647    Fake meat is \\'no laughing matter\\': Plant-based...\\n1648    Market Analysis: Focusing on what is \"baked in...\\n1649    \\'PayPal in Talks to Buy Crypto Firms Including...\\n1650    Stock futures tick higher after Fed’s Powell s...\\n1651    Toys R Us could file for bankruptcy as soon as...\\n1652    Jack Bogle, founder of index fund giant Vangua...\\n1653    1 in 6 publicly traded U.S. companies did not ...\\n1654    CNBC: Trump says he has the right to remove Po...\\n1655                My stock/bond investment google sheet\\n1656    President Trump Slaps China with About $50 Bil...\\n1657    Uber, Lyft, Doordash Can Pay Gig Workers Up To...\\n1658    At a 10-year high, wage growth for American wo...\\n1659                  My \"Buy and hold forever\" portfolio\\n1660    Xi, Trump Agreed on No Additional Tariffs Afte...\\n1661    U.S. Deficit Tops $1 Trillion in First 11 Mont...\\n1662    Over 21 months later, here\\'s how /r/investing ...\\n1663    Donald Trump\\'s Twitter 5 minutes after market ...\\n1664                Short sellers are GOOD for the Market\\n1665         Ray Dalio’s hedge fund invests $400M in gold\\n1666    Trump Threatens Tax on Cars if EU Retaliates t...\\n1667    Salesforce Signs Definitive Agreement to Acqui...\\n1668    In January, WeWork announced it was rebranding...\\n1669    Mexico set to impose 20% tariff on US pork leg...\\n1670    Why am I seeing posts about how irrational the...\\n1671    Why the stock market is going up even as unemp...\\n1672    May ADP employment report: -2.76 million vs ex...\\n1673                      EU files antitrust against AMZN\\n1674    Bloomberg: U.S. Airlines Spent 96% of Free Cas...\\n1675    Snowflake opens at $245 per share in market de...\\n1676    China Targets Jack Ma’s Alibaba Empire in Mono...\\n1677    Feds may target Google’s Chrome browser for br...\\n1678    Investors who were active during the 2007 rece...\\n1679       Passive vs active investing, 2 year experiment\\n1680    Sell orders in stocks surge to highest level s...\\n1681    A leaked report from a Chinese government-back...\\n1682                   Latest Jobless Claims: 5.2 Million\\n1683    The speed at which treasury yields are tanking...\\n1684    For the new investors (like me) trying to pick...\\n1685            How to do proper due dilligence research?\\n1686    A Deep Dive into Nikola\\'s FCEV Design and Pric...\\n1687    Middle-class income hit an all-time high of $6...\\n1688              Fed injects $53bn into financial system\\n1689    SNAP falls 1.7%, slipping below $20/share, aft...\\n1690    Sources: Uber is in talks to lead $170M invest...\\n1691                       Trump wants to go after Amazon\\n1692    Alphabet, Google\\'s parent company, hits trilli...\\n1693    White House Says Trade Wars Are Good, and Easy...\\n1694      Google is suing uber for stealing trade secrets\\n1695    Attacks on Saudi oil supply effectively wipe o...\\n1696    Algos move the market in the short term, not r...\\n1697    Tesla shares fall almost 5% on report SEC asks...\\n1698    If you bought QQQ right at the peak of the Dot...\\n1699    Walmart US CEO tells rivals Amazon, Aldi, and ...\\n1700    Berkshire Hathaway and the incredible power of...\\n1701    Beginning in August, Zillow plans to charge la...\\n1702                     Down down over 1500 and falling!\\n1703     Goldman Sachs predicts SP500 at 3000 by year end\\n1704              J. Crew Files for Bankruptcy Protection\\n1705    Amazon plans to launch a new Middle East marke...\\n1706                             Disney suspends dividend\\n1707    Lyft is threatening litigation against Morgan ...\\n1708    Stocks Jump 3.2% the Most in Almost 6 Weeks Af...\\n1709    CNBC’s Jim Cramer: ‘We are in a bear market’ -...\\n1710    Warren Buffett has long praised the virtues of...\\n1711    The recent TSLA price spike was timed too perf...\\n1712                     TSLA up another 9% pre-market...\\n1713    Target shares surge 13% as second-quarter prof...\\n1714    Bloomberg: Resist Your Inner Buffett. It\\'s Tim...\\n1715    Amazon, Berkshire Hathaway, JPMorgan Chase app...\\n1716    Apple is spending $6 billion on original shows...\\n1717    Tesla cutting all employee salaries. Expecting...\\n1718    If you aren\\'t making money, don\\'t feel bad... ...\\n1719    Lessons from the Japanese asset bubble in the 80s\\n1720    U.S. Jobless Claims Understate Reality With Ga...\\n1721    OPEC is about to fall below 30% global market ...\\n1722    GoPro Moves U.S.-Bound Camera Production from ...\\n1723    I Read The News So You Don\\'t Have To - Market ...\\n1724    Tesla shares jump on report Saudi Arabia sover...\\n1725                Yellen announces resignation from Fed\\n1726         Boeing posts first annual loss since the 90s\\n1727    Macau\\'s gaming revenues tumble 87.8% in Februa...\\n1728    Morgan Stanley Sees Recession Within a Year If...\\n1729    In every year since 1988, even the most powerf...\\n1730    Trump pitched 0% payroll tax rate for the rest...\\n1731          The coronavirus is vastly under appreciated\\n1732    Tesla has doubled the labor force working on i...\\n1733    Tesla is raising an additional $5 billion in e...\\n1734    US imposes record $7.5 billion tariffs on EU g...\\n1735                                Equifax hacked again.\\n1736    Chipotle Suspends Exec Bonuses After Outbreaks...\\n1737    Groupon $GRPN misses earnings and is down 29% ...\\n1738    The average Chinese citizen is less wealthy th...\\n1739    Bloomberg Opinion: GameStop Is Rage Against th...\\n1740    Is Zoom (ZM) way overvalued or am I missing so...\\n1741    Buying Sears stock 30 years ago would return m...\\n1742    Goldman Sachs shares jump as earnings blow pas...\\n1743    Exclusive: Amazon in talks to offer event tick...\\n1744    South Korea stocks drop nearly 4% as country r...\\n1745    Hong Kong enters recession, official says, as ...\\n1746    NYT: \"Investment Boom From Trump’s Tax Cut Has...\\n1747                              Dilbert nailed the fees\\n1748    US Workers See Wages Accelerating due to Low U...\\n1749    Apple (AAPL) reported its Q3 2018 earnings Tue...\\n1750        Anonymous trader buys $400 million in bitcoin\\n1751    Healthcare company Oculus Innovative Sciences ...\\n1752    The coiled spring that is the uranium market (...\\n1753    Judge blocks Microsoft Pentagon cloud contract...\\n1754          Potentially a signal for the next big crash\\n1755    Harley-Davidson mises earning, cuts dividend; ...\\n1756    Warren Buffett says stocks look like ‘intellig...\\n1757    The Worlds Biggest Marijuana Company Starts Tr...\\n1758    Matt_shitty\\'s 2016 Dividend Value Investing Le...\\n1759    JPMorgan officially forecasts a coronavirus-dr...\\n1760    Amazon acquires Ring, the smart doorbell maker...\\n1761    Credit Suisse Is Preparing For Layoffs As CEO ...\\n1762    Subprime Auto Loans Blow Up, 60-Day Delinquenc...\\n1763    Bitcoin dips below $6,000 amid cryptocurrency ...\\n1764    Tesla announces all Tesla vehicles being produ...\\n1765    Amazon reportedly launching a delivery service...\\n1766    Elon Musk lashes out: \\'Something is broken wit...\\n1767    Private payrolls up 2.37 million in June; May ...\\n1768    Oil up almost 4% in the last 30 minutes due to...\\n1769    U.S. Bureau of Labor Statistics announces decl...\\n1770    Pros and cons of investing in 5 upcoming tech ...\\n1771    AMD stock heads toward record high after beati...\\n1772    Key yield curve inverts to worst level since M...\\n1773    What are three tech stocks you think still hav...\\n1774    We made an automatic stock screener and portfo...\\n1775    President Trump considers an additional $100 b...\\n1776    JPMorgan Chase to Raise Mortgage Borrowing Sta...\\n1777                             US Q1 GDP decreases 4.8%\\n1778    Small trader call buying made up more than 50%...\\n1779    Stock futures turn negative after Trump says a...\\n1780    JPMorgan CEO Jamie Dimon says bitcoin is a fra...\\n1781    IMF predicts coronavirus pandemic will trigger...\\n1782          How to 101: Fundamental analysis on a stock\\n1783    Johnson & Johnson (NYSE: JNJ) - An in-depth St...\\n1784    Microsoft Drops Out of Bidding for TikTok’s U....\\n1785    JPMorgan says stocks will climb nearly 50% as ...\\n1786    How did Martin Shkreli make 40 million by mism...\\n1787    Kodak soars another 50% after Trump announces ...\\n1788    IMO, all of these non-profitable companies (Ub...\\n1789    I\\'ve processed 1TB of SEC\\'s data to extract fu...\\n1790    Nikola and GM team up to make 900-horsepower s...\\n1791    Comcast to sell its stake in Hulu to Disney in...\\n1792    Warren Buffett: Some People Should Not Own Stocks\\n1793    FINRA fines Robinhood 1.25MM for violations in...\\n1794        Snapchat Down 18% after Reporting Q1 Earnings\\n1795    [Bloomberg] Day Traders Will Have Fun Until Th...\\n1796                                Spotify Files for IPO\\n1797    Dow notches best quarter since 1987, a rebound...\\n1798    Maybe this is a dumb question but what do you ...\\n1799    William Galvin, the Secretary of the Commonwea...\\n1800    Trump says China is paying his tariffs, but U....\\n1801    Boeing reports massive quarterly loss of $5.82...\\n1802    Honest question: Why can Amazon reinvest all o...\\n1803    Fed holds rates stable, pledges \\'patient\\' appr...\\n1804    Monsanto ordered to pay $289m damages in Round...\\n1805            Some tips on buying when the market falls\\n1806    Insider Trading has been rife on Wall Street, ...\\n1807    Trump announces plans to impose additional tar...\\n1808    Bank of America\\'s Merrill Lynch routinely misl...\\n1809    Intel in talks to buy Israel\\'s Moovit public t...\\n1810    GE shares drop after Madoff whistleblower Harr...\\n1811    Facebook market cap just hit $300 billion: It\\'...\\n1812    Warren Buffett: Banks will be worth more money...\\n1813    This high market values situation isn\\'t going ...\\n1814    Amazon shares up more than 8% after massive ea...\\n1815    Dow jumps 260 points, hits record on Trump twe...\\n1816                    Fed Cuts Rates By A Quarter Point\\n1817    50% of baby boomers have $100,000 or less save...\\n1818    NYT: The Entire Economy Is MoviePass Now. Enjo...\\n1819    Dow futures tumble more than 300 points after ...\\n1820    Microsoft hits $1 trillion market cap after ea...\\n1821    Germany Limps Closer to Recession as Factory O...\\n1822    “Stocks end lower after trade concerns rattle ...\\n1823    This app will send you alerts when Donald Trum...\\n1824    American Express increases its reserves for cr...\\n1825        Turkey raises interest rate 625 points to 24%\\n1826     Be weary of messages received after posting here\\n1827    Southwest Airlines (LUV) loses $94 million as ...\\n1828    I Read The News So You Don\\'t Have To - Market ...\\n1829    Biosimulation software company Certara files f...\\n1830    If bitcoin crashes, given the fact that it has...\\n1831    Buffett, Dimon urge end to quarterly profit fo...\\n1832    LinkedIn\\'s CEO gives his $14 million stock bon...\\n1833    Microsoft co-founder Paul Allen dies of cancer...\\n1834                The price of waiting can be also huge\\n1835    Fifty years ago, man landed on the moon and a ...\\n1836    New York Stock exchange to open bitcoin tradin...\\n1837    Why are people so passionate about real estate...\\n1838    Amazon\\'s year-long publicity blitz for HQ2 has...\\n1839     400 Plus Companies reporting earnings this week.\\n1840    Uber falls 10% after reporting disappointing q...\\n1841    Supreme Court just struck down a 25-year-old b...\\n1842       Here\\'s the evidence that we\\'re not in a bubble\\n1843    Musk Doubles Down On Cave Diver Attack, Calls ...\\n1844    Tesla declines after Einhorn questions Musk\"s ...\\n1845    Nio, Xpeng, and Li are now worth more than Det...\\n1846    Gold climbs to six-year high and bond yields c...\\n1847    Tesla shareholders accuse Elon Musk of securit...\\n1848    Moderna to start final testing stage of corona...\\n1849    Powell: Fed open to private sector collaborati...\\n1850    Warren Buffett comments on GE\\'s accounting and...\\n1851    US New Initial Jobless Claims for the week: 2,...\\n1852         Wells Fargo profit slumps 26% on legal costs\\n1853    Aside from companies like Tesla, Square, Amazo...\\n1854    Corona beer takes a hit from coronavirus as br...\\n1855                        Morgan Stanley to buy E*Trade\\n1856       Why do 76% of the people who trade lose money?\\n1857    Target down 8% after reporting dissapointing h...\\n1858    Video explaining the huge growth of large cap ...\\n1859    U.S. Wage Growth Eclipses Mortgage Rate for Fi...\\n1860             Pornhub wants to buy Tumblr from Verizon\\n1861    Musk goes on Twitter rant about media, promise...\\n1862    Are there any historical examples of stocks be...\\n1863    U.S. companies issue shares at fastest rate ev...\\n1864    The reason for a drop in millennial spending i...\\n1865                              AMD: Undervalued at $90\\n1866    Microsoft earnings: $1.37 per share, vs $1.21 ...\\n1867    Amazon\\'s first major video game is a massive o...\\n1868    Warren Buffett will probably end the year with...\\n1869    Noobs beware: Stocks like genius brands create...\\n1870    Hertz declares Chapter 11 Bankruptcy: Left Sho...\\n1871    Peloton is one of six companies set to be adde...\\n1872    Let this Buffet quote guide you with your deci...\\n1873                   S&P 500 Index officially hits 3000\\n1874    Redditor creates a script that scrapes Trump\\'s...\\n1875    Ford burns $1.2 billion of cash per week, acco...\\n1876    Someone finally connects the dots between mark...\\n1877    Bears of Reddit. What is your reasoning to bel...\\n1878    Economy adds 209,000 more jobs in July vs 183,...\\n1879                 S&P 500 Best and Worst, October 2017\\n1880    China just had their first recognized bank fai...\\n1881    How does everyone here do their research on a ...\\n1882    The Big Hack: How China Used a Tiny Chip to In...\\n1883    Beyond Meat is now larger than 80 S&P 500 comp...\\n1884    US stock markets halted trading less than 1 mi...\\n1885    \"Tesla sues Rivian for allegedly stealing secr...\\n1886    Stocks are set to rally again on optimism abou...\\n1887    During the 2008 recession, some people managed...\\n1888    The 11 Sectors of the Stock Market - ETFs For All\\n1889    Tesla stock drops after company reportedly to ...\\n1890                           Apple locking out Facebook\\n1891    The booming stock market is up a massive 1.3% ...\\n1892    US Federal Reserve intervenes for third time t...\\n1893    PetSmart is drowning in debt, after the most e...\\n1894    UBER is back to its IPO price; BTW, the compan...\\n1895    \"Amazon will surpass Apple in market cap in th...\\n1896            UK interest rates cut from 0.75% to 0.25%\\n1897    U.S. Goes Ahead With New Tariffs on Chinese Pr...\\n1898    Facebook buys Giphy for $400 million, Microsof...\\n1899    TD Ameritrade Announces $0 Stock, ETF, Options...\\n1900    Tesla is working with AMD to develop its own A...\\n1901    Walmart earnings top expectations as customers...\\n1902    Tesla says it will raise even more capital inc...\\n1903          What investments are good in a bear market?\\n1904    Tesla Is Cranking Out Model 3s—Now It Has to S...\\n1905    Another 709,000 Americans filed new unemployme...\\n1906    Tech’s Influence Over Markets Eclipses Dot-Com...\\n1907    US continuing jobless claims lower: 16.2 mil v...\\n1908    Senate Passes Bill to Delist Chinese Companies...\\n1909    In a bull market, you learn that everything yo...\\n1910    Gary Cohn says the US is in a recession that w...\\n1911    China is considering declining trade talks off...\\n1912    AMD to Acquire Xilinx, Creating the Industry’s...\\n1913    What Buffett actually said about Berkshire\\'s C...\\n1914    \"Coronavirus epidemic poses existential threat...\\n1915       What are you buying if there’s a second crash?\\n1916    Investors are flocking to the largest US growt...\\n1917    WSJ: Trump Says U.S. and Japan Have Reached Tr...\\n1918    How to profit off Global Warming: HVAC Market ...\\n1919    Domino’s stock has outperformed Google, Facebo...\\n1920    California is about to rewrite the rules of th...\\n1921    I Read The News So You Don\\'t Have To - Market ...\\n1922    US created 136,000 jobs in September, vs 145,0...\\n1923    Bloomberg: Mark Zuckerberg Tops Warren Buffett...\\n1924    Uber and Lyft are demolishing New York City ta...\\n1925    Stock market drops 400 points after Trump\\'s at...\\n1926                   Bitcoin up 15% in the last 2 hours\\n1927                    Fed raises interest rate by 0.25%\\n1928    Amazon reportedly pulls plans to expand into n...\\n1929    Tesla\\'s mass firings spread to SolarCity as em...\\n1930    If you bought a 20 year Treasury in Nov 1999 a...\\n1931    US exported 89,000 more barrels of crude oil a...\\n1932                 I don\\'t see the point in buying gold\\n1933    Amazon reveals a new plan to deliver more pack...\\n1934    Dow Jones Industrial Average Breaks 20K for Fi...\\n1935    does anyone here have friends and family still...\\n1936    Jobs growth soars in November as payrolls surg...\\n1937    Yale economists argue that \"the most financial...\\n1938    Amazon earnings beat: $6.04 per share, vs. $5....\\n1939    U.S. stocks plunge after report that former na...\\n1940    Companies try to prevent people from trading G...\\n1941    BREAKING: Dow falls 240 points as Trump calls ...\\n1942    GME Dedicated Thread - Breaking: CNBC engages ...\\n1943                      Today is a dark day for traders\\n1944    Robinhood, which previously sold user informat...\\n1945    Biden to announce Stimulus in the “trillions” ...\\n1946    Netflix cancellations surge \\'materially\\' in th...\\n1947    My best friend committed suicide tonight becau...\\n1948    Best advice I\\'ve ever received: \"Poor people a...\\n1949    Today\\'s posts about NOK and AMC on this sub qu...\\n1950    Don\\'t be fooled. This IS The Market Crash: My DD.\\n1951           The Importance of whats happening with GME\\n1952    After 8 months of trial and error, hundreds of...\\n1953    Everyone all together. Say it with me: \"I have...\\n1954    Is anyone else pissed that people guilty of in...\\n1955    GME Infinite Gamma Squeeze | Gap In Option Mar...\\n1956    How messed up is our financial system that in ...\\n1957    GameStop jumps another 50% to above $100 at on...\\n1958    I built a program that spots buzzing stocks on...\\n1959    California to Ban Sale of Gas Powered Vehichle...\\n1960    The US stock market has now wiped out the enti...\\n1961        I hope you all make a shit ton of money today\\n1962    Tesla has surged past $525 billion in market v...\\n1963    Tesla passes Facebook to become fifth most val...\\n1964    Spreadsheet to calculate GME Exit Strategy, RO...\\n1965      To Everyone Telling the Amazon Kid to Diversify\\n1966                                      Sorry, I’m out.\\n1967    I wasted all my money until I started buying s...\\n1968    Anyone else hate the articles that say \"If you...\\n1969    So Coca-Cola decides to stop advertising on so...\\n1970    Trump to block U.S. downloads of TikTok, WeCha...\\n1971    Senator Dumped Up to $1.6 Million of Stock Aft...\\n1972    BREAKING: Apple targeting 2024 for car product...\\n1973    Lowe’s gives $100 million more in bonuses to h...\\n1974                    If you bought DoorDash at $180...\\n1975    Every day I don\\'t buy TSLA, is a day I wish I ...\\n1976    Microsoft reports 17% revenue growth as cloud ...\\n1977    ARKX. ARK invest Space Exploration ETF. SEC Fi...\\n1978    Can this sub work on being more welcoming to t...\\n1979                    We’re 7% away from history y’all.\\n1980    Investing is no longer just a way to get rich ...\\n1981    Tesla is \\'profoundly overvalued,\\' and its excl...\\n1982    DONALD TRUMP AND FIRST LADY MELANIA TRUMP TEST...\\n1983                           My 8 investing guidelines.\\n1984    I created an algo that tracks the most hyped s...\\n1985    Costco selling $17.5K private jet membership t...\\n1986              It\\'s okay not to gamble on meme stocks.\\n1987    Mexico approves landmark cannabis legalization...\\n1988           Biden just won it! Red or green on monday?\\n1989    This is the blip in the market before the next...\\n1990    Breaking: Trump administration begins transiti...\\n1991    Biden will move to implement his $2 trillion c...\\n1992    Do you guys regret not buying \"meme\" stocks po...\\n1993    Elon Musk says \"stock price is too high\" - sha...\\n1994    Please do something about these \"Recommend me ...\\n1995    Pfizer\\'s CEO sold $5.6 million in stock on sam...\\n1996    TESLA is worth more then FORD, FIAT CHRYSLER, ...\\n1997    U.S. tech stocks are now worth more than the e...\\n1998    Bill Gates could have been worth $800 billion ...\\n1999    Complete PLTR DD ahead of Demo Day (Valuation ...\\n2000                                      Just my luck...\\n2001    We are now in the 10th official bear market si...\\n2002    The Stock Market Phenomenon That New Investors...\\n2003                   Sharing my top companies with you.\\n2004                    Deteriorating quality of this sub\\n2005    Anyone want to play the $1000 to $1 million ga...\\n2006    I predict Amazon will acquire Lyft in the next...\\n2007    Home Depot is spending $1 billion to give thou...\\n2008    I said it: no idea how the stock market works....\\n2009     What is your #1 your best/worst market decision?\\n2010    To all that didn’t know stocks actually can go...\\n2011    Senate passes bill that could delist Chinese c...\\n2012    Less than 10 years ago Exxon was the most valu...\\n2013    This Sub Reddit is Hurting In the Respect Depa...\\n2014    Bezos sells more than $3 billion worth of Amaz...\\n2015    Elon Musk says Tesla Model S will now cost $69...\\n2016    Newly released documents show Amazon is a $3.9...\\n2017    Facebook is facing a $650 million lawsuit for ...\\n2018    Elon Musk will love this: Tesla short sellers ...\\n2019    I made an automatic stock tracker. I hope you ...\\n2020    More than 1,000 workers at the Tyson Foods pla...\\n2021                        Patience, patience, patience.\\n2022                                        Warren Buffet\\n2023    Worst recession since Great Depression = stock...\\n2024    Leak reveals $2tn of possibly corrupt US finan...\\n2025      u/Alby558 was correct about his uranium thesis.\\n2026    Jeff Bezos is asking laid-off restaurant and b...\\n2027                      This is why stocks are going up\\n2028    Dow futures jump 1,200 points as Pfizer, BioNt...\\n2029    Spotify (SPOT) buys full & exclusive rights to...\\n2030    is it possible to buy/sell stocks without post...\\n2031    Tesla reached its target of 500k vehicles desp...\\n2032    Covid Pfizer vaccine approved for use next wee...\\n2033                       Apple is now worth $2 trillion\\n2034    Tesla Short Sellers Lost $38 Billion in 2020 a...\\n2035                                       I did it today\\n2036    AMD Hopes To Earn $22 Billion Revenue In 2025 ...\\n2037                                Addicted to investing\\n2038    Congress agrees to $900 billion coronavirus st...\\n2039    Zoom likely shares their Encryption keys with ...\\n2040    Analysts and stock market “professionals” are ...\\n2041            A philosophy for the new (young) investor\\n2042    I have $213,000 in Apple (AAPL) stock, should ...\\n2043    Can we add a karma requirement or something to...\\n2044                                               Beware\\n2045    Why are so many people suddenly panicking when...\\n2046    Netflix to start cancelling inactive customers...\\n2047                                Nobody knows anything\\n2048    Zoom’s total revenue in 2017 was ~$60M. Today ...\\n2049    Tesla short-sellers have lost $18 billion this...\\n2050    Trump is requesting a stimulus that would be t...\\n2051                                    Investing in ETFs\\n2052                                    Nobody has a clue\\n2053    Tesla, Trading at $650, Gets $90 Price Target ...\\n2054    Netflix users \\'don\\'t really care\\' whether cont...\\n2055    The management of Hertz is selling their stock...\\n2056                       So guys.... wheres this crash?\\n2057    The five largest stocks now account for 20% of...\\n2058                $DASH pays $1.45/hr in a recent study\\n2059    Microsoft to work with Elon Musk\\'s SpaceX in c...\\n2060    Looks like Hyundai IS doing a joint partnershi...\\n2061                           Apple splitting shares 4:1\\n2062    US will pay $1.95 billion for Pfizer Inc to pr...\\n2063    GME $71 as of right now. Are you guys selling ...\\n2064            Tesla up 7% and Apple up 3.5% after split\\n2065    Stock-market wizard William O\\'Neil famously tu...\\n2066    Tesla rises 13% this morning and now has 2.98%...\\n2067                  NKLA admits faking prototype video.\\n2068     I can control the stock market with only 2 ETF\\'s\\n2069    Bill Gates is too right too often. How do we p...\\n2070    Infinite Short Squeeze Explained | Blue Appron...\\n2071                         Oil stocks - the time is now\\n2072                               To all young investors\\n2073    How I applied Buffet\\'s strategies to my own po...\\n2074    U.S. airlines sitting on $10 billion in travel...\\n2075    Today I sold the last of my NVDA shares. Its b...\\n2076    Nikola\\'s $36,000 quarterly revenue was from so...\\n2077                             MSFT to acquire Bethesda\\n2078               Roblox has filed an IPO with the NYSE.\\n2079    No one on the street cares about riots? Tell t...\\n2080    NBCUniversal CEO says its future releases will...\\n2081    Warren Buffett says the economy will overcome ...\\n2082       3.5 year journey: was down $5000, now up $6000\\n2083    Biden pushing to join Paris Climate Accord fir...\\n2084    Mexican states are banning sugary drinks such ...\\n2085    \\'Nightmare\\' U.S. stock valuations driven by \\'y...\\n2086    Amazon has a rare opportunity to snatch up che...\\n2087    If I could go back in time 20+ years, I never ...\\n2088    Las Vegas casinos are going to be in trouble -...\\n2089    If all you’re looking for growth stocks then h...\\n2090    Creating an Excel sheet that automatically doe...\\n2091    To anyone who invested aggressively in their 2...\\n2092                                 My Investing Roadmap\\n2093    \\'Don\\'t get greedy\\' — Mark Cuban warns investor...\\n2094    NIO Partners with NVIDIA to Develop a New Gene...\\n2095    Elon Musk says Tesla deliveries will rise 30% ...\\n2096    A guide for those looking to invest in Renewab...\\n2097                             I am having tough times.\\n2098    Moderna: Covid vaccine shows nearly 95% protec...\\n2099    Apple now has $191.83 billion in cash on hand ...\\n2100    Amazon Prime member total reaches 142 million ...\\n2101                Options Trading Basics for Beginners💥\\n2102    1,5 Years Since My Journey Began, $52 591 doll...\\n2103                     How can I invest in Cauliflower?\\n2104    Health Canada gives permission to some doctors...\\n2105    I do not understand how Tesla is worth $1100+ ...\\n2106    Tesla launches own tequila with crazy-looking ...\\n2107    Microsoft to buy jet fuel made with waste oil ...\\n2108    Tesla tells employees Model S and X production...\\n2109    Pros and cons of investing in 5 upcoming tech ...\\n2110            $AAPL Reveals 5nm Chip with A14 Processor\\n2111                              $PLTR wins FDA Contract\\n2112    You asked me to look into the renewable energy...\\n2113          🚀 ICLN above $30 for first time since 2008!\\n2114    50 million $TSLA shares bought yesterday which...\\n2115        The ACTUAL 15 most mentioned stocks on reddit\\n2116       Coronavirus is causing tons of insider trading\\n2117                           NVidia – Know What You Own\\n2118    How in the f^%# does air canada (AC) have cash...\\n2119                   Does Gen Z not know how to search?\\n2120            Calm dow, you only lose money if you sell\\n2121    Fed signals interest rates to stay near-zero t...\\n2122    Google just bought a car dealership and 5 acre...\\n2123                DASH and ABNB are both down 10% today\\n2124                                       Thank you all!\\n2125    Tilson Says Nikola\\'s Trevor Milton Will Land \\'...\\n2126                                    Finally sold NFLX\\n2127                          The Truth About Day Trading\\n2128    DoorDash, Roblox, Wish and Airbnb all expected...\\n2129    \"Tesla’s next factory is going to be in Austin...\\n2130    U.S. Imposes Sanctions on 11 Chinese Companies...\\n2131    I bought Tesla at 230$ but sold it at 320$ and...\\n2132    JPMorgan announces big moves to support enviro...\\n2133    We all know those in congress who sold off sto...\\n2134               Microsoft raises dividend by about 10%\\n2135    Amazon says it now has more than 1 million emp...\\n2136    Buy AAPL in front of 4:1 stock split. Stock sp...\\n2137    Tesla (TSLA) blows away earnings estimates (So...\\n2138    If you think the growing electric-car market w...\\n2139    iPhone sales steady while global smartphone sa...\\n2140    You have to put all your money into 5 stocks a...\\n2141                    Airbnb IPO date confirmed Dec. 10\\n2142    Tesla Will Hit 500,000 Deliveries for 2020, An...\\n2143    Nvidia pledges to build Britain’s largest supe...\\n2144    Trump Hospitalized at Walter Reed Hospital for...\\n2145    Seeking advice in this subreddit about what ce...\\n2146    Microsoft reveals more details about its \\'Netf...\\n2147    Musk Sets Sights on Selling 20 Million Teslas ...\\n2148    Tesla to sell up to $5 billion in stock amid r...\\n2149    Tesla\\'s secret new \\'million mile\\' battery clai...\\n2150                                         Take it Easy\\n2151                              A Reminder For Everyone\\n2152    Predict the best performing stock of 2021 and ...\\n2153               Nio Is the Next Tesla, Jim Cramer Says\\n2154    Boeing CEO did not say an airline would go ban...\\n2155    Apple Launches New iPhones Tuesday. Wall Stree...\\n2156                             Stay strong today folks.\\n2157        I’m more scared today than I was in the crash\\n2158    This sub desperately needs user flair indicati...\\n2159    Google is now denying almost everything Trump ...\\n2160    I lost ~5k to options when I first opened an a...\\n2161                  MSFT Destroys Earnings Expectations\\n2162                    MSFT Confirms talks to Buy TikTok\\n2163    Elon Musk plans to bring out IPO for SpaceX\\'s ...\\n2164    [meta] A ban on \"calm down\" and \"listen here k...\\n2165    Elon Musk Has Made Millionaires Out of His Mos...\\n2166    We made an automatic stock screener and portfo...\\n2167    The world cannot rely on China anymore and the...\\n2168    What are your next \"below 50$ / below 30$/belo...\\n2169    IMPORTANT: proposed SEC filing that will affec...\\n2170    Can anyone who has used Palantir let us know y...\\n2171    Cramer: Optimistic young investors see Elon Mu...\\n2172                      Tesla Is Now Worth $400 Billion\\n2173    Apple’s first-day pre-orders for iPhone 12 sur...\\n2174                                Uber is in deep shit.\\n2175    Tesla’s stock will be added to the S&P 500 in ...\\n2176         $PLTR announce new contract with the US Army\\n2177    Apple announces event for Nov. 10 where new Ma...\\n2178    Forbes on Electric Truck Startup Going Public ...\\n2179    Disney reports 58% drop in sales from parks an...\\n2180    Electric vehicle sales expected to grow 50% in...\\n2181    Netflix was the best-performing stock of the d...\\n2182    MGM announces its will reopen more hotels on J...\\n2183        Traders beware scam on r/stocks Aaron Maxwell\\n2184    California votes to require electric trucks, 6/25\\n2185    Starbucks launches the Impossible Foods Breakf...\\n2186    Losses of Apple, Amazon and Facebook bring dow...\\n2187    AMD stock heads toward record high after beati...\\n2188                              1940s Stock Certificate\\n2189                    High Growth Stocks for Q2/Q3 2020\\n2190            I\\'m happy to admit that I\\'m a total idiot\\n2191    Elon Musk\\'s Boring Company buys industrial sit...\\n2192    Starbucks bans staff from wearing Black Lives ...\\n2193    Amazon hiring 100,000 workers in U.S. and Cana...\\n2194    \"Big 3\" investing has NOT beat the S&P500 in t...\\n2195    May unemployment rate comes in at 13.3%, bette...\\n2196    A record 20.5 million jobs were lost in April ...\\n2197    Amazon orders 1,800 Mercedes-Benz electric van...\\n2198    Walmart is teaming up with Microsoft on TikTok...\\n2199    If you’re young with a high risk tolerance, is...\\n2200    October 29th, 1929 the last day of the stock m...\\n2201                          Mental health and awareness\\n2202    Trump signs bills that could delist Chinese St...\\n2203    Tesla prepared to move out of California amid ...\\n2204    People who invested in stocks during the 2008 ...\\n2205                          Is it worth investing $100?\\n2206    Newer investors: Be careful about chasing hype...\\n2207    Boeing has spent over 50% of it\\'s current mark...\\n2208    Thank you Federal Reserve for forcing me to co...\\n2209    Tesla stock price target boosted to $2,000 by ...\\n2210    Mark Cuban says Amazon stock will keep going \\'...\\n2211    Posted about NIO 6 months ago and got 3 upvote...\\n2212    Tell me why I shouldn\\'t dump all my life savin...\\n2213    Can\\'t make sense of this market, so I\\'m still ...\\n2214    I don’t understand it, I didn’t realise until ...\\n2215    DOW dropping 600 points in the first hour and ...\\n2216               Cathie Wood to Retain Control Over ARK\\n2217    My Portfolio: Outperforming S&P 500 By 3x, For...\\n2218    [Meta] Instead of all of these posts asking \"w...\\n2219    Cathie Wood thinks that the Genomics sector ca...\\n2220                                    Crossed 2k Today!\\n2221    Stock trading halted for 15 minutes after the ...\\n2222    Tomorrow: “Why isn’t my trading platform worki...\\n2223    Tesla’s market value hits more than $600B for ...\\n2224    U.S. may need another 1 billion square feet of...\\n2225                      r/Stocks hits 1M subscribers!!!\\n2226    Upcoming netflix free membership plan with adv...\\n2227    As soon as Warren Buffett says airline is scre...\\n2228    Tesla posts 4th consecutive profit, its now el...\\n2229                  Palantir $22.5M contract with Japan\\n2230    How many “I’m a teenager” posts do we think ar...\\n2231                            Who will Apple buy first?\\n2232    Amazon\\'s stock gets 27 price target increases ...\\n2233                            Stop feeling like a loser\\n2234    Apple [AAPL] Stock Price Predictions | Buy or ...\\n2235    Short sellers betting against Tesla lose more ...\\n2236    Chipotle to open its first digital-only restau...\\n2237    Remdesivir \\'has little or no effect\\' on surviv...\\n2238    Coinbase\\'s expected market cap at IPO is $64.7...\\n2239                        TikTok rejects Microsoft deal\\n2240    Wall Street is preemptively positioning retail...\\n2241    SpaceX raised more than the $500 million it wa...\\n2242    Warren Buffett’s Berkshire buys Dominion Energ...\\n2243    Morgan Stanley says \\'NIO is a strong EV leader...\\n2244    Walmart second-quarter results crush estimates...\\n2245    Gradually exiting out of your position is a se...\\n2246    If you had 3k to invest in your first stocks, ...\\n2247    Warren Buffett is MORE LIKELY to purchase an i...\\n2248    Amazon to lease 12 more Boeing cargo jets for ...\\n2249    Microsoft says Teams communication app has rea...\\n2250    This old YouTube channel about stock analysis ...\\n2251    Microsoft (MSFT) and Apple (AAPL) are Now Bigg...\\n2252    Apple sues recycling company for allegedly re-...\\n2253                   Nokia pump (by hedgefunds I think)\\n2254    Kamala Harris mentioning clean energy and othe...\\n2255    Vietnam scolds Netflix, Apple for lack of tax ...\\n2256    Tesla to start operations in India next year -...\\n2257    iPhone price wars are back as carriers compete...\\n2258    Citron has struck again, shorted Lazr to $20, ...\\n2259    US May retail sales surge 17.7% in the biggest...\\n2260    Buffet\\'s stock market indicator is signalling ...\\n2261    Do you think the senators will be prosecuted f...\\n2262    \"Big 3 investing\" has beaten the S&P 500 the p...\\n2263    Tesla will soar 15% to record highs on China d...\\n2264    S.Korea bans share short selling for six month...\\n2265    Elon Musk says Tesla has now produced 1 millio...\\n2266    Demand from China could help Tesla exceed its ...\\n2267    Wall Street Week Ahead for the trading week be...\\n2268    Trying something new: A small portfolio alloca...\\n2269    S&P 500 adds three companies not named Tesla, ...\\n2270    Who else takes a sigh of relief come Friday si...\\n2271           NIO price target raised to $75 by JPMorgan\\n2272            Carnival posts 4.4 billion quarterly loss\\n2273        30% of Americans missed June housing payments\\n2274    ‘Deal of a decade’: How buying TikTok could tr...\\n2275                                   NIO DAY HIGHLIGHTS\\n2276    The amount of insider trading with IPOs is dis...\\n2277    Dunkin’ to Be Sold to Inspire Brands for $11.3...\\n2278              Nio stock gets upgrade at Goldman Sachs\\n2279    Chinese banks ordered to sacrifice $211 billio...\\n2280    Hertz expects stockholders to lose all money, ...\\n2281     WSJ breaking news: Hertz prepping for bankruptcy\\n2282    Amazon\\'s price target increased to $2,800 and ...\\n2283    15 yrs old, no bills so i’m putting every chec...\\n2284    Apple’s iPhone sales have lagged in India for ...\\n2285    Nvidia Seeing \\'Massive Demand\\' For Graphics Ca...\\n2286    Trump Administration Seeks to Delist U.S.-List...\\n2287    Wall Street Week Ahead for the trading week be...\\n2288    Bank of America is raising its minimum wage fo...\\n2289    JPMorgan Chase takes on Square and PayPal with...\\n2290    Wall Street Week Ahead for the trading week be...\\n2291    PSA for my fellow new traders: Don\\'tpanic buy ...\\n2292    For those who are wondering when is a good tim...\\n2293    Coronavirus crisis sparks 2,500% increase in O...\\n2294    Bought $500 worth of NAT at this morning’s hig...\\n2295    Beyond Meat (BYND) fundamental analysis with m...\\n2296    Opinion/Rant: When there is a true bottom/rece...\\n2297    Wall Street Week Ahead for the trading week be...\\n2298    Jim Cramer\\'s checklist of what an investor sho...\\n2299                           Influx of new sub members.\\n2300              Microsoft (MSFT) Could Hit $300 in 2021\\n2301    NIO November deliveries hit a new monthly reco...\\n2302    iPhone 12 launches in China to strong demand d...\\n2303    Why did people view Microsoft as a \"sleepy\" te...\\n2304         Don\\'t worry stocks are about to turn around.\\n2305    PepsiCo quarterly revenue grows 5.3%, fueled b...\\n2306    If you could pick three stocks to buy and hold...\\n2307    Boeing suspends dividend, CEO foregoes pay aft...\\n2308    Nikola Founder Exaggerated the Capability of H...\\n2309    Clean Energy ETFs - ICLN vs. QCLN vs. PBW - In...\\n2310    For Those Who Don\\'t Understand the Inevitable ...\\n2311                  I bought Tesla Yesterday. Caved in.\\n2312    Michael Jordan joins DraftKings as Special Adv...\\n2313                        The mods need to do something\\n2314    JPow buying junk bonds really means he\\'s baili...\\n2315    Short Sellers Made Over $50 Billion During Cor...\\n2316    China\\'s ByteDance seeks $60 billion TikTok val...\\n2317    Here is a Market Recap for today Mon, Oct 19, ...\\n2318    Lululemon buys home fitness start-up for $500 ...\\n2319    Created a list of under valued stocks for you ...\\n2320    A discussion about “time in the market vs timi...\\n2321    Beyond Meat down 29% after-hours after missing...\\n2322    Apple expected to add up to $100 billion to bu...\\n2323    Is $NKLA the next Theranos? I\\'m shorting this ...\\n2324    FDA grants ‘emergency use’ coronavirus test th...\\n2325    A concise guide to shorting stocks, calls, and...\\n2326    ARK investments just purchased 500k worth of P...\\n2327    California Passes First-In-Nation Plastics Rec...\\n2328    AMD announces deal to buy Xilinx at 35B all stock\\n2329              If you’re long NKLA, don’t be afraid...\\n2330    Tesla secures $565 million loan for Shanghai f...\\n2331    Finally got tired of looking at my stocks and ...\\n2332    Farmers Are Buying Up Old Tractors Because New...\\n2333              Anyone else bored as fuck holding cash?\\n2334    “The stock market isn’t a snapshot of the econ...\\n2335    After another 6.6 million jobless, the markets...\\n2336                 Zoom sued for alleged privacy breach\\n2337       We don\\'t need 10 different TSLA posts a day...\\n2338    I\\'ve recently got into stocks and created a se...\\n2339    Delta suspends US flights to Milan, Italy; wil...\\n2340                                     Sex Dolls stocks\\n2341        i became a profitable trader after being -20%\\n2342    Facebook\\'s put play from yesterday. Im 20, tim...\\n2343          I\\'ve never been more excited about Mondays!\\n2344    General manager of NIO Germany, recently met w...\\n2345    DIS - Florida Hits New Coronavirus Record, Dis...\\n2346    GameStop soars nearly 70%, trading briefly hal...\\n2347    Companies that fail to tackle climate change w...\\n2348    Best sources to learn about stocks and investing?\\n2349    \\'Mulan\\' release leads to 68% spike in Disney+ ...\\n2350    German company allegedly cons Warren Buffett o...\\n2351    Home Depot adapts 2020 holiday shopping season...\\n2352    Buffett: \\'I would disagree quite violently\\' wi...\\n2353                         The Tesla Bull Case in Brief\\n2354    Almost 10 million shares of Apple sold the min...\\n2355    I\\'m starting to believe the market is being ar...\\n2356    Amazon will now let Prime members pick which d...\\n2357    Palantir Adds $17 Billion in Value in Best Wee...\\n2358    How would an equal weighted GOOGL MSFT AAPL po...\\n2359    Disney to forego dividend payment for the firs...\\n2360    Bloomberg article on Reddit\\'s Profane, Greedy ...\\n2361    DraftKings stock jumps after reporting third-q...\\n2362    U.S. weekly jobless claims fell to 963,000 las...\\n2363    Cloud gaming battle heats up as Amazon enters ...\\n2364    Stock futures up as Trump\\'s tweets on stimulus...\\n2365    Moderna stock surges 17% on coronavirus vaccin...\\n2366                  How is Tesla Stock not in a bubble?\\n2367                                   WTH just happened?\\n2368    Largest U.S. Pension Bought Up EV Stocks Nikol...\\n2369    Oil plummets 30%!!!! this will be one of the b...\\n2370        The technical background to Intel\\'s problems.\\n2371    ByteDance offers to forgo stake in TikTok to c...\\n2372    Delta’s test of free in-flight Wi-Fi may shame...\\n2373                     Corona virus declared a Pandemic\\n2374    Created a list of under valued stocks for you ...\\n2375    Carnival Cruise Lines to begin phasing in crui...\\n2376       AMD CEO sold $15.9 millions worth of AMD stock\\n2377    Dow set to drop 400 points on report of first ...\\n2378    What stock that even if profitable you refuse ...\\n2379    Breaking: BABA down 7.5% in Hong Kong after Ch...\\n2380    Which stocks do you think will have explosive ...\\n2381    Tesla shares fall after company announces $2 b...\\n2382    Covid-19 vaccine developer $AZN is reporting \"...\\n2383    $INTC up 14% premarket | Intel CEO Bob Swan to...\\n2384             Dow is currently off 1,000 in pre-market\\n2385    European stocks drop and Dow futures slide 400...\\n2386                             Citron shorting Palantir\\n2387                                         Exciting day\\n2388    Deceased Grandma bought me Disney stock 20 yea...\\n2389    Rant: why ask about a stock if you’re going to...\\n2390    About to liquidate the 75% of the positions I ...\\n2391    US is now 3rd on the list of countries with mo...\\n2392    Target raises its minimum wage to $13 an hour,...\\n2393                                     Heads up on CCL!\\n2394    NIO shorts have lost at least $2.66 billion th...\\n2395    My investments now total $100. I am no longer ...\\n2396    If 95% of hedge funds can’t beat the markets w...\\n2397             Financial Due Diligence - Guide [Part 1]\\n2398    Musk says Tesla\\'s pickup will cost under $50,0...\\n2399               Shopify grows revenue 97%, GMV up 119%\\n2400    The top ten selling products of the Great Depr...\\n2401    Dow futures drop 500 points, pressured by worr...\\n2402     Likely pulling out tomorrow. Good luck redditors\\n2403    So is this just a straight up free fall at thi...\\n2404    Bank of America posts 45% decline in first qua...\\n2405    Tesla Stock Hits $780 Raising More Than 80% Si...\\n2406    Stocks under 15B Market cap with high growth p...\\n2407             Tesla short sellers have lost $8 billion\\n2408    New investors, risk doesn’t always lead to a g...\\n2409    I am long on TSLA, but sold today 40% of my sh...\\n2410             Tesla stock hits $500 for the first time\\n2411            Apple has €13bn Irish tax bill overturned\\n2412    The moment AAPL announced ending partnership w...\\n2413    Lawmakers agree to $2 trillion stimulus early ...\\n2414      Netflix earnings are out – here are the numbers\\n2415    Amazon upgraded as analysts forecast the e-com...\\n2416    Is There A Software For Finding Stocks That Bo...\\n2417                                   Palantir explained\\n2418    How are Trump\\'s \"Getting VERY close to a BIG D...\\n2419    Breaking: ANT group ordered by China to “retur...\\n2420    Apple and Netflix Discussed Acquiring ‘Bond’ M...\\n2421                             A leaderboard for stocks\\n2422    Dr. Michael Burry says passive investing is ex...\\n2423                   Popular Investing Books Summarized\\n2424    Unpopular opinion- it\\'s okay not to buy at the...\\n2425            PYPL is developing an e-commerce platform\\n2426                             Is Tesla a bubble? $TSLA\\n2427    Chinese firms that fail U.S. accounting standa...\\n2428    Ever think about paying for a discord? Don\\'t. ...\\n2429               Coronavirus cases top 200000 worldwide\\n2430    Airbus warns staff it is ‘bleeding cash at an ...\\n2431    NIO Inc. Provides December, Fourth Quarter and...\\n2432    US created 20,000 jobs in February, vs 180,000...\\n2433             AAPL price drops 5% as it beats earnings\\n2434    Retailers are reporting record online sales du...\\n2435                 r/stocks is not your personal google\\n2436    This is the time to start getting a list of yo...\\n2437           UK pilots new, game changing COVID-19 test\\n2438                    A Historical Look at the Airlines\\n2439    PSA: Understand the gravity of the situation i...\\n2440    Apple will produce 1 million face shields per ...\\n2441    Beyond Meat’s market cap is bigger than 25% of...\\n2442    If you invested in the Nikkei 225 at its all t...\\n2443    JPMorgan internal document on climate change s...\\n2444    Bailout timings are manipulating the market, n...\\n2445    Looking for a \"Build your own ETF\" website - d...\\n2446    How do investment firms and companies in gener...\\n2447    For the bears expecting a big downturn, what w...\\n2448    Greek Government and Palantir Reaffirm Digital...\\n2449    China told Trump that it\\'s willing to spend $1...\\n2450    Dow futures sink 500 points as market pullback...\\n2451    Tesla stock is wrapping up its best month sinc...\\n2452    Everything you need to know about Shorting: Ra...\\n2453    Beyond Meat stock soars 15% after McDonald’s a...\\n2454          Wrong AMC: AMZN rumored to buy AMC Networks\\n2455    Uber and Lyft close at record lows as investor...\\n2456           Armed group attack Pakistan stock exchange\\n2457                                      I love you guys\\n2458    American Hospital Association estimating 480,0...\\n2459                        US GDP Q2 contracted by 32.9%\\n2460    Weed is a commodity now. Betting on a weed sto...\\n2461      Does anyone else think that WMT is undervalued?\\n2462    Tesla just surpassed Walmart in market value. ...\\n2463                                PLUG +20% after-hours\\n2464     Friendly reminder for those new to the market...\\n2465    PSA: Please be extremely careful with your hol...\\n2466    I predict Amazon will be the largest print adv...\\n2467    Wall Street Week Ahead for the trading week be...\\n2468                                     NIO just hit $15\\n2469                                  ARK Funds dividends\\n2470    Amazon can already ship to 72% of US populatio...\\n2471    As Tesla shares rise, Elon Musk stands to scor...\\n2472                One of the worst feeling about stocks\\n2473    Tesla to acquire German battery assembly maker...\\n2474    Wall Street Week Ahead for the trading week be...\\n2475    Continuing our investing journey from PLTR to ...\\n2476    Would anyone be interested in an AMA from a re...\\n2477    Electric Car Sales More Than Double In World\\'s...\\n2478                        5 Mistakes new investors make\\n2479    According to GnS Economics, Zombie Firms Accou...\\n2480    Some interesting news in the stock market this...\\n2481                              Thank you redditvestors\\n2482    Beyond Meat shares soar 31% as company teams u...\\n2483    Any good ETFs to buy and hold long term which ...\\n2484         What do analyst recommendations really mean?\\n2485    Trump denies coronavirus to pump up markets bu...\\n2486    Tesla can get support for German factory: Econ...\\n2487    Disney’s streaming business is already worth m...\\n2488    Recently started investing and its time to rel...\\n2489    Jeff Bezos: Amazon is still ‘small’—90% of US ...\\n2490                             Top Stock Picks for 2020\\n2491    Tesla poised to hit $100 billion market cap, s...\\n2492             Restaurant stocks have fallen 42% so far\\n2493    Theoretically if you use a trading algorithm t...\\n2494    Alphabet, Google’s parent company, hits trilli...\\n2495                               DEAD CAT BOUNCE TODAY?\\n2496    \"Would you put your family on the 737 max?\" \"I...\\n2497    Tesla stock casually the highest it\\'s ever bee...\\n2498    Buy? - Toyota expects profit to drop 80% this ...\\n2499    Beyond Meat shares plunge 20% despite solid re...\\n2500                                                 PZZA\\n2501          Upcoming IPOs: Date and Expected Market Cap\\n2502    Tesla has a secret lab trying to build its own...\\n2503    I Read The News So You Don\\'t Have To - Market ...\\n2504    Beyond Meat stock climbs 13% as Starbucks plan...\\n2505    NIO Manufacturing TL;DR (with currencies trans...\\n2506    Tesla meets self-imposed deadline for Model 3,...\\n2507    For those thinking of investing now for the lo...\\n2508                  Tesla down 6,32% as of truck reveal\\n2509    Boeing’s 737 Max Software Outsourced to $9-an-...\\n2510    Musk to Tesla employees: \\'Our stock will immed...\\n2511    In 2015 India had 9% of its population connect...\\n2512                                     Don\\'t worry guys\\n2513    Alibaba cloud growth outpaces Amazon and Micro...\\n2514                                     TESLA BREAKS 1k.\\n2515                          Update on my loss (-1,7mln)\\n2516    Beyond Meat’s competitor Impossible Foods plan...\\n2517    It\\'s official: US stocks suffer worst year sin...\\n2518    DoorDash said to raise IPO valuation to $28 bi...\\n2519    Nikola Stock Crash | Alibaba Stock Plunges | D...\\n2520              Anyone remember from a few weeks ago...\\n2521                  Unpopular Opinion: It\\'s mostly luck\\n2522    Amazon founder Bezos\\' divorce final with $38 b...\\n2523    Elon Musk said Tesla cars should have all the ...\\n2524    Found an old AOL Time Warner stock certificate...\\n2525                     Now is the time to take on risk.\\n2526                 My Renewable Energy Portfolio Update\\n2527    Tesla could eventually reach a trillion-dollar...\\n2528    Be fearful when others are greedy and greedy w...\\n2529    Google is getting close to breaking Amazon rec...\\n2530    Investing vs Trading: A reminder of tax implic...\\n2531    Some interesting news in the stock market this...\\n2532    2 yrs ago, Cathie said TSLA at $4k/share. That...\\n2533    How big of a deal would it be for Iran’s Supre...\\n2534    Is GME currently in the short-squeeze (up 20% ...\\n2535    AT&T (NYSE: T) - An excellent opportunity for ...\\n2536    Tesla tops Wall Street estimated with 112,000 ...\\n2537    NIO to unveil 150kWh battery on NIO Day taking...\\n2538    Tesla drops 5% on the non-news that Battery Da...\\n2539    Elon Musk at Tesla shareholder meeting: ‘It wo...\\n2540    Unpopular Opinion: Keep buying stocks at price...\\n2541          Netflix shares down 11% after earnings miss\\n2542     Morgan Stanley is Buying E*Trade for $13 Billion\\n2543    Please try to remember you bought shares in th...\\n2544    Wall Street Week Ahead for the trading week be...\\n2545    Are stock analysts/price targets just one big ...\\n2546    Tariff man strikes again - Trump says U.S. to ...\\n2547                  This Forbes article is a must read!\\n2548    While we were clouded with news about the Iran...\\n2549    I just feel like I need to tell someone, and I...\\n2550    I thought there was supposed to be 2nd quarter...\\n2551    Warning to Robinhood users regarding the 1099 ...\\n2552    I draw with crayons so you don\\'t have to. Last...\\n2553    Saudis Plan Big Oil Output Hike, Beginning All...\\n2554    Goldman Sachs just dramatically cut its outloo...\\n2555    Here is a Market Recap for today Wed, Oct 14, ...\\n2556    Amazon adding 33K corporate jobs with average ...\\n2557    Netflix CEO admits there will be ‘tough compet...\\n2558    The stock market has gone 104 consecutive days...\\n2559    Warren Buffett might still be right about the ...\\n2560                     RIP Jack Welch, former CEO of GE\\n2561    Livongo Health and Teladoc are merging in a $1...\\n2562    Stocks plunge, trigger circuit breaker after F...\\n2563    I\\'m expecting this dip to at least double in t...\\n2564        Where are all the robotic agriculture stocks?\\n2565    Google to acquire Fitbit, valuing the smartwat...\\n2566                                            I give up\\n2567                  Starbucks suspends social media ads\\n2568     Facebook fined $5 billion for privacy violations\\n2569    Beyond Meat breakfast sandwiches are now avail...\\n2570    The opportunity for a massive silver rally, on...\\n2571             Where are all the dead cat bounce posts?\\n2572    Disney an early streaming winner as Americans ...\\n2573    Google (GOOGL) is reportedly planning to launc...\\n2574    Finally figured out what is happening with the...\\n2575    Huawei says US ban will cost it $30 billion in...\\n2576    FB advertisers pulling out after $100 Billion ...\\n2577                                Market Cap Milestones\\n2578    After being down for months I sold OAS at a +1...\\n2579    Apple’s annual cash bonanza arrives as other c...\\n2580    American Airlines cancels 12bn worth of Airbus...\\n2581    Anyone going to buy more NVIDIA after recent r...\\n2582    Microsoft could buy TikTok for as much as $30 ...\\n2583    Warren Buffett\\'s Berkshire Hathaway to buy $25...\\n2584    ZooM, is it pure trash after reading 10-K stat...\\n2585    E-Trade cuts commissions to zero along with re...\\n2586    Shares of China’s Luckin Coffee plummet 80% af...\\n2587    Ex Uber CEO Travis Kalanick sells 20% of his s...\\n2588          This subreddit stock picking is incredible!\\n2589         Netflix to Begin Offering Games, Stock up 4%\\n2590    Get ready for this Thursday. It will be a very...\\n2591    Don\\'t get angry at people for not investing th...\\n2592    Is $TSLA in a bubble or was it just ridiculous...\\n2593                      Recent news regarding PALANTIR:\\n2594    Disney shares jump more than 6% as Disney+ sub...\\n2595    I made a portfolio optimisation tool spreadshe...\\n2596    After losing 10k during Corona Virus I\\'ve fina...\\n2597               Worst is yet to come...CARE Act & 401K\\n2598    Important Earnings This Week: Alibaba, PayPal,...\\n2599    If you bought SPY at the first second of regul...\\n2600    Google veterans: The company has become ‘unrec...\\n2601    Beyond Meat is now larger than 80 S&P 500 comp...\\n2602    Possible Virus Case Traps 7,000 on Carnival Cr...\\n2603    Some interesting news in the stock market this...\\n2604    I Read The News So You Don\\'t Have To - Market ...\\n2605    Sign The Petition: Retail Investors Demand Mar...\\n2606                          AMD about to test 50 day MA\\n2607    Boeing has uncovered another potential design ...\\n2608    China pmi out now, worse then 2008, a new reco...\\n2609                           Girlfriend makes fun of me\\n2610                Sprint stock jumps 40% in after hours\\n2611    Barron\\'s says a yellow light is flashing. The ...\\n2612    Frankly tanks 38% soon after its recommended b...\\n2613    I wrote an algorithm to quantify fear of finan...\\n2614    Google investing $1 billion to fight Bay Area ...\\n2615    My company does a stock value guessing game ea...\\n2616    Some interesting news on value stocks in the s...\\n2617                              RIP Activision Blizzard\\n2618    Chevron to buy Noble Energy (NBL) in $5 billio...\\n2619    How Microsoft became the market’s indispensabl...\\n2620    Fujitsu signs $8M contract as Palantir Foundry...\\n2621    [OC] Tesla is now bigger (in market cap) than ...\\n2622    BA: Boeing set to resume test flights for Max ...\\n2623    Wall Street Week Ahead for the trading week be...\\n2624    I Read The News So You Don\\'t Have To - Market ...\\n2625    Packaging Deep Dive- the new battleground betw...\\n2626    Rate My Portfolio - r/Stocks Quarterly Thread ...\\n2627     Preparing for Tesla\\'s inclusion into the S&P 500\\n2628    Assuming a crash is imminent, what are you pic...\\n2629    One year ago OP bought $500,000 of EA. It was ...\\n2630    Former Boeing Engineers Say Relentless Cost-Cu...\\n2631    Reminder that the Dow Jones initially rose aft...\\n2632    Trump administration projects about 3,000 coro...\\n2633    Tesla gets approval to start manufacturing in ...\\n2634    Whole Foods will slash prices on hundreds of i...\\n2635    Amazon\\'s culture is reportedly so hard on work...\\n2636    $MSFT gets price target upgraded from $229 to ...\\n2637       Warren Buffett’s Investment Tips For Beginners\\n2638    I made a cheat sheet on how to analyze stocks ...\\n2639    [8 months ago] \"My dad has $1.8 million dollar...\\n2640    DraftKings (DKNG) acquires Bundesliga live str...\\n2641    Charles Schwab is eliminating commissions for ...\\n2642    Tesla’s outpacing its electric car competitors...\\n2643         Nasdaq100 Officially down 20% In Bear Market\\n2644    Hi /r/stocks, I made a tool that allows you to...\\n2645    Stock market news | Santa Claus stock effect u...\\n2646                         Manual on reading financials\\n2647                                 Thanks /u/catfarts99\\n2648    Jobs report is in! Unemployment down to 3.9% f...\\n2649    Snapchat popularity among millennials plummets...\\n2650              HYLN: Did I fall for the pump and dump?\\n2651    Short or buy puts on anything to do with oil. ...\\n2652    Remindme Bot alerted me on a thread after a ye...\\n2653        The GOAT Hedge Fund: Renaissance Technologies\\n2654    Stock Market News for Today |LMND, NIO, WMT, J...\\n2655             TD Ameritrade also going commission free\\n2656    Trying to understand options. If 1 contract co...\\n2657                How to Actively Trade Around Earnings\\n2658    $GME class action lawsuit is would be cheaper ...\\n2659    Apple Music has reportedly passed Spotify in p...\\n2660                                      Palantir...how?\\n2661    Encouragement for those FOMOing on certain trades\\n2662    Tesla just announced Q2 deliveries way above e...\\n2663    Just a reminder to please take investment advi...\\n2664                     Holding for 10 years minimum! :)\\n2665    Given Tesla’s 10% tax break in China, coupled ...\\n2666    American Airlines is cancelling 90 flights a d...\\n2667    Chipotle stock tumbles after New York City sue...\\n2668             Sold a bunch of stocks to buy more TESLA\\n2669    Here is a Market Recap for today Thurs, Oct 15...\\n2670    SoftBank plans to sell up to $21 billion worth...\\n2671    Microsoft stock rises on revenue and earnings ...\\n2672    Beyond Meat (BYND) is currently priced at 100x...\\n2673    Stock Market News Today | APHA & TLRY Merge | ...\\n2674    What are your opinions about today\\'s Cloudflar...\\n2675                  Reddit Traders are dicks.... (Vent)\\n2676    China to Inject $174B of Liquidity on Monday a...\\n2677    In the stock market, it’s become Apple, Micros...\\n2678        This Youtube channel is criminally underrated\\n2679    One of the first ships to resume cruising is h...\\n2680                              So I passed my Series 7\\n2681    Uber CEO: ‘We are very, very, very different f...\\n2682    Analyst slaps sell rating on Beyond Meat, says...\\n2683              Microsoft betting on GM driverless Tech\\n2684    Barclays: Netflix stock is ‘very expensive’ as...\\n2685    Google Spreadsheet with my Favourite Stocks (u...\\n2686                          APT will come crashing down\\n2687    Video-conferencing company Zoom files to go pu...\\n2688              Is Blackberry $BB actually undervalued?\\n2689    \\'You know who you are!’: Jeff Bezos challenges...\\n2690    Investors are flocking to the largest US growt...\\n2691    Biden\\'s campaign promise to build 500,000 char...\\n2692    Rate My Portfolio - r/Stocks Quarterly Thread ...\\n2693    Amazon’s quest for constant growth is not leav...\\n2694                            Beyond Meat files for IPO\\n2695                        AOC is our only lobbyist now!\\n2696    PSA: This is a good time to be skeptical of EV...\\n2697    JP Morgan expects Apple shares to rise over 20...\\n2698    American Airlines cancels all 737 Max flights ...\\n2699    Opened my investment account and bought my fir...\\n2700                     Jack Bogle, 89, Vanguard founder\\n2701    Tesla Finally Dumps NVIDIA Claims Their Own Ch...\\n2702                                       Welcome $HYLN!\\n2703    Amazon donates $3 million to Virginia homeless...\\n2704    GME Either Squeezes or Gets Delisted - Who Wil...\\n2705    \\'shareholder value is no longer the main objec...\\n2706             This is how you know if a stock is a buy\\n2707    Palantir closes up 21% on report of $44 millio...\\n2708    UPDATE: Google is now agreeing with almost eve...\\n2709    What companies will benefit greatly if the FCC...\\n2710           Airbnb IPO: $40 Billion Dollar Market Cap?\\n2711    Saudi Arabia won\\'t continue its additional oil...\\n2712                                 Buy and Hold Forever\\n2713    Netflix tanks after whiffing on global paid su...\\n2714    I sold NIO when they were 1.78$ and missed out...\\n2715                Before you buy Tesla please read this\\n2716    Netflix stock rises 5%, just two days after a ...\\n2717    McDonald\\'s will no longer lobby against minimu...\\n2718    China’s GDP growth could be half of reported n...\\n2719    Norwegian Cruise Line says there\\'s \\'substantia...\\n2720    Kraft shares tumble 7% after delayed 10Q filin...\\n2721    Equifax used \\'admin\\' as the login and password...\\n2722    Thailand to start legal action vs Facebook, Go...\\n2723                             SHOP just hit $800 - ATH\\n2724    If 90% of day traders lose money, and there is...\\n2725    Under Armour\\'s Outlook \"Abysmal\", shares plung...\\n2726    Walmart’s e-commerce biz is reportedly racking...\\n2727    Report: Senate Decriminalizes Marijuana Use In...\\n2728    Microsoft, once considered a stodgy software m...\\n2729    Amazon investors want the company to address w...\\n2730    I Read The News So You Don\\'t Have To - Market ...\\n2731    Twitter Shares Plunge 17% as Monthly Users Dec...\\n2732    Netflix adds 8.7 million subscribers in Q4, cr...\\n2733    Apple cancels AirPower, the wireless charging ...\\n2734    Amazon buys Boeing jets from Delta, WestJet as...\\n2735    Zoom\\'s market cap dashes past Lowes, Phillip M...\\n2736    MSFT looking to purchase all of Tick Tock, not...\\n2737    The first 20% Drop Was Due To A Supply Shock A...\\n2738    Dow makes sudden 700+ point turnaround into th...\\n2739    Airbnb\\'s market cap is now bigger than the com...\\n2740    Remember the guy who bought $500k in AMD stock...\\n2741             This \"end of pandemic\" run is delusional\\n2742    Just saw a post that said “500 point drop to 1...\\n2743    Bank of America ends business with detention c...\\n2744    Some interesting news in the stock market this...\\n2745    Thank you to all you common sense duckers that...\\n2746    Kraft Heinz falls after second-largest shareho...\\n2747                                             Success!\\n2748    Are there any good YouTube channels that teach...\\n2749    Trump wants $2000 checks instead of $600. Anyo...\\n2750    Rate My Portfolio - r/Stocks Quarterly Thread ...\\n2751    Wall Street expects Boeing to take another big...\\n2752    Roku is growing even faster than Netflix did a...\\n2753    Wall Street Week Ahead for the trading week be...\\n2754    Apple paid up to $6 billion to settle with Qua...\\n2755    Pro Tip: If you are not mentally and emotional...\\n2756    Stocks for Socks - 1 Million Subscriber Charit...\\n2757                    Some advice to all new investors.\\n2758    Aurora Cannabis shares surge after hiring bill...\\n2759    GE freezes pensions for 20,000 employees; stoc...\\n2760    How to find smaller companies with higher grow...\\n2761    Rate My Portfolio - r/Stocks Quarterly Thread ...\\n2762    Tesla shares rise on report that the company i...\\n2763    We are currently in the second worst December ...\\n2764    Dollar Tree to close up to 390 Family Dollar s...\\n2765    Let\\'s get a few things straight about masks an...\\n2766                     NBA JUST SUSPENDED THE SEASON!!!\\n2767             Cold call the companies you invest in!!!\\n2768                      Sold USO at an overall 40% loss\\n2769    Dow futures drop 680 points as coronavirus cas...\\n2770    Uber co-founder Travis Kalanick is on pace to ...\\n2771    Trump: \"WSJ report about the trade deal is com...\\n2772    Beyond Meat surges after JP Morgan says sell-o...\\n2773    I challenged myself to turn $1500 into $10,000...\\n2774    Peloton plunges after investor says the stock ...\\n2775    Python for Algorithmic Trading and Investing t...\\n2776                               GME short squeeze +40%\\n2777                                   AMC Short Squeeze?\\n2778    U.S. Considers Adding Alibaba, Tencent to Chin...\\n2779           What it’s like to lose $1.7 million a day.\\n2780    Post your 2020 Picks for 2030 and reasoning be...\\n2781    Invest in Tyson. one third of chinas hog herd ...\\n2782                          NFLX went from $420 to $295\\n2783    Palantir releases information on Project Gotha...\\n2784    ELI5 - How can the price for Live Nation, a co...\\n2785                  The state of this sub at the moment\\n2786    Tesla starts brutal review of contractors, fir...\\n2787                                       TSLA valuation\\n2788    Charles Schwab in talks to buy TD Ameritrade, ...\\n2789    Interesting Stock Market Fact of the day: US s...\\n2790    Tesla\\'s Model Y wins 5-star safety rating from...\\n2791    AAPL receives $10B a year from GOOG to make Go...\\n2792    Nike earnings beat, sales rise, as Jordan bran...\\n2793    I Read The News So You Don\\'t Have To - Market ...\\n2794    No market crash anytime sooner - \"Coronavirus ...\\n2795    I created a spreadsheet that automates pulling...\\n2796    Hi Everyone, /r/stocks is back to public. Ther...\\n2797    Walmart + Home Depot + Target + Costco + Lowes...\\n2798    “California just passed a major privacy law th...\\n2799     I purchased a discounted 3 years of Motley Fool.\\n2800    Wall Street billionaire to President Trump: ‘S...\\n2801                 For newbies dreaming of a green PLTR\\n2802    Investing success story of someone with modest...\\n2803                           Thank you to the community\\n2804    Over 600 U.S. companies urge Trump to resolve ...\\n2805                              Did... did we do this??\\n2806    What is a True Market Leader (TML) + And how t...\\n2807       Apple rises on big earnings beat, iPhone sales\\n2808    Netflix\\'s Reed Hastings is Yahoo Finance CEO o...\\n2809    Analysts don\\'t know what to make of Uber\\'s $10...\\n2810    I Read The News So You Don\\'t Have To - Market ...\\n2811                                AMD and future growth\\n2812    Brendan Schaub claims that his friend Joe Roga...\\n2813    How would you feel about a subreddit for europ...\\n2814         Solar or diversfied renewable energy stocks?\\n2815    With AMD reporting earnings on Tuesday, and In...\\n2816    Amazon Stock Price Target Prediction & Analysi...\\n2817    Boeing shares fall 4% after Bank of America do...\\n2818    Why Microsoft may really be worth $1,300,000,0...\\n2819                           r/stocks in read only mode\\n2820    Taking out Profits and Exit Strategies, a shor...\\n2821    Amazon demands selfies from delivery drivers t...\\n2822    Square co-founder Tristan O\\'Tierney dies at ag...\\n2823    Trump’s ‘incredible deal’ with China doesn’t a...\\n2824    Facebook security breach, 50 million accounts ...\\n2825    What was your biggest gain on a single stock a...\\n2826    Understanding common misconceptions surroundin...\\n2827    “Far more money has been lost by investors pre...\\n2828    Salesforce to buy Tableau Software in $15.7 bi...\\n2829    Can we stop calling it a correction every time...\\n2830                        Selling majority of my stocks\\n2831    Tesla shares fall after analyst says Elon Musk...\\n2832    Wall Street Week Ahead for the trading week be...\\n2833    Tesla Takes Short Seller to Court, Saying He M...\\n2834       S&P closing red for it\\'s 11th straight session\\n2835    Kevin O\\'Leary dumps Apple stock over transpare...\\n2836                               Be careful on YouTube.\\n2837    West Virginia Online Casino Finally Goes Live ...\\n2838    DraftKings Seeking Early Entry Into Illinois S...\\n2839                                      YouTube Finance\\n2840             Drug Prices might drop because of Amazon\\n2841    (Serious) does anyone else get extremely antsy...\\n2842                                   Why is it going up\\n2843    A simple stock investing strategy my dad taugh...\\n2844    $TEUM admits to inflating financial reports; D...\\n2845    Pfizer Vaccine 95% Effective in Final Data; Fu...\\n2846    American Airlines cancels Boeing 737 Max fligh...\\n2847                  Is anyone still shorting right now?\\n2848    PSA for new investors: Following people on Twi...\\n2849    Coca-Cola thinks Americans are finally ready f...\\n2850    Interest stock market fact of the day: Cash is...\\n2851       Boeing 737 missing after take off in Indonesia\\n2852    Coronavirus in China is not undercontrol poten...\\n2853    AT&T jumps 9% after activist Elliott Managemen...\\n2854    This new business from Amazon represents a ‘$1...\\n2855    How 3M Plans to Make More Than a Billion Masks...\\n2856    A top Tesla analyst raised his ‘bull case’ for...\\n2857    $FB has no debt, sitting on $40B in cash, and ...\\n2858                                           BB vs. GME\\n2859                   The only reason I\\'m bearish still.\\n2860    Trump proposes $100 billion in new tariffs on ...\\n2861                                 Living Off Dividends\\n2862    Dow drops 1,300 points as losses worsen amid W...\\n2863    Friendly reminder: declining market not the sa...\\n2864    Southwest Boeing 737 Max reportedly made an em...\\n2865                                Posting is restricted\\n2866    NIO: Revenue Could Skyrocket From Intel Robota...\\n2867    What would happen to Amazon’s stock if Bezos m...\\n2868    QCOM Vs. AAPL settlement. How I lost the oppor...\\n2869    Disney+ streaming service will be available st...\\n2870    We created a Sheet with the 5 main ARK ETF\\'s h...\\n2871    Watching this collapse of oil in real time is ...\\n2872    U.S. Stocks Sink in Worst Day Since Black Mond...\\n2873    Wells Fargo takes $1.6 billion hit linked to f...\\n2874    I Read The News So You Don\\'t Have To - Market ...\\n2875    Expect marijuana legalization this summer: Tru...\\n2876    Citron Pulls Plug On NIO, Says Valuation \\'Can ...\\n2877       Free Dividend Tracking Software Canada and USA\\n2878    How can companies like Uber, Lyft, Beyond Meat...\\n2879    Merry Xmas! S&P On Track To Knock Out Second Y...\\n2880    Can someone explain how options work like I’m ...\\n2881                Gilead virus treatment flops in trial\\n2882    I Read The News So You Don\\'t Have To - Market ...\\n2883    Positivity for newbies without a lot of $ to i...\\n2884    In 5 years, Tesla\\'s marketcap increased by ≈ 3...\\n2885    I Read The News So You Don\\'t Have To - Market ...\\n2886    The measures I use to determine if a stock is ...\\n2887    Dyson, the British appliances company founded ...\\n2888    Salesforce announces it’s moving Marketing Clo...\\n2889    Trump says US will impose 5% tariff on all Mex...\\n2890                                 Stocks for 30 years?\\n2891    Intel tried to bribe VU University Amsterdam i...\\n2892    Cigarette Stocks Tank as FDA begins Discussion...\\n2893                                   $750,000 to invest\\n2894    EU regulators hit Google with $1.7 billion fin...\\n2895    A list of 26 US companies that have increased ...\\n2896                                 I bought TSLA @$1770\\n2897    Stocks to buy if you think Bernie Sanders will...\\n2898    Tesla says its ex-employee caused $167 million...\\n2899    Warren Buffett comments on GE\\'s accounting and...\\n2900                             I love the stock market.\\n2901    Here is a Market Recap for today Thurs, Sept 2...\\n2902    Buffett said Berkshire Hathaway Has Been Buyin...\\n2903    Uber CEO says its service will probably shut d...\\n2904                   TSLA: One Man\\'s Valuation of Tesla\\n2905    Tyson Foods launches full-scale attack on Beyo...\\n2906    I Read The News So You Don\\'t Have To -- Market...\\n2907    Some interesting news in the stock market this...\\n2908    Amazon\\'s giant \\'dystopian\\' delivery-drone blim...\\n2909                                         So it begins\\n2910                    Tesla given green light in Europe\\n2911    Global stocks are in the red this morning as U...\\n2912    NIO to launch 2 back to back sedans in challen...\\n2913    I bought Slack at $34.41, shares are now $21.6...\\n2914    Amazon is spending billions on internet satell...\\n2915    Nintendo shares surge more than 16% after tie-...\\n2916    The Stock Market Thread for the trading week b...\\n2917    The Chicago Cubs Name DraftKings Their First O...\\n2918    All inventory Model S and Model X cars now com...\\n2919     GE makes it official, lowers dividend to a penny\\n2920    DID WE MISS THE BOTTOM?! How are people this i...\\n2921                             Favorite Solar Stock(s)?\\n2922                    \"NIO forms battery asset company\"\\n2923    Amazon is building a $1.5 billion hub for its ...\\n2924                            Weed legalized in Canada!'"
            ]
          },
          "metadata": {
            "tags": []
          },
          "execution_count": 63
        }
      ]
    },
    {
      "cell_type": "code",
      "metadata": {
        "id": "_qyq1o1LZ9Q5"
      },
      "source": [
        "import re\r\n",
        "wordList = re.sub(\"[^\\w]\", \" \",  all_values).split()"
      ],
      "execution_count": 64,
      "outputs": []
    },
    {
      "cell_type": "code",
      "metadata": {
        "id": "u-zTA1DOaiAc"
      },
      "source": [
        "unique_wordList = set(wordList)"
      ],
      "execution_count": 66,
      "outputs": []
    },
    {
      "cell_type": "code",
      "metadata": {
        "id": "F2XueY9Zexh3"
      },
      "source": [
        "unique_wordList = list(unique_wordList)"
      ],
      "execution_count": 97,
      "outputs": []
    },
    {
      "cell_type": "code",
      "metadata": {
        "id": "NnvwoavRapa0"
      },
      "source": [
        "def compare_data(data1,data2):\r\n",
        "  imp_stocks = list()\r\n",
        "  for i in data1:\r\n",
        "    if i in data2:\r\n",
        "      imp_stocks.append(i)\r\n",
        "  return imp_stocks"
      ],
      "execution_count": 102,
      "outputs": []
    },
    {
      "cell_type": "code",
      "metadata": {
        "colab": {
          "base_uri": "https://localhost:8080/"
        },
        "id": "6NGtMC_9e9fB",
        "outputId": "5e8e0e4b-f83e-4772-b697-7aa803af4141"
      },
      "source": [
        "type(stock_names)"
      ],
      "execution_count": 100,
      "outputs": [
        {
          "output_type": "execute_result",
          "data": {
            "text/plain": [
              "list"
            ]
          },
          "metadata": {
            "tags": []
          },
          "execution_count": 100
        }
      ]
    },
    {
      "cell_type": "code",
      "metadata": {
        "colab": {
          "base_uri": "https://localhost:8080/"
        },
        "id": "DN94M9-2e_kt",
        "outputId": "b9fa852a-1828-4b4b-e25b-24da5a357a18"
      },
      "source": [
        "type(unique_wordList)"
      ],
      "execution_count": 101,
      "outputs": [
        {
          "output_type": "execute_result",
          "data": {
            "text/plain": [
              "list"
            ]
          },
          "metadata": {
            "tags": []
          },
          "execution_count": 101
        }
      ]
    },
    {
      "cell_type": "code",
      "metadata": {
        "id": "M6dGVkOpecOv"
      },
      "source": [
        "stocks_on_trending = compare_data(unique_wordList,stock_names)"
      ],
      "execution_count": 103,
      "outputs": []
    },
    {
      "cell_type": "code",
      "metadata": {
        "colab": {
          "base_uri": "https://localhost:8080/"
        },
        "id": "eXnarcI4emfq",
        "outputId": "82c23f12-b239-4187-93b4-439e2ecc6a92"
      },
      "source": [
        "stocks_on_trending"
      ],
      "execution_count": 104,
      "outputs": [
        {
          "output_type": "execute_result",
          "data": {
            "text/plain": [
              "['CCL', '549', 'TIL']"
            ]
          },
          "metadata": {
            "tags": []
          },
          "execution_count": 104
        }
      ]
    },
    {
      "cell_type": "code",
      "metadata": {
        "colab": {
          "base_uri": "https://localhost:8080/",
          "height": 128
        },
        "id": "4drJ8-8Afv47",
        "outputId": "bc8f42fc-ad59-4095-e8d6-db3f67a9a9aa"
      },
      "source": [
        "def word_count(str):\r\n",
        "  counts = dict()\r\n",
        "  words = str.split()\r\n",
        "\tfor word in words:\r\n",
        "\t  if word in counts:\r\n",
        "\t    counts[word] += 1\r\n",
        "\t  else:\r\n",
        "\t    counts[word] = 1\r\n",
        "\treturn counts"
      ],
      "execution_count": 115,
      "outputs": [
        {
          "output_type": "error",
          "ename": "TabError",
          "evalue": "ignored",
          "traceback": [
            "\u001b[0;36m  File \u001b[0;32m\"<ipython-input-115-56d177055571>\"\u001b[0;36m, line \u001b[0;32m4\u001b[0m\n\u001b[0;31m    for word in words:\u001b[0m\n\u001b[0m                      ^\u001b[0m\n\u001b[0;31mTabError\u001b[0m\u001b[0;31m:\u001b[0m inconsistent use of tabs and spaces in indentation\n"
          ]
        }
      ]
    },
    {
      "cell_type": "code",
      "metadata": {
        "id": "rxHgoZUFhBNe"
      },
      "source": [
        ""
      ],
      "execution_count": null,
      "outputs": []
    },
    {
      "cell_type": "code",
      "metadata": {
        "id": "SbZ5W_25hA_h"
      },
      "source": [
        ""
      ],
      "execution_count": null,
      "outputs": []
    },
    {
      "cell_type": "code",
      "metadata": {
        "id": "U40IkHBchA8d"
      },
      "source": [
        ""
      ],
      "execution_count": null,
      "outputs": []
    }
  ]
}